{
  "cells": [
    {
      "cell_type": "markdown",
      "metadata": {
        "id": "9G7gbmK4dYky"
      },
      "source": [
        "**Fine Tuned Model for Prediction & Web Hosting**\n",
        "\n",
        "Load necessary libraries and read the dataset"
      ]
    },
    {
      "cell_type": "code",
      "execution_count": null,
      "metadata": {
        "id": "kcLcPXyq7h0C"
      },
      "outputs": [],
      "source": [
        "# to import all libraries\n",
        "import numpy as np\n",
        "import pandas as pd\n",
        "import matplotlib.pyplot as plt\n",
        "import seaborn as sns\n",
        "# remove warnings\n",
        "import warnings\n",
        "warnings.filterwarnings('ignore')"
      ]
    },
    {
      "cell_type": "code",
      "execution_count": null,
      "metadata": {
        "id": "QeFpV12v9GjN"
      },
      "outputs": [],
      "source": [
        "data=pd.read_csv('/content/diabetic_data.csv')"
      ]
    },
    {
      "cell_type": "code",
      "execution_count": null,
      "metadata": {
        "colab": {
          "base_uri": "https://localhost:8080/",
          "height": 359
        },
        "id": "xP970yCy9MNO",
        "outputId": "149e01d3-167e-4fde-f437-e466db1b4863"
      },
      "outputs": [
        {
          "output_type": "execute_result",
          "data": {
            "text/plain": [
              "   encounter_id  patient_nbr             race  gender      age weight  \\\n",
              "0       2278392      8222157        Caucasian  Female   [0-10)      ?   \n",
              "1        149190     55629189        Caucasian  Female  [10-20)      ?   \n",
              "2         64410     86047875  AfricanAmerican  Female  [20-30)      ?   \n",
              "3        500364     82442376        Caucasian    Male  [30-40)      ?   \n",
              "4         16680     42519267        Caucasian    Male  [40-50)      ?   \n",
              "\n",
              "   admission_type_id  discharge_disposition_id  admission_source_id  \\\n",
              "0                  6                        25                    1   \n",
              "1                  1                         1                    7   \n",
              "2                  1                         1                    7   \n",
              "3                  1                         1                    7   \n",
              "4                  1                         1                    7   \n",
              "\n",
              "   time_in_hospital  ... citoglipton insulin  glyburide-metformin  \\\n",
              "0                 1  ...          No      No                   No   \n",
              "1                 3  ...          No      Up                   No   \n",
              "2                 2  ...          No      No                   No   \n",
              "3                 2  ...          No      Up                   No   \n",
              "4                 1  ...          No  Steady                   No   \n",
              "\n",
              "   glipizide-metformin  glimepiride-pioglitazone  metformin-rosiglitazone  \\\n",
              "0                   No                        No                       No   \n",
              "1                   No                        No                       No   \n",
              "2                   No                        No                       No   \n",
              "3                   No                        No                       No   \n",
              "4                   No                        No                       No   \n",
              "\n",
              "   metformin-pioglitazone  change diabetesMed readmitted  \n",
              "0                      No      No          No         NO  \n",
              "1                      No      Ch         Yes        >30  \n",
              "2                      No      No         Yes         NO  \n",
              "3                      No      Ch         Yes         NO  \n",
              "4                      No      Ch         Yes         NO  \n",
              "\n",
              "[5 rows x 50 columns]"
            ],
            "text/html": [
              "\n",
              "  <div id=\"df-0450ea32-e372-4966-be16-6c0e45afba32\" class=\"colab-df-container\">\n",
              "    <div>\n",
              "<style scoped>\n",
              "    .dataframe tbody tr th:only-of-type {\n",
              "        vertical-align: middle;\n",
              "    }\n",
              "\n",
              "    .dataframe tbody tr th {\n",
              "        vertical-align: top;\n",
              "    }\n",
              "\n",
              "    .dataframe thead th {\n",
              "        text-align: right;\n",
              "    }\n",
              "</style>\n",
              "<table border=\"1\" class=\"dataframe\">\n",
              "  <thead>\n",
              "    <tr style=\"text-align: right;\">\n",
              "      <th></th>\n",
              "      <th>encounter_id</th>\n",
              "      <th>patient_nbr</th>\n",
              "      <th>race</th>\n",
              "      <th>gender</th>\n",
              "      <th>age</th>\n",
              "      <th>weight</th>\n",
              "      <th>admission_type_id</th>\n",
              "      <th>discharge_disposition_id</th>\n",
              "      <th>admission_source_id</th>\n",
              "      <th>time_in_hospital</th>\n",
              "      <th>...</th>\n",
              "      <th>citoglipton</th>\n",
              "      <th>insulin</th>\n",
              "      <th>glyburide-metformin</th>\n",
              "      <th>glipizide-metformin</th>\n",
              "      <th>glimepiride-pioglitazone</th>\n",
              "      <th>metformin-rosiglitazone</th>\n",
              "      <th>metformin-pioglitazone</th>\n",
              "      <th>change</th>\n",
              "      <th>diabetesMed</th>\n",
              "      <th>readmitted</th>\n",
              "    </tr>\n",
              "  </thead>\n",
              "  <tbody>\n",
              "    <tr>\n",
              "      <th>0</th>\n",
              "      <td>2278392</td>\n",
              "      <td>8222157</td>\n",
              "      <td>Caucasian</td>\n",
              "      <td>Female</td>\n",
              "      <td>[0-10)</td>\n",
              "      <td>?</td>\n",
              "      <td>6</td>\n",
              "      <td>25</td>\n",
              "      <td>1</td>\n",
              "      <td>1</td>\n",
              "      <td>...</td>\n",
              "      <td>No</td>\n",
              "      <td>No</td>\n",
              "      <td>No</td>\n",
              "      <td>No</td>\n",
              "      <td>No</td>\n",
              "      <td>No</td>\n",
              "      <td>No</td>\n",
              "      <td>No</td>\n",
              "      <td>No</td>\n",
              "      <td>NO</td>\n",
              "    </tr>\n",
              "    <tr>\n",
              "      <th>1</th>\n",
              "      <td>149190</td>\n",
              "      <td>55629189</td>\n",
              "      <td>Caucasian</td>\n",
              "      <td>Female</td>\n",
              "      <td>[10-20)</td>\n",
              "      <td>?</td>\n",
              "      <td>1</td>\n",
              "      <td>1</td>\n",
              "      <td>7</td>\n",
              "      <td>3</td>\n",
              "      <td>...</td>\n",
              "      <td>No</td>\n",
              "      <td>Up</td>\n",
              "      <td>No</td>\n",
              "      <td>No</td>\n",
              "      <td>No</td>\n",
              "      <td>No</td>\n",
              "      <td>No</td>\n",
              "      <td>Ch</td>\n",
              "      <td>Yes</td>\n",
              "      <td>&gt;30</td>\n",
              "    </tr>\n",
              "    <tr>\n",
              "      <th>2</th>\n",
              "      <td>64410</td>\n",
              "      <td>86047875</td>\n",
              "      <td>AfricanAmerican</td>\n",
              "      <td>Female</td>\n",
              "      <td>[20-30)</td>\n",
              "      <td>?</td>\n",
              "      <td>1</td>\n",
              "      <td>1</td>\n",
              "      <td>7</td>\n",
              "      <td>2</td>\n",
              "      <td>...</td>\n",
              "      <td>No</td>\n",
              "      <td>No</td>\n",
              "      <td>No</td>\n",
              "      <td>No</td>\n",
              "      <td>No</td>\n",
              "      <td>No</td>\n",
              "      <td>No</td>\n",
              "      <td>No</td>\n",
              "      <td>Yes</td>\n",
              "      <td>NO</td>\n",
              "    </tr>\n",
              "    <tr>\n",
              "      <th>3</th>\n",
              "      <td>500364</td>\n",
              "      <td>82442376</td>\n",
              "      <td>Caucasian</td>\n",
              "      <td>Male</td>\n",
              "      <td>[30-40)</td>\n",
              "      <td>?</td>\n",
              "      <td>1</td>\n",
              "      <td>1</td>\n",
              "      <td>7</td>\n",
              "      <td>2</td>\n",
              "      <td>...</td>\n",
              "      <td>No</td>\n",
              "      <td>Up</td>\n",
              "      <td>No</td>\n",
              "      <td>No</td>\n",
              "      <td>No</td>\n",
              "      <td>No</td>\n",
              "      <td>No</td>\n",
              "      <td>Ch</td>\n",
              "      <td>Yes</td>\n",
              "      <td>NO</td>\n",
              "    </tr>\n",
              "    <tr>\n",
              "      <th>4</th>\n",
              "      <td>16680</td>\n",
              "      <td>42519267</td>\n",
              "      <td>Caucasian</td>\n",
              "      <td>Male</td>\n",
              "      <td>[40-50)</td>\n",
              "      <td>?</td>\n",
              "      <td>1</td>\n",
              "      <td>1</td>\n",
              "      <td>7</td>\n",
              "      <td>1</td>\n",
              "      <td>...</td>\n",
              "      <td>No</td>\n",
              "      <td>Steady</td>\n",
              "      <td>No</td>\n",
              "      <td>No</td>\n",
              "      <td>No</td>\n",
              "      <td>No</td>\n",
              "      <td>No</td>\n",
              "      <td>Ch</td>\n",
              "      <td>Yes</td>\n",
              "      <td>NO</td>\n",
              "    </tr>\n",
              "  </tbody>\n",
              "</table>\n",
              "<p>5 rows × 50 columns</p>\n",
              "</div>\n",
              "    <div class=\"colab-df-buttons\">\n",
              "\n",
              "  <div class=\"colab-df-container\">\n",
              "    <button class=\"colab-df-convert\" onclick=\"convertToInteractive('df-0450ea32-e372-4966-be16-6c0e45afba32')\"\n",
              "            title=\"Convert this dataframe to an interactive table.\"\n",
              "            style=\"display:none;\">\n",
              "\n",
              "  <svg xmlns=\"http://www.w3.org/2000/svg\" height=\"24px\" viewBox=\"0 -960 960 960\">\n",
              "    <path d=\"M120-120v-720h720v720H120Zm60-500h600v-160H180v160Zm220 220h160v-160H400v160Zm0 220h160v-160H400v160ZM180-400h160v-160H180v160Zm440 0h160v-160H620v160ZM180-180h160v-160H180v160Zm440 0h160v-160H620v160Z\"/>\n",
              "  </svg>\n",
              "    </button>\n",
              "\n",
              "  <style>\n",
              "    .colab-df-container {\n",
              "      display:flex;\n",
              "      gap: 12px;\n",
              "    }\n",
              "\n",
              "    .colab-df-convert {\n",
              "      background-color: #E8F0FE;\n",
              "      border: none;\n",
              "      border-radius: 50%;\n",
              "      cursor: pointer;\n",
              "      display: none;\n",
              "      fill: #1967D2;\n",
              "      height: 32px;\n",
              "      padding: 0 0 0 0;\n",
              "      width: 32px;\n",
              "    }\n",
              "\n",
              "    .colab-df-convert:hover {\n",
              "      background-color: #E2EBFA;\n",
              "      box-shadow: 0px 1px 2px rgba(60, 64, 67, 0.3), 0px 1px 3px 1px rgba(60, 64, 67, 0.15);\n",
              "      fill: #174EA6;\n",
              "    }\n",
              "\n",
              "    .colab-df-buttons div {\n",
              "      margin-bottom: 4px;\n",
              "    }\n",
              "\n",
              "    [theme=dark] .colab-df-convert {\n",
              "      background-color: #3B4455;\n",
              "      fill: #D2E3FC;\n",
              "    }\n",
              "\n",
              "    [theme=dark] .colab-df-convert:hover {\n",
              "      background-color: #434B5C;\n",
              "      box-shadow: 0px 1px 3px 1px rgba(0, 0, 0, 0.15);\n",
              "      filter: drop-shadow(0px 1px 2px rgba(0, 0, 0, 0.3));\n",
              "      fill: #FFFFFF;\n",
              "    }\n",
              "  </style>\n",
              "\n",
              "    <script>\n",
              "      const buttonEl =\n",
              "        document.querySelector('#df-0450ea32-e372-4966-be16-6c0e45afba32 button.colab-df-convert');\n",
              "      buttonEl.style.display =\n",
              "        google.colab.kernel.accessAllowed ? 'block' : 'none';\n",
              "\n",
              "      async function convertToInteractive(key) {\n",
              "        const element = document.querySelector('#df-0450ea32-e372-4966-be16-6c0e45afba32');\n",
              "        const dataTable =\n",
              "          await google.colab.kernel.invokeFunction('convertToInteractive',\n",
              "                                                    [key], {});\n",
              "        if (!dataTable) return;\n",
              "\n",
              "        const docLinkHtml = 'Like what you see? Visit the ' +\n",
              "          '<a target=\"_blank\" href=https://colab.research.google.com/notebooks/data_table.ipynb>data table notebook</a>'\n",
              "          + ' to learn more about interactive tables.';\n",
              "        element.innerHTML = '';\n",
              "        dataTable['output_type'] = 'display_data';\n",
              "        await google.colab.output.renderOutput(dataTable, element);\n",
              "        const docLink = document.createElement('div');\n",
              "        docLink.innerHTML = docLinkHtml;\n",
              "        element.appendChild(docLink);\n",
              "      }\n",
              "    </script>\n",
              "  </div>\n",
              "\n",
              "\n",
              "<div id=\"df-b5b36cc5-3c3e-4ec6-8bb1-658e49df774c\">\n",
              "  <button class=\"colab-df-quickchart\" onclick=\"quickchart('df-b5b36cc5-3c3e-4ec6-8bb1-658e49df774c')\"\n",
              "            title=\"Suggest charts\"\n",
              "            style=\"display:none;\">\n",
              "\n",
              "<svg xmlns=\"http://www.w3.org/2000/svg\" height=\"24px\"viewBox=\"0 0 24 24\"\n",
              "     width=\"24px\">\n",
              "    <g>\n",
              "        <path d=\"M19 3H5c-1.1 0-2 .9-2 2v14c0 1.1.9 2 2 2h14c1.1 0 2-.9 2-2V5c0-1.1-.9-2-2-2zM9 17H7v-7h2v7zm4 0h-2V7h2v10zm4 0h-2v-4h2v4z\"/>\n",
              "    </g>\n",
              "</svg>\n",
              "  </button>\n",
              "\n",
              "<style>\n",
              "  .colab-df-quickchart {\n",
              "      --bg-color: #E8F0FE;\n",
              "      --fill-color: #1967D2;\n",
              "      --hover-bg-color: #E2EBFA;\n",
              "      --hover-fill-color: #174EA6;\n",
              "      --disabled-fill-color: #AAA;\n",
              "      --disabled-bg-color: #DDD;\n",
              "  }\n",
              "\n",
              "  [theme=dark] .colab-df-quickchart {\n",
              "      --bg-color: #3B4455;\n",
              "      --fill-color: #D2E3FC;\n",
              "      --hover-bg-color: #434B5C;\n",
              "      --hover-fill-color: #FFFFFF;\n",
              "      --disabled-bg-color: #3B4455;\n",
              "      --disabled-fill-color: #666;\n",
              "  }\n",
              "\n",
              "  .colab-df-quickchart {\n",
              "    background-color: var(--bg-color);\n",
              "    border: none;\n",
              "    border-radius: 50%;\n",
              "    cursor: pointer;\n",
              "    display: none;\n",
              "    fill: var(--fill-color);\n",
              "    height: 32px;\n",
              "    padding: 0;\n",
              "    width: 32px;\n",
              "  }\n",
              "\n",
              "  .colab-df-quickchart:hover {\n",
              "    background-color: var(--hover-bg-color);\n",
              "    box-shadow: 0 1px 2px rgba(60, 64, 67, 0.3), 0 1px 3px 1px rgba(60, 64, 67, 0.15);\n",
              "    fill: var(--button-hover-fill-color);\n",
              "  }\n",
              "\n",
              "  .colab-df-quickchart-complete:disabled,\n",
              "  .colab-df-quickchart-complete:disabled:hover {\n",
              "    background-color: var(--disabled-bg-color);\n",
              "    fill: var(--disabled-fill-color);\n",
              "    box-shadow: none;\n",
              "  }\n",
              "\n",
              "  .colab-df-spinner {\n",
              "    border: 2px solid var(--fill-color);\n",
              "    border-color: transparent;\n",
              "    border-bottom-color: var(--fill-color);\n",
              "    animation:\n",
              "      spin 1s steps(1) infinite;\n",
              "  }\n",
              "\n",
              "  @keyframes spin {\n",
              "    0% {\n",
              "      border-color: transparent;\n",
              "      border-bottom-color: var(--fill-color);\n",
              "      border-left-color: var(--fill-color);\n",
              "    }\n",
              "    20% {\n",
              "      border-color: transparent;\n",
              "      border-left-color: var(--fill-color);\n",
              "      border-top-color: var(--fill-color);\n",
              "    }\n",
              "    30% {\n",
              "      border-color: transparent;\n",
              "      border-left-color: var(--fill-color);\n",
              "      border-top-color: var(--fill-color);\n",
              "      border-right-color: var(--fill-color);\n",
              "    }\n",
              "    40% {\n",
              "      border-color: transparent;\n",
              "      border-right-color: var(--fill-color);\n",
              "      border-top-color: var(--fill-color);\n",
              "    }\n",
              "    60% {\n",
              "      border-color: transparent;\n",
              "      border-right-color: var(--fill-color);\n",
              "    }\n",
              "    80% {\n",
              "      border-color: transparent;\n",
              "      border-right-color: var(--fill-color);\n",
              "      border-bottom-color: var(--fill-color);\n",
              "    }\n",
              "    90% {\n",
              "      border-color: transparent;\n",
              "      border-bottom-color: var(--fill-color);\n",
              "    }\n",
              "  }\n",
              "</style>\n",
              "\n",
              "  <script>\n",
              "    async function quickchart(key) {\n",
              "      const quickchartButtonEl =\n",
              "        document.querySelector('#' + key + ' button');\n",
              "      quickchartButtonEl.disabled = true;  // To prevent multiple clicks.\n",
              "      quickchartButtonEl.classList.add('colab-df-spinner');\n",
              "      try {\n",
              "        const charts = await google.colab.kernel.invokeFunction(\n",
              "            'suggestCharts', [key], {});\n",
              "      } catch (error) {\n",
              "        console.error('Error during call to suggestCharts:', error);\n",
              "      }\n",
              "      quickchartButtonEl.classList.remove('colab-df-spinner');\n",
              "      quickchartButtonEl.classList.add('colab-df-quickchart-complete');\n",
              "    }\n",
              "    (() => {\n",
              "      let quickchartButtonEl =\n",
              "        document.querySelector('#df-b5b36cc5-3c3e-4ec6-8bb1-658e49df774c button');\n",
              "      quickchartButtonEl.style.display =\n",
              "        google.colab.kernel.accessAllowed ? 'block' : 'none';\n",
              "    })();\n",
              "  </script>\n",
              "</div>\n",
              "\n",
              "    </div>\n",
              "  </div>\n"
            ],
            "application/vnd.google.colaboratory.intrinsic+json": {
              "type": "dataframe",
              "variable_name": "data"
            }
          },
          "metadata": {},
          "execution_count": 3
        }
      ],
      "source": [
        "data.head()"
      ]
    },
    {
      "cell_type": "markdown",
      "metadata": {
        "id": "h5nEgSNQdvV2"
      },
      "source": [
        "We notice '?' in many fields, it refers to the missing values and hence replace with NaN"
      ]
    },
    {
      "cell_type": "code",
      "execution_count": null,
      "metadata": {
        "id": "ZKcLzGpWKL5b"
      },
      "outputs": [],
      "source": [
        "# to replace '?' with NaN\n",
        "data.replace(to_replace=\"?\",value=np.NaN,inplace=True)"
      ]
    },
    {
      "cell_type": "code",
      "execution_count": null,
      "metadata": {
        "colab": {
          "base_uri": "https://localhost:8080/"
        },
        "id": "C9USX8NJfR-7",
        "outputId": "802fd8fc-e841-4f97-acde-5a125faf03d5"
      },
      "outputs": [
        {
          "output_type": "stream",
          "name": "stdout",
          "text": [
            "<class 'pandas.core.frame.DataFrame'>\n",
            "RangeIndex: 101766 entries, 0 to 101765\n",
            "Data columns (total 50 columns):\n",
            " #   Column                    Non-Null Count   Dtype \n",
            "---  ------                    --------------   ----- \n",
            " 0   encounter_id              101766 non-null  int64 \n",
            " 1   patient_nbr               101766 non-null  int64 \n",
            " 2   race                      99493 non-null   object\n",
            " 3   gender                    101766 non-null  object\n",
            " 4   age                       101766 non-null  object\n",
            " 5   weight                    3197 non-null    object\n",
            " 6   admission_type_id         101766 non-null  int64 \n",
            " 7   discharge_disposition_id  101766 non-null  int64 \n",
            " 8   admission_source_id       101766 non-null  int64 \n",
            " 9   time_in_hospital          101766 non-null  int64 \n",
            " 10  payer_code                61510 non-null   object\n",
            " 11  medical_specialty         51817 non-null   object\n",
            " 12  num_lab_procedures        101766 non-null  int64 \n",
            " 13  num_procedures            101766 non-null  int64 \n",
            " 14  num_medications           101766 non-null  int64 \n",
            " 15  number_outpatient         101766 non-null  int64 \n",
            " 16  number_emergency          101766 non-null  int64 \n",
            " 17  number_inpatient          101766 non-null  int64 \n",
            " 18  diag_1                    101745 non-null  object\n",
            " 19  diag_2                    101408 non-null  object\n",
            " 20  diag_3                    100343 non-null  object\n",
            " 21  number_diagnoses          101766 non-null  int64 \n",
            " 22  max_glu_serum             5346 non-null    object\n",
            " 23  A1Cresult                 17018 non-null   object\n",
            " 24  metformin                 101766 non-null  object\n",
            " 25  repaglinide               101766 non-null  object\n",
            " 26  nateglinide               101766 non-null  object\n",
            " 27  chlorpropamide            101766 non-null  object\n",
            " 28  glimepiride               101766 non-null  object\n",
            " 29  acetohexamide             101766 non-null  object\n",
            " 30  glipizide                 101766 non-null  object\n",
            " 31  glyburide                 101766 non-null  object\n",
            " 32  tolbutamide               101766 non-null  object\n",
            " 33  pioglitazone              101766 non-null  object\n",
            " 34  rosiglitazone             101766 non-null  object\n",
            " 35  acarbose                  101766 non-null  object\n",
            " 36  miglitol                  101766 non-null  object\n",
            " 37  troglitazone              101766 non-null  object\n",
            " 38  tolazamide                101766 non-null  object\n",
            " 39  examide                   101766 non-null  object\n",
            " 40  citoglipton               101766 non-null  object\n",
            " 41  insulin                   101766 non-null  object\n",
            " 42  glyburide-metformin       101766 non-null  object\n",
            " 43  glipizide-metformin       101766 non-null  object\n",
            " 44  glimepiride-pioglitazone  101766 non-null  object\n",
            " 45  metformin-rosiglitazone   101766 non-null  object\n",
            " 46  metformin-pioglitazone    101766 non-null  object\n",
            " 47  change                    101766 non-null  object\n",
            " 48  diabetesMed               101766 non-null  object\n",
            " 49  readmitted                101766 non-null  object\n",
            "dtypes: int64(13), object(37)\n",
            "memory usage: 38.8+ MB\n"
          ]
        }
      ],
      "source": [
        "data.info()"
      ]
    },
    {
      "cell_type": "markdown",
      "metadata": {
        "id": "SnYE2le1eAeq"
      },
      "source": [
        "Dataset has 101766 rows and 50 columns and few features with missing values\n",
        "\n",
        "Numerical features and categorical features"
      ]
    },
    {
      "cell_type": "markdown",
      "metadata": {
        "id": "m9AwVW6iRQc0"
      },
      "source": [
        "37 Object Datatype , 13 integer datatype"
      ]
    },
    {
      "cell_type": "markdown",
      "metadata": {
        "id": "DXSunnipLPCb"
      },
      "source": [
        "**TARGET VARIABLE**"
      ]
    },
    {
      "cell_type": "code",
      "execution_count": null,
      "metadata": {
        "colab": {
          "base_uri": "https://localhost:8080/"
        },
        "id": "sjBrGux95Y11",
        "outputId": "7eb4e5a7-8c92-4734-bba3-695ff3abfbd5"
      },
      "outputs": [
        {
          "output_type": "execute_result",
          "data": {
            "text/plain": [
              "0"
            ]
          },
          "metadata": {},
          "execution_count": 6
        }
      ],
      "source": [
        "data.duplicated().sum()"
      ]
    },
    {
      "cell_type": "code",
      "execution_count": null,
      "metadata": {
        "colab": {
          "base_uri": "https://localhost:8080/"
        },
        "id": "pnehzIR5oO54",
        "outputId": "a63b139d-6979-4cff-8f58-60e1d8a7daec"
      },
      "outputs": [
        {
          "output_type": "execute_result",
          "data": {
            "text/plain": [
              "readmitted\n",
              "NO     54864\n",
              ">30    35545\n",
              "<30    11357\n",
              "Name: count, dtype: int64"
            ]
          },
          "metadata": {},
          "execution_count": 7
        }
      ],
      "source": [
        "data['readmitted'].value_counts()"
      ]
    },
    {
      "cell_type": "markdown",
      "metadata": {
        "id": "uU6kF-yHLTcd"
      },
      "source": [
        "**Check for null values and handle each of the features one by one**\n",
        "\n",
        "*Missing Values and Outliers will be handled first followed by Encoding appropriately*"
      ]
    },
    {
      "cell_type": "code",
      "execution_count": null,
      "metadata": {
        "colab": {
          "base_uri": "https://localhost:8080/"
        },
        "id": "ti602z4dLDm9",
        "outputId": "d8d3b29d-66fe-4f59-c1f8-dcca347d18b8"
      },
      "outputs": [
        {
          "output_type": "execute_result",
          "data": {
            "text/plain": [
              "encounter_id                 0.000000\n",
              "patient_nbr                  0.000000\n",
              "race                         2.233555\n",
              "gender                       0.000000\n",
              "age                          0.000000\n",
              "weight                      96.858479\n",
              "admission_type_id            0.000000\n",
              "discharge_disposition_id     0.000000\n",
              "admission_source_id          0.000000\n",
              "time_in_hospital             0.000000\n",
              "payer_code                  39.557416\n",
              "medical_specialty           49.082208\n",
              "num_lab_procedures           0.000000\n",
              "num_procedures               0.000000\n",
              "num_medications              0.000000\n",
              "number_outpatient            0.000000\n",
              "number_emergency             0.000000\n",
              "number_inpatient             0.000000\n",
              "diag_1                       0.020636\n",
              "diag_2                       0.351787\n",
              "diag_3                       1.398306\n",
              "number_diagnoses             0.000000\n",
              "max_glu_serum               94.746772\n",
              "A1Cresult                   83.277322\n",
              "metformin                    0.000000\n",
              "repaglinide                  0.000000\n",
              "nateglinide                  0.000000\n",
              "chlorpropamide               0.000000\n",
              "glimepiride                  0.000000\n",
              "acetohexamide                0.000000\n",
              "glipizide                    0.000000\n",
              "glyburide                    0.000000\n",
              "tolbutamide                  0.000000\n",
              "pioglitazone                 0.000000\n",
              "rosiglitazone                0.000000\n",
              "acarbose                     0.000000\n",
              "miglitol                     0.000000\n",
              "troglitazone                 0.000000\n",
              "tolazamide                   0.000000\n",
              "examide                      0.000000\n",
              "citoglipton                  0.000000\n",
              "insulin                      0.000000\n",
              "glyburide-metformin          0.000000\n",
              "glipizide-metformin          0.000000\n",
              "glimepiride-pioglitazone     0.000000\n",
              "metformin-rosiglitazone      0.000000\n",
              "metformin-pioglitazone       0.000000\n",
              "change                       0.000000\n",
              "diabetesMed                  0.000000\n",
              "readmitted                   0.000000\n",
              "dtype: float64"
            ]
          },
          "metadata": {},
          "execution_count": 8
        }
      ],
      "source": [
        "(data.isnull().sum()/(len(data)))*100   # % of missing values for each feature"
      ]
    },
    {
      "cell_type": "markdown",
      "metadata": {
        "id": "tQHrwN1nLx1M"
      },
      "source": [
        "**Encounter ID**"
      ]
    },
    {
      "cell_type": "code",
      "execution_count": null,
      "metadata": {
        "colab": {
          "base_uri": "https://localhost:8080/"
        },
        "id": "PhAx9ETUL0Bb",
        "outputId": "9626acc0-44e0-4c39-a257-3c9039a89845"
      },
      "outputs": [
        {
          "output_type": "execute_result",
          "data": {
            "text/plain": [
              "101766"
            ]
          },
          "metadata": {},
          "execution_count": 9
        }
      ],
      "source": [
        "data['encounter_id'].nunique()"
      ]
    },
    {
      "cell_type": "markdown",
      "metadata": {
        "id": "bQtdFcfdMjVo"
      },
      "source": [
        "All unique entries and hence will drop this column"
      ]
    },
    {
      "cell_type": "code",
      "execution_count": null,
      "metadata": {
        "id": "ArdOzjZJL4ID"
      },
      "outputs": [],
      "source": [
        "data.drop('encounter_id',axis=1,inplace=True)"
      ]
    },
    {
      "cell_type": "markdown",
      "metadata": {
        "id": "w5PKEXm3MrRD"
      },
      "source": [
        "**Patient Number**"
      ]
    },
    {
      "cell_type": "code",
      "execution_count": null,
      "metadata": {
        "colab": {
          "base_uri": "https://localhost:8080/"
        },
        "id": "Ozi7SCUrM5P8",
        "outputId": "323616c3-ac1c-4a55-e6a2-675ca196e41f"
      },
      "outputs": [
        {
          "output_type": "execute_result",
          "data": {
            "text/plain": [
              "71518"
            ]
          },
          "metadata": {},
          "execution_count": 11
        }
      ],
      "source": [
        "data['patient_nbr'].nunique()"
      ]
    },
    {
      "cell_type": "code",
      "execution_count": null,
      "metadata": {
        "colab": {
          "base_uri": "https://localhost:8080/"
        },
        "id": "Cakkp_0DNAmJ",
        "outputId": "8ab8c6cf-9a2f-4b3f-8526-6affa9c43d5d"
      },
      "outputs": [
        {
          "output_type": "execute_result",
          "data": {
            "text/plain": [
              "patient_nbr\n",
              "88785891     40\n",
              "43140906     28\n",
              "1660293      23\n",
              "88227540     23\n",
              "23199021     23\n",
              "             ..\n",
              "11005362      1\n",
              "98252496      1\n",
              "1019673       1\n",
              "13396320      1\n",
              "175429310     1\n",
              "Name: count, Length: 71518, dtype: int64"
            ]
          },
          "metadata": {},
          "execution_count": 12
        }
      ],
      "source": [
        "data['patient_nbr'].value_counts()"
      ]
    },
    {
      "cell_type": "code",
      "execution_count": null,
      "metadata": {
        "colab": {
          "base_uri": "https://localhost:8080/"
        },
        "id": "XLMnXvKnAPEN",
        "outputId": "03afdbdb-3a18-401f-ddf2-8620a5823bea"
      },
      "outputs": [
        {
          "output_type": "execute_result",
          "data": {
            "text/plain": [
              "30248"
            ]
          },
          "metadata": {},
          "execution_count": 13
        }
      ],
      "source": [
        "data['patient_nbr'].duplicated().sum()"
      ]
    },
    {
      "cell_type": "code",
      "execution_count": null,
      "metadata": {
        "id": "R7CFAptfYciM"
      },
      "outputs": [],
      "source": [
        "data.drop_duplicates('patient_nbr',keep='last', inplace=True)"
      ]
    },
    {
      "cell_type": "code",
      "execution_count": null,
      "metadata": {
        "colab": {
          "base_uri": "https://localhost:8080/"
        },
        "id": "HIq2GmcBBFF_",
        "outputId": "0530570a-d1ac-48c9-9ae8-8cd27b9316e7"
      },
      "outputs": [
        {
          "output_type": "execute_result",
          "data": {
            "text/plain": [
              "0"
            ]
          },
          "metadata": {},
          "execution_count": 15
        }
      ],
      "source": [
        "data['patient_nbr'].duplicated().sum()"
      ]
    },
    {
      "cell_type": "markdown",
      "metadata": {
        "id": "47p_MbSjQ_69"
      },
      "source": [
        "Only one unique encounter per patient ID is retained"
      ]
    },
    {
      "cell_type": "code",
      "execution_count": null,
      "metadata": {
        "id": "KaSRJ-HLRzGk"
      },
      "outputs": [],
      "source": [
        "# drop unique patient numbers\n",
        "data.drop('patient_nbr',axis=1,inplace=True)"
      ]
    },
    {
      "cell_type": "code",
      "execution_count": null,
      "metadata": {
        "colab": {
          "base_uri": "https://localhost:8080/"
        },
        "id": "DWef9cr_EMUN",
        "outputId": "cf9daa59-cc20-4479-c9d6-cfbd8f172d05"
      },
      "outputs": [
        {
          "output_type": "stream",
          "name": "stdout",
          "text": [
            "<class 'pandas.core.frame.DataFrame'>\n",
            "Index: 71518 entries, 0 to 101765\n",
            "Data columns (total 48 columns):\n",
            " #   Column                    Non-Null Count  Dtype \n",
            "---  ------                    --------------  ----- \n",
            " 0   race                      69640 non-null  object\n",
            " 1   gender                    71518 non-null  object\n",
            " 2   age                       71518 non-null  object\n",
            " 3   weight                    2847 non-null   object\n",
            " 4   admission_type_id         71518 non-null  int64 \n",
            " 5   discharge_disposition_id  71518 non-null  int64 \n",
            " 6   admission_source_id       71518 non-null  int64 \n",
            " 7   time_in_hospital          71518 non-null  int64 \n",
            " 8   payer_code                41433 non-null  object\n",
            " 9   medical_specialty         36993 non-null  object\n",
            " 10  num_lab_procedures        71518 non-null  int64 \n",
            " 11  num_procedures            71518 non-null  int64 \n",
            " 12  num_medications           71518 non-null  int64 \n",
            " 13  number_outpatient         71518 non-null  int64 \n",
            " 14  number_emergency          71518 non-null  int64 \n",
            " 15  number_inpatient          71518 non-null  int64 \n",
            " 16  diag_1                    71501 non-null  object\n",
            " 17  diag_2                    71228 non-null  object\n",
            " 18  diag_3                    70372 non-null  object\n",
            " 19  number_diagnoses          71518 non-null  int64 \n",
            " 20  max_glu_serum             3477 non-null   object\n",
            " 21  A1Cresult                 12398 non-null  object\n",
            " 22  metformin                 71518 non-null  object\n",
            " 23  repaglinide               71518 non-null  object\n",
            " 24  nateglinide               71518 non-null  object\n",
            " 25  chlorpropamide            71518 non-null  object\n",
            " 26  glimepiride               71518 non-null  object\n",
            " 27  acetohexamide             71518 non-null  object\n",
            " 28  glipizide                 71518 non-null  object\n",
            " 29  glyburide                 71518 non-null  object\n",
            " 30  tolbutamide               71518 non-null  object\n",
            " 31  pioglitazone              71518 non-null  object\n",
            " 32  rosiglitazone             71518 non-null  object\n",
            " 33  acarbose                  71518 non-null  object\n",
            " 34  miglitol                  71518 non-null  object\n",
            " 35  troglitazone              71518 non-null  object\n",
            " 36  tolazamide                71518 non-null  object\n",
            " 37  examide                   71518 non-null  object\n",
            " 38  citoglipton               71518 non-null  object\n",
            " 39  insulin                   71518 non-null  object\n",
            " 40  glyburide-metformin       71518 non-null  object\n",
            " 41  glipizide-metformin       71518 non-null  object\n",
            " 42  glimepiride-pioglitazone  71518 non-null  object\n",
            " 43  metformin-rosiglitazone   71518 non-null  object\n",
            " 44  metformin-pioglitazone    71518 non-null  object\n",
            " 45  change                    71518 non-null  object\n",
            " 46  diabetesMed               71518 non-null  object\n",
            " 47  readmitted                71518 non-null  object\n",
            "dtypes: int64(11), object(37)\n",
            "memory usage: 26.7+ MB\n"
          ]
        }
      ],
      "source": [
        "data.info()"
      ]
    },
    {
      "cell_type": "code",
      "execution_count": null,
      "metadata": {
        "colab": {
          "base_uri": "https://localhost:8080/"
        },
        "id": "p6bm5r7LCWNC",
        "outputId": "e0f09885-0abf-4ecb-fd94-8acc283d99a8"
      },
      "outputs": [
        {
          "output_type": "execute_result",
          "data": {
            "text/plain": [
              "race                         2.625912\n",
              "gender                       0.000000\n",
              "age                          0.000000\n",
              "weight                      96.019184\n",
              "admission_type_id            0.000000\n",
              "discharge_disposition_id     0.000000\n",
              "admission_source_id          0.000000\n",
              "time_in_hospital             0.000000\n",
              "payer_code                  42.066333\n",
              "medical_specialty           48.274560\n",
              "num_lab_procedures           0.000000\n",
              "num_procedures               0.000000\n",
              "num_medications              0.000000\n",
              "number_outpatient            0.000000\n",
              "number_emergency             0.000000\n",
              "number_inpatient             0.000000\n",
              "diag_1                       0.023770\n",
              "diag_2                       0.405492\n",
              "diag_3                       1.602394\n",
              "number_diagnoses             0.000000\n",
              "max_glu_serum               95.138287\n",
              "A1Cresult                   82.664504\n",
              "metformin                    0.000000\n",
              "repaglinide                  0.000000\n",
              "nateglinide                  0.000000\n",
              "chlorpropamide               0.000000\n",
              "glimepiride                  0.000000\n",
              "acetohexamide                0.000000\n",
              "glipizide                    0.000000\n",
              "glyburide                    0.000000\n",
              "tolbutamide                  0.000000\n",
              "pioglitazone                 0.000000\n",
              "rosiglitazone                0.000000\n",
              "acarbose                     0.000000\n",
              "miglitol                     0.000000\n",
              "troglitazone                 0.000000\n",
              "tolazamide                   0.000000\n",
              "examide                      0.000000\n",
              "citoglipton                  0.000000\n",
              "insulin                      0.000000\n",
              "glyburide-metformin          0.000000\n",
              "glipizide-metformin          0.000000\n",
              "glimepiride-pioglitazone     0.000000\n",
              "metformin-rosiglitazone      0.000000\n",
              "metformin-pioglitazone       0.000000\n",
              "change                       0.000000\n",
              "diabetesMed                  0.000000\n",
              "readmitted                   0.000000\n",
              "dtype: float64"
            ]
          },
          "metadata": {},
          "execution_count": 18
        }
      ],
      "source": [
        "(data.isnull().sum()/(len(data)))*100"
      ]
    },
    {
      "cell_type": "markdown",
      "metadata": {
        "id": "lAB371NI2C1E"
      },
      "source": [
        "**Target Variable**"
      ]
    },
    {
      "cell_type": "code",
      "execution_count": null,
      "metadata": {
        "colab": {
          "base_uri": "https://localhost:8080/"
        },
        "id": "vmJblEq70AfX",
        "outputId": "3b6fe4fe-996c-4903-bea8-2de80f9cf4e7"
      },
      "outputs": [
        {
          "output_type": "execute_result",
          "data": {
            "text/plain": [
              "readmitted\n",
              "NO     54374\n",
              ">30    13920\n",
              "<30     3224\n",
              "Name: count, dtype: int64"
            ]
          },
          "metadata": {},
          "execution_count": 19
        }
      ],
      "source": [
        "data['readmitted'].value_counts()"
      ]
    },
    {
      "cell_type": "markdown",
      "metadata": {
        "id": "Tjo8aoBg-3aG"
      },
      "source": [
        "No duplicates in dataset"
      ]
    },
    {
      "cell_type": "markdown",
      "metadata": {
        "id": "HdyCzKNyRJWZ"
      },
      "source": [
        "**Race**"
      ]
    },
    {
      "cell_type": "code",
      "execution_count": null,
      "metadata": {
        "colab": {
          "base_uri": "https://localhost:8080/"
        },
        "id": "Rh-2ulVjCPAO",
        "outputId": "d0198a2a-ab2b-45f5-9930-f53ba93ce0ab"
      },
      "outputs": [
        {
          "output_type": "execute_result",
          "data": {
            "text/plain": [
              "2.625912357728124"
            ]
          },
          "metadata": {},
          "execution_count": 20
        }
      ],
      "source": [
        "(data['race'].isna().sum()/(len(data)))*100"
      ]
    },
    {
      "cell_type": "code",
      "execution_count": null,
      "metadata": {
        "colab": {
          "base_uri": "https://localhost:8080/"
        },
        "id": "W3UefVTFt_Hs",
        "outputId": "90ea529b-5b63-47a4-8d76-6043c0ad6fd2"
      },
      "outputs": [
        {
          "output_type": "execute_result",
          "data": {
            "text/plain": [
              "race\n",
              "Caucasian          53538\n",
              "AfricanAmerican    12915\n",
              "NaN                 1878\n",
              "Hispanic            1508\n",
              "Other               1167\n",
              "Asian                512\n",
              "Name: count, dtype: int64"
            ]
          },
          "metadata": {},
          "execution_count": 21
        }
      ],
      "source": [
        "data['race'].value_counts(dropna=False)"
      ]
    },
    {
      "cell_type": "code",
      "execution_count": null,
      "metadata": {
        "id": "crv_VUeoTDez"
      },
      "outputs": [],
      "source": [
        "data['race'] = data['race'].replace(np.NaN, 'Other')    # replacing NaN with Other"
      ]
    },
    {
      "cell_type": "code",
      "execution_count": null,
      "metadata": {
        "colab": {
          "base_uri": "https://localhost:8080/"
        },
        "id": "mvFFRZKbTL9a",
        "outputId": "b659e92a-75e4-44d8-b9f3-5d153e0f3a39"
      },
      "outputs": [
        {
          "output_type": "execute_result",
          "data": {
            "text/plain": [
              "0"
            ]
          },
          "metadata": {},
          "execution_count": 23
        }
      ],
      "source": [
        "data['race'].isna().sum()"
      ]
    },
    {
      "cell_type": "markdown",
      "metadata": {
        "id": "u6I03B9kTodX"
      },
      "source": [
        "for the missing races we have clubbed it with 'Others' since missing race is unknown and assuming that while filling the data they coudn't find their race in the list."
      ]
    },
    {
      "cell_type": "code",
      "execution_count": null,
      "metadata": {
        "colab": {
          "base_uri": "https://localhost:8080/"
        },
        "id": "aZ0Zh1y6iWdX",
        "outputId": "c64d05b4-8877-4692-d3f4-134874061307"
      },
      "outputs": [
        {
          "output_type": "execute_result",
          "data": {
            "text/plain": [
              "race\n",
              "Caucasian          53538\n",
              "AfricanAmerican    12915\n",
              "Other               3045\n",
              "Hispanic            1508\n",
              "Asian                512\n",
              "Name: count, dtype: int64"
            ]
          },
          "metadata": {},
          "execution_count": 24
        }
      ],
      "source": [
        "data['race'].value_counts()"
      ]
    },
    {
      "cell_type": "markdown",
      "metadata": {
        "id": "fMBx_aKfUunM"
      },
      "source": [
        "**Gender**"
      ]
    },
    {
      "cell_type": "code",
      "execution_count": null,
      "metadata": {
        "colab": {
          "base_uri": "https://localhost:8080/"
        },
        "id": "o4XW7SAOU8Lp",
        "outputId": "dfbe6767-c1d7-47ec-d3cd-857799f27c05"
      },
      "outputs": [
        {
          "output_type": "execute_result",
          "data": {
            "text/plain": [
              "gender\n",
              "Female             38023\n",
              "Male               33492\n",
              "Unknown/Invalid        3\n",
              "Name: count, dtype: int64"
            ]
          },
          "metadata": {},
          "execution_count": 25
        }
      ],
      "source": [
        "data['gender'].value_counts()"
      ]
    },
    {
      "cell_type": "markdown",
      "metadata": {
        "id": "KFMsRU-HVCRF"
      },
      "source": [
        "Since there are only 3 unknown genders, will replace it with Female which is the mode."
      ]
    },
    {
      "cell_type": "code",
      "execution_count": null,
      "metadata": {
        "colab": {
          "base_uri": "https://localhost:8080/"
        },
        "id": "s_pPpyWzVSO9",
        "outputId": "1ddb53b3-cd9e-49c4-ac2e-f13600d9ad4f"
      },
      "outputs": [
        {
          "output_type": "execute_result",
          "data": {
            "text/plain": [
              "gender\n",
              "Female    38023\n",
              "Male      33492\n",
              "Name: count, dtype: int64"
            ]
          },
          "metadata": {},
          "execution_count": 26
        }
      ],
      "source": [
        "data= data.loc[~data.gender.isin(['Unknown/Invalid'])]\n",
        "data.gender.value_counts()"
      ]
    },
    {
      "cell_type": "markdown",
      "metadata": {
        "id": "LWZhkW22WFSk"
      },
      "source": [
        "**Age**"
      ]
    },
    {
      "cell_type": "code",
      "execution_count": null,
      "metadata": {
        "colab": {
          "base_uri": "https://localhost:8080/"
        },
        "id": "lqwlTwB1bGt6",
        "outputId": "56d3d517-d0e9-4b19-9601-9b310ce523d4"
      },
      "outputs": [
        {
          "output_type": "execute_result",
          "data": {
            "text/plain": [
              "age\n",
              "[70-80)     18160\n",
              "[60-70)     15907\n",
              "[50-60)     12349\n",
              "[80-90)     11864\n",
              "[40-50)      6756\n",
              "[30-40)      2650\n",
              "[90-100)     2040\n",
              "[20-30)      1111\n",
              "[10-20)       525\n",
              "[0-10)        153\n",
              "Name: count, dtype: int64"
            ]
          },
          "metadata": {},
          "execution_count": 27
        }
      ],
      "source": [
        "data['age'].value_counts()"
      ]
    },
    {
      "cell_type": "code",
      "execution_count": null,
      "metadata": {
        "id": "8HsVsprt5ym4"
      },
      "outputs": [],
      "source": [
        "data['age']=data['age'].replace({'[0-10)':'[0-20)','[10-20)':'[0-20)','[20-30)':'[20-40)','[30-40)':'[20-40)','[40-50)':'[40-60)',\n",
        "                                '[50-60)':'[40-60)','[60-70)':'[60-80)','[70-80)':'[60-80)','[80-90)':'[80-100)','[90-100)':'[80-100)'})"
      ]
    },
    {
      "cell_type": "markdown",
      "metadata": {
        "id": "MFQNA21o0Gt_"
      },
      "source": [
        "clubbing age groups to reduce the categories"
      ]
    },
    {
      "cell_type": "code",
      "execution_count": null,
      "metadata": {
        "colab": {
          "base_uri": "https://localhost:8080/"
        },
        "id": "PZLlQJW27MYQ",
        "outputId": "a61f725f-4bc1-4cbd-a137-0b6dea48a947"
      },
      "outputs": [
        {
          "output_type": "execute_result",
          "data": {
            "text/plain": [
              "age\n",
              "[60-80)     34067\n",
              "[40-60)     19105\n",
              "[80-100)    13904\n",
              "[20-40)      3761\n",
              "[0-20)        678\n",
              "Name: count, dtype: int64"
            ]
          },
          "metadata": {},
          "execution_count": 29
        }
      ],
      "source": [
        "data['age'].value_counts()"
      ]
    },
    {
      "cell_type": "markdown",
      "metadata": {
        "id": "bxMrowOsSqi5"
      },
      "source": [
        "retaining the categories and will encode at the end, assigning midpoints with higher values than other features seems to be affecting accuracy and hence leaving it as object dtype"
      ]
    },
    {
      "cell_type": "markdown",
      "metadata": {
        "id": "WObyD3pBcN4F"
      },
      "source": [
        "**Weight**\n",
        "\n",
        "Weight column has 97% missing values and hence will drop the column"
      ]
    },
    {
      "cell_type": "code",
      "execution_count": null,
      "metadata": {
        "colab": {
          "base_uri": "https://localhost:8080/"
        },
        "id": "1b9U-5wFcNUd",
        "outputId": "f70c9dae-fc2a-4300-ff1d-b77acbeb4278"
      },
      "outputs": [
        {
          "output_type": "execute_result",
          "data": {
            "text/plain": [
              "96.01901698944278"
            ]
          },
          "metadata": {},
          "execution_count": 30
        }
      ],
      "source": [
        "(data['weight'].isnull().sum()/(len(data)))*100       # % of missing values"
      ]
    },
    {
      "cell_type": "code",
      "execution_count": null,
      "metadata": {
        "id": "fHa30oEic39l"
      },
      "outputs": [],
      "source": [
        "data.drop(['weight'],axis=1,inplace=True)"
      ]
    },
    {
      "cell_type": "markdown",
      "metadata": {
        "id": "4v5kfuAeUPXv"
      },
      "source": [
        "**Admission Type ID**\n",
        "\n",
        "Although numerical, it is mentioned in ICD9 codes (IDs mapped) and hence will view it as an object"
      ]
    },
    {
      "cell_type": "code",
      "execution_count": null,
      "metadata": {
        "colab": {
          "base_uri": "https://localhost:8080/"
        },
        "id": "PY7YGJvUUOlP",
        "outputId": "536ccaf2-62a2-44b4-8c89-e10b55cc9013"
      },
      "outputs": [
        {
          "output_type": "execute_result",
          "data": {
            "text/plain": [
              "admission_type_id\n",
              "1    37189\n",
              "3    13822\n",
              "2    13032\n",
              "6     4282\n",
              "5     2859\n",
              "8      303\n",
              "7       19\n",
              "4        9\n",
              "Name: count, dtype: int64"
            ]
          },
          "metadata": {},
          "execution_count": 32
        }
      ],
      "source": [
        "data['admission_type_id'].value_counts()"
      ]
    },
    {
      "cell_type": "markdown",
      "metadata": {
        "id": "jtcQqAuHVPLA"
      },
      "source": [
        "There are 8 unique values ranging from 1 to 8. These 8 values correspond to :\n",
        "\n",
        "1 Emergency\n",
        "\n",
        "2 Urgent\n",
        "\n",
        "3 Elective\n",
        "\n",
        "4 Newborn\n",
        "\n",
        "5 Not Available\n",
        "\n",
        "6 NULL\n",
        "\n",
        "7 Trauma Centre\n",
        "\n",
        "8 Not Mapped\n",
        "\n",
        "For further analysis we can merger these categories into less number of categories.\n",
        "\n",
        "Emeregncy/Urgent/Trauma Center ---> Emergency\n",
        "\n",
        "Not Available/Null/Not Mapped ---> Not Available\n",
        "\n",
        "Elective ---> Elective\n",
        "\n",
        "New Born ---> New Born"
      ]
    },
    {
      "cell_type": "code",
      "execution_count": null,
      "metadata": {
        "id": "ioVX8z9dUv6x"
      },
      "outputs": [],
      "source": [
        "data['admission_type_id']=data['admission_type_id'].replace({1:'Emergency',2:'Emergency',7:'Emergency',\n",
        "                                 5:'Not Available', 6:'Not Available',8:'Not Available',\n",
        "                                 3:'Elective',4:'Newborn',})"
      ]
    },
    {
      "cell_type": "markdown",
      "metadata": {
        "id": "JEJXXP8_WiCp"
      },
      "source": [
        "Categorized into lesser fields"
      ]
    },
    {
      "cell_type": "code",
      "execution_count": null,
      "metadata": {
        "colab": {
          "base_uri": "https://localhost:8080/"
        },
        "id": "yZ6cOeWqX--9",
        "outputId": "f4d298f5-8861-4135-9b31-03e3430bc172"
      },
      "outputs": [
        {
          "output_type": "execute_result",
          "data": {
            "text/plain": [
              "admission_type_id\n",
              "Emergency        50240\n",
              "Elective         13822\n",
              "Not Available     7444\n",
              "Newborn              9\n",
              "Name: count, dtype: int64"
            ]
          },
          "metadata": {},
          "execution_count": 34
        }
      ],
      "source": [
        "data['admission_type_id'].value_counts()"
      ]
    },
    {
      "cell_type": "code",
      "source": [
        "data= data.loc[~data.admission_type_id.isin(['Newborn'])]"
      ],
      "metadata": {
        "id": "YEDl7oMhGlUx"
      },
      "execution_count": null,
      "outputs": []
    },
    {
      "cell_type": "code",
      "execution_count": null,
      "metadata": {
        "colab": {
          "base_uri": "https://localhost:8080/"
        },
        "id": "nPC50oUHnw5p",
        "outputId": "fa55fd41-9f1d-4807-f2db-2529d142c5ba"
      },
      "outputs": [
        {
          "output_type": "execute_result",
          "data": {
            "text/plain": [
              "admission_type_id\n",
              "Emergency        50240\n",
              "Elective         13822\n",
              "Not Available     7444\n",
              "Name: count, dtype: int64"
            ]
          },
          "metadata": {},
          "execution_count": 36
        }
      ],
      "source": [
        "data['admission_type_id'].value_counts()"
      ]
    },
    {
      "cell_type": "markdown",
      "metadata": {
        "id": "RzL_myPSYwhI"
      },
      "source": [
        "**Discharge Disposition ID**\n",
        "\n",
        "This is also to be viewed as an object datatype as it is an ID and not integer"
      ]
    },
    {
      "cell_type": "code",
      "execution_count": null,
      "metadata": {
        "colab": {
          "base_uri": "https://localhost:8080/"
        },
        "id": "8RcAymt2Y-SR",
        "outputId": "d4580739-b73c-4f9b-c116-59bd3b4039be"
      },
      "outputs": [
        {
          "output_type": "execute_result",
          "data": {
            "text/plain": [
              "discharge_disposition_id\n",
              "1     43407\n",
              "3      9251\n",
              "6      8465\n",
              "18     2398\n",
              "11     1629\n",
              "2      1462\n",
              "22     1278\n",
              "5       834\n",
              "25      566\n",
              "4       555\n",
              "7       412\n",
              "13      360\n",
              "14      350\n",
              "23      282\n",
              "28       78\n",
              "8        70\n",
              "15       30\n",
              "24       29\n",
              "9        12\n",
              "17       11\n",
              "19        8\n",
              "10        6\n",
              "16        5\n",
              "27        4\n",
              "12        2\n",
              "20        2\n",
              "Name: count, dtype: int64"
            ]
          },
          "metadata": {},
          "execution_count": 37
        }
      ],
      "source": [
        "data['discharge_disposition_id'].value_counts()"
      ]
    },
    {
      "cell_type": "markdown",
      "metadata": {
        "id": "-RDt6aFbZKJf"
      },
      "source": [
        "1 ---> Discharged to home\n",
        "\n",
        "2/3/4/5/10/16/22/23/24/30/27/28/29 ---> Transferred to another medical facility\n",
        "\n",
        "7 ---> Left AMA(Against Medical Advice.)\n",
        "\n",
        "6/8 ---> Discharged to home with home health service\n",
        "\n",
        "9/12/15/17 ---> Still patient/referred to this institution\n",
        "\n",
        "11/19/20/21 ---> Expired\n",
        "\n",
        "18/25/26 ---> Not Available\n",
        "\n",
        "13/14 ---> Hospice"
      ]
    },
    {
      "cell_type": "code",
      "execution_count": null,
      "metadata": {
        "id": "aYzd_pbQZm5f"
      },
      "outputs": [],
      "source": [
        "data= data.loc[~data.discharge_disposition_id.isin([11,13,14,19,20,21])]      # these codes refer to those who have expired and in hospice and hence will drop since they wont get readmitted"
      ]
    },
    {
      "cell_type": "markdown",
      "metadata": {
        "id": "ekgYg9rZTteA"
      },
      "source": [
        "removed records that show patients are expired or sent to hospice since there is no chance for their readmission"
      ]
    },
    {
      "cell_type": "code",
      "execution_count": null,
      "metadata": {
        "id": "ItjUi--GaWbk"
      },
      "outputs": [],
      "source": [
        "data['discharge_disposition_id']=data['discharge_disposition_id'].replace({1:'Discharged to home',\n",
        "                                        2:'Transferred to another medical facility',\n",
        "                                        3:'Transferred to another medical facility',\n",
        "                                        4:'Transferred to another medical facility',\n",
        "                                        5:'Transferred to another medical facility',\n",
        "                                        16:'Transferred to another medical facility',\n",
        "                                        22:'Transferred to another medical facility',\n",
        "                                        23:'Transferred to another medical facility',\n",
        "                                        24:'Transferred to another medical facility',\n",
        "                                        27:'Transferred to another medical facility',\n",
        "                                        28:'Transferred to another medical facility',\n",
        "                                        29:'Transferred to another medical facility',\n",
        "                                        30:'Transferred to another medical facility',\n",
        "                                        6:'Discharged to home with home health service',\n",
        "                                        8:'Discharged to home with home health service',\n",
        "                                        7:'Left Against Medical Advice',\n",
        "                                        9:'Still patient/referred to this institution',\n",
        "                                        12:'Still patient/referred to this institution',\n",
        "                                        15:'Still patient/referred to this institution',\n",
        "                                        17:'Still patient/referred to this institution',\n",
        "                                        10:'Neonate discharged',\n",
        "                                        11:'Expired',\n",
        "                                        19:'Expired',\n",
        "                                        20:'Expired',\n",
        "                                        21:'Expired',\n",
        "                                        13:'Hospice',\n",
        "                                        14:'Hospice',\n",
        "                                        18:'Not Available',\n",
        "                                        25:'Not Available',\n",
        "                                        26:'Not Available'})"
      ]
    },
    {
      "cell_type": "code",
      "execution_count": null,
      "metadata": {
        "colab": {
          "base_uri": "https://localhost:8080/"
        },
        "id": "PU87TXVWcLq9",
        "outputId": "0325b6f2-4314-4750-827b-7a4834720f66"
      },
      "outputs": [
        {
          "output_type": "execute_result",
          "data": {
            "text/plain": [
              "discharge_disposition_id\n",
              "Discharged to home                             43407\n",
              "Transferred to another medical facility        13778\n",
              "Discharged to home with home health service     8535\n",
              "Not Available                                   2964\n",
              "Left Against Medical Advice                      412\n",
              "Still patient/referred to this institution        55\n",
              "Neonate discharged                                 6\n",
              "Name: count, dtype: int64"
            ]
          },
          "metadata": {},
          "execution_count": 40
        }
      ],
      "source": [
        "data['discharge_disposition_id'].value_counts()"
      ]
    },
    {
      "cell_type": "code",
      "source": [
        "data= data.loc[~data.discharge_disposition_id.isin(['Neonate discharged','Still patient/referred to this institution'])]"
      ],
      "metadata": {
        "id": "YYxvFyKGGvlP"
      },
      "execution_count": null,
      "outputs": []
    },
    {
      "cell_type": "code",
      "source": [
        "data['discharge_disposition_id'].value_counts()"
      ],
      "metadata": {
        "id": "wj3Gn58KXuf_",
        "colab": {
          "base_uri": "https://localhost:8080/"
        },
        "outputId": "6f490391-a0eb-48b3-ff86-6a9381552cab"
      },
      "execution_count": null,
      "outputs": [
        {
          "output_type": "execute_result",
          "data": {
            "text/plain": [
              "discharge_disposition_id\n",
              "Discharged to home                             43407\n",
              "Transferred to another medical facility        13778\n",
              "Discharged to home with home health service     8535\n",
              "Not Available                                   2964\n",
              "Left Against Medical Advice                      412\n",
              "Name: count, dtype: int64"
            ]
          },
          "metadata": {},
          "execution_count": 42
        }
      ]
    },
    {
      "cell_type": "markdown",
      "metadata": {
        "id": "KKxmEFQRc86K"
      },
      "source": [
        "**Admission Source ID** also mentioned as codes and will be treated as object"
      ]
    },
    {
      "cell_type": "code",
      "execution_count": null,
      "metadata": {
        "colab": {
          "base_uri": "https://localhost:8080/"
        },
        "id": "igTPISsndENv",
        "outputId": "6f6b5d53-c718-4707-93ab-3285af5c9fa0"
      },
      "outputs": [
        {
          "output_type": "execute_result",
          "data": {
            "text/plain": [
              "admission_source_id\n",
              "7     37234\n",
              "1     20945\n",
              "17     4675\n",
              "4      2583\n",
              "6      1799\n",
              "2       884\n",
              "5       595\n",
              "20      135\n",
              "3       115\n",
              "9       101\n",
              "8        11\n",
              "10        7\n",
              "22        6\n",
              "11        2\n",
              "25        2\n",
              "14        1\n",
              "13        1\n",
              "Name: count, dtype: int64"
            ]
          },
          "metadata": {},
          "execution_count": 43
        }
      ],
      "source": [
        "data['admission_source_id'].value_counts()"
      ]
    },
    {
      "cell_type": "markdown",
      "metadata": {
        "id": "Z-GYSJtbdMh9"
      },
      "source": [
        "1/2/3 ---> Referral\n",
        "\n",
        "4/5/6/10/18/19/25/26/22 ---> Transferred from another health care facility\n",
        "\n",
        "7 ---> Emergency\n",
        "\n",
        "9/15/17/20/21 ---> Not Available\n",
        "\n",
        "8 ---> Court/Law Enforcement\n",
        "\n",
        "Delivery ---> 11/12/14/13/23/24"
      ]
    },
    {
      "cell_type": "code",
      "execution_count": null,
      "metadata": {
        "id": "9Fn8XVS6dXpx"
      },
      "outputs": [],
      "source": [
        "data['admission_source_id']=data['admission_source_id'].replace({1:'Referral',\n",
        "                                   2:'Referral',\n",
        "                                   3:'Referral',\n",
        "                                   4:'Transferred from another health care facility',\n",
        "                                   5:'Transferred from another health care facility',\n",
        "                                   6:'Transferred from another health care facility',\n",
        "                                   8:'Emergency',\n",
        "                                   10:'Transferred from another health care facility',\n",
        "                                   18:'Transferred from another health care facility',\n",
        "                                   19:'Transferred from another health care facility',\n",
        "                                   25:'Transferred from another health care facility',\n",
        "                                   26:'Transferred from another health care facility',\n",
        "                                   7:'Emergency',\n",
        "                                   9:'Not Available',\n",
        "                                   15:'Not Available',\n",
        "                                   17:'Not Available',\n",
        "                                   20:'Not Available',\n",
        "                                   21:'Not Available',\n",
        "                                   11:'Delivery',\n",
        "                                   12:'Delivery',\n",
        "                                   13:'Delivery',\n",
        "                                   14:'Delivery',\n",
        "                                   23:'Delivery',\n",
        "                                   22:\"Transferred from another health care facility\",\n",
        "                                   24:'Delivery'})"
      ]
    },
    {
      "cell_type": "code",
      "execution_count": null,
      "metadata": {
        "colab": {
          "base_uri": "https://localhost:8080/"
        },
        "id": "-KwBqpsDdgn2",
        "outputId": "34f6c3d2-d0d9-4005-91f9-b6e4522522f6"
      },
      "outputs": [
        {
          "output_type": "execute_result",
          "data": {
            "text/plain": [
              "admission_source_id\n",
              "Emergency                                        37245\n",
              "Referral                                         21944\n",
              "Transferred from another health care facility     4992\n",
              "Not Available                                     4911\n",
              "Delivery                                             4\n",
              "Name: count, dtype: int64"
            ]
          },
          "metadata": {},
          "execution_count": 45
        }
      ],
      "source": [
        "data['admission_source_id'].value_counts()"
      ]
    },
    {
      "cell_type": "code",
      "source": [
        "data= data.loc[~data.admission_source_id.isin(['Delivery'])]"
      ],
      "metadata": {
        "id": "UeukboYHG9uR"
      },
      "execution_count": null,
      "outputs": []
    },
    {
      "cell_type": "markdown",
      "metadata": {
        "id": "9pc4B5rpdBFb"
      },
      "source": [
        "**Payer_Code**"
      ]
    },
    {
      "cell_type": "markdown",
      "metadata": {
        "id": "WhazlinHfML1"
      },
      "source": [
        "Payer Code is dropped since it has missing values more than 40%"
      ]
    },
    {
      "cell_type": "code",
      "execution_count": null,
      "metadata": {
        "colab": {
          "base_uri": "https://localhost:8080/"
        },
        "id": "uJuEuctKc-_j",
        "outputId": "c6383b92-eb35-43d9-da25-c30c34634dbc"
      },
      "outputs": [
        {
          "output_type": "execute_result",
          "data": {
            "text/plain": [
              "42.24946448213976"
            ]
          },
          "metadata": {},
          "execution_count": 47
        }
      ],
      "source": [
        "(data['payer_code'].isna().sum()/(len(data)))*100   # 42% missing and hence dropping the column"
      ]
    },
    {
      "cell_type": "code",
      "execution_count": null,
      "metadata": {
        "id": "NeTW7G5-evEE"
      },
      "outputs": [],
      "source": [
        "data.drop(['payer_code'],axis=1,inplace=True)"
      ]
    },
    {
      "cell_type": "markdown",
      "metadata": {
        "id": "j7dT234IezFz"
      },
      "source": [
        "**Medical Specialty**"
      ]
    },
    {
      "cell_type": "markdown",
      "metadata": {
        "id": "ueEFQGXXfTed"
      },
      "source": [
        "Medical Speciality is dropped as it has 48% missing values"
      ]
    },
    {
      "cell_type": "code",
      "execution_count": null,
      "metadata": {
        "colab": {
          "base_uri": "https://localhost:8080/"
        },
        "id": "EBIsLATVe3nb",
        "outputId": "d9ae3b9a-2149-46d5-bd88-306b575c426b"
      },
      "outputs": [
        {
          "output_type": "execute_result",
          "data": {
            "text/plain": [
              "48.051872865165286"
            ]
          },
          "metadata": {},
          "execution_count": 49
        }
      ],
      "source": [
        "(data['medical_specialty'].isna().sum()/(len(data)))*100    # 48% missing and hence dropping the column"
      ]
    },
    {
      "cell_type": "code",
      "execution_count": null,
      "metadata": {
        "id": "vk4bw77OfDoW"
      },
      "outputs": [],
      "source": [
        "data.drop(['medical_specialty'],axis=1,inplace=True)"
      ]
    },
    {
      "cell_type": "markdown",
      "metadata": {
        "id": "FfMkatXRfPl4"
      },
      "source": [
        "**Diagnoses 1 , 2 and 3**"
      ]
    },
    {
      "cell_type": "code",
      "execution_count": null,
      "metadata": {
        "colab": {
          "base_uri": "https://localhost:8080/",
          "height": 423
        },
        "id": "CHW0g86HgDWC",
        "outputId": "0ea63645-0e64-4e39-b27e-371c1409658c"
      },
      "outputs": [
        {
          "output_type": "execute_result",
          "data": {
            "text/plain": [
              "        diag_1  diag_2 diag_3\n",
              "0       250.83     NaN    NaN\n",
              "1          276  250.01    255\n",
              "2          648     250    V27\n",
              "3            8  250.43    403\n",
              "4          197     157    250\n",
              "...        ...     ...    ...\n",
              "101761  250.13     291    458\n",
              "101762     560     276    787\n",
              "101763      38     590    296\n",
              "101764     996     285    998\n",
              "101765     530     530    787\n",
              "\n",
              "[69092 rows x 3 columns]"
            ],
            "text/html": [
              "\n",
              "  <div id=\"df-54d1c647-836c-483c-bae1-eef73be4c30e\" class=\"colab-df-container\">\n",
              "    <div>\n",
              "<style scoped>\n",
              "    .dataframe tbody tr th:only-of-type {\n",
              "        vertical-align: middle;\n",
              "    }\n",
              "\n",
              "    .dataframe tbody tr th {\n",
              "        vertical-align: top;\n",
              "    }\n",
              "\n",
              "    .dataframe thead th {\n",
              "        text-align: right;\n",
              "    }\n",
              "</style>\n",
              "<table border=\"1\" class=\"dataframe\">\n",
              "  <thead>\n",
              "    <tr style=\"text-align: right;\">\n",
              "      <th></th>\n",
              "      <th>diag_1</th>\n",
              "      <th>diag_2</th>\n",
              "      <th>diag_3</th>\n",
              "    </tr>\n",
              "  </thead>\n",
              "  <tbody>\n",
              "    <tr>\n",
              "      <th>0</th>\n",
              "      <td>250.83</td>\n",
              "      <td>NaN</td>\n",
              "      <td>NaN</td>\n",
              "    </tr>\n",
              "    <tr>\n",
              "      <th>1</th>\n",
              "      <td>276</td>\n",
              "      <td>250.01</td>\n",
              "      <td>255</td>\n",
              "    </tr>\n",
              "    <tr>\n",
              "      <th>2</th>\n",
              "      <td>648</td>\n",
              "      <td>250</td>\n",
              "      <td>V27</td>\n",
              "    </tr>\n",
              "    <tr>\n",
              "      <th>3</th>\n",
              "      <td>8</td>\n",
              "      <td>250.43</td>\n",
              "      <td>403</td>\n",
              "    </tr>\n",
              "    <tr>\n",
              "      <th>4</th>\n",
              "      <td>197</td>\n",
              "      <td>157</td>\n",
              "      <td>250</td>\n",
              "    </tr>\n",
              "    <tr>\n",
              "      <th>...</th>\n",
              "      <td>...</td>\n",
              "      <td>...</td>\n",
              "      <td>...</td>\n",
              "    </tr>\n",
              "    <tr>\n",
              "      <th>101761</th>\n",
              "      <td>250.13</td>\n",
              "      <td>291</td>\n",
              "      <td>458</td>\n",
              "    </tr>\n",
              "    <tr>\n",
              "      <th>101762</th>\n",
              "      <td>560</td>\n",
              "      <td>276</td>\n",
              "      <td>787</td>\n",
              "    </tr>\n",
              "    <tr>\n",
              "      <th>101763</th>\n",
              "      <td>38</td>\n",
              "      <td>590</td>\n",
              "      <td>296</td>\n",
              "    </tr>\n",
              "    <tr>\n",
              "      <th>101764</th>\n",
              "      <td>996</td>\n",
              "      <td>285</td>\n",
              "      <td>998</td>\n",
              "    </tr>\n",
              "    <tr>\n",
              "      <th>101765</th>\n",
              "      <td>530</td>\n",
              "      <td>530</td>\n",
              "      <td>787</td>\n",
              "    </tr>\n",
              "  </tbody>\n",
              "</table>\n",
              "<p>69092 rows × 3 columns</p>\n",
              "</div>\n",
              "    <div class=\"colab-df-buttons\">\n",
              "\n",
              "  <div class=\"colab-df-container\">\n",
              "    <button class=\"colab-df-convert\" onclick=\"convertToInteractive('df-54d1c647-836c-483c-bae1-eef73be4c30e')\"\n",
              "            title=\"Convert this dataframe to an interactive table.\"\n",
              "            style=\"display:none;\">\n",
              "\n",
              "  <svg xmlns=\"http://www.w3.org/2000/svg\" height=\"24px\" viewBox=\"0 -960 960 960\">\n",
              "    <path d=\"M120-120v-720h720v720H120Zm60-500h600v-160H180v160Zm220 220h160v-160H400v160Zm0 220h160v-160H400v160ZM180-400h160v-160H180v160Zm440 0h160v-160H620v160ZM180-180h160v-160H180v160Zm440 0h160v-160H620v160Z\"/>\n",
              "  </svg>\n",
              "    </button>\n",
              "\n",
              "  <style>\n",
              "    .colab-df-container {\n",
              "      display:flex;\n",
              "      gap: 12px;\n",
              "    }\n",
              "\n",
              "    .colab-df-convert {\n",
              "      background-color: #E8F0FE;\n",
              "      border: none;\n",
              "      border-radius: 50%;\n",
              "      cursor: pointer;\n",
              "      display: none;\n",
              "      fill: #1967D2;\n",
              "      height: 32px;\n",
              "      padding: 0 0 0 0;\n",
              "      width: 32px;\n",
              "    }\n",
              "\n",
              "    .colab-df-convert:hover {\n",
              "      background-color: #E2EBFA;\n",
              "      box-shadow: 0px 1px 2px rgba(60, 64, 67, 0.3), 0px 1px 3px 1px rgba(60, 64, 67, 0.15);\n",
              "      fill: #174EA6;\n",
              "    }\n",
              "\n",
              "    .colab-df-buttons div {\n",
              "      margin-bottom: 4px;\n",
              "    }\n",
              "\n",
              "    [theme=dark] .colab-df-convert {\n",
              "      background-color: #3B4455;\n",
              "      fill: #D2E3FC;\n",
              "    }\n",
              "\n",
              "    [theme=dark] .colab-df-convert:hover {\n",
              "      background-color: #434B5C;\n",
              "      box-shadow: 0px 1px 3px 1px rgba(0, 0, 0, 0.15);\n",
              "      filter: drop-shadow(0px 1px 2px rgba(0, 0, 0, 0.3));\n",
              "      fill: #FFFFFF;\n",
              "    }\n",
              "  </style>\n",
              "\n",
              "    <script>\n",
              "      const buttonEl =\n",
              "        document.querySelector('#df-54d1c647-836c-483c-bae1-eef73be4c30e button.colab-df-convert');\n",
              "      buttonEl.style.display =\n",
              "        google.colab.kernel.accessAllowed ? 'block' : 'none';\n",
              "\n",
              "      async function convertToInteractive(key) {\n",
              "        const element = document.querySelector('#df-54d1c647-836c-483c-bae1-eef73be4c30e');\n",
              "        const dataTable =\n",
              "          await google.colab.kernel.invokeFunction('convertToInteractive',\n",
              "                                                    [key], {});\n",
              "        if (!dataTable) return;\n",
              "\n",
              "        const docLinkHtml = 'Like what you see? Visit the ' +\n",
              "          '<a target=\"_blank\" href=https://colab.research.google.com/notebooks/data_table.ipynb>data table notebook</a>'\n",
              "          + ' to learn more about interactive tables.';\n",
              "        element.innerHTML = '';\n",
              "        dataTable['output_type'] = 'display_data';\n",
              "        await google.colab.output.renderOutput(dataTable, element);\n",
              "        const docLink = document.createElement('div');\n",
              "        docLink.innerHTML = docLinkHtml;\n",
              "        element.appendChild(docLink);\n",
              "      }\n",
              "    </script>\n",
              "  </div>\n",
              "\n",
              "\n",
              "<div id=\"df-4c29ba0d-b97e-4a7f-85ea-7c82c9cf9fbc\">\n",
              "  <button class=\"colab-df-quickchart\" onclick=\"quickchart('df-4c29ba0d-b97e-4a7f-85ea-7c82c9cf9fbc')\"\n",
              "            title=\"Suggest charts\"\n",
              "            style=\"display:none;\">\n",
              "\n",
              "<svg xmlns=\"http://www.w3.org/2000/svg\" height=\"24px\"viewBox=\"0 0 24 24\"\n",
              "     width=\"24px\">\n",
              "    <g>\n",
              "        <path d=\"M19 3H5c-1.1 0-2 .9-2 2v14c0 1.1.9 2 2 2h14c1.1 0 2-.9 2-2V5c0-1.1-.9-2-2-2zM9 17H7v-7h2v7zm4 0h-2V7h2v10zm4 0h-2v-4h2v4z\"/>\n",
              "    </g>\n",
              "</svg>\n",
              "  </button>\n",
              "\n",
              "<style>\n",
              "  .colab-df-quickchart {\n",
              "      --bg-color: #E8F0FE;\n",
              "      --fill-color: #1967D2;\n",
              "      --hover-bg-color: #E2EBFA;\n",
              "      --hover-fill-color: #174EA6;\n",
              "      --disabled-fill-color: #AAA;\n",
              "      --disabled-bg-color: #DDD;\n",
              "  }\n",
              "\n",
              "  [theme=dark] .colab-df-quickchart {\n",
              "      --bg-color: #3B4455;\n",
              "      --fill-color: #D2E3FC;\n",
              "      --hover-bg-color: #434B5C;\n",
              "      --hover-fill-color: #FFFFFF;\n",
              "      --disabled-bg-color: #3B4455;\n",
              "      --disabled-fill-color: #666;\n",
              "  }\n",
              "\n",
              "  .colab-df-quickchart {\n",
              "    background-color: var(--bg-color);\n",
              "    border: none;\n",
              "    border-radius: 50%;\n",
              "    cursor: pointer;\n",
              "    display: none;\n",
              "    fill: var(--fill-color);\n",
              "    height: 32px;\n",
              "    padding: 0;\n",
              "    width: 32px;\n",
              "  }\n",
              "\n",
              "  .colab-df-quickchart:hover {\n",
              "    background-color: var(--hover-bg-color);\n",
              "    box-shadow: 0 1px 2px rgba(60, 64, 67, 0.3), 0 1px 3px 1px rgba(60, 64, 67, 0.15);\n",
              "    fill: var(--button-hover-fill-color);\n",
              "  }\n",
              "\n",
              "  .colab-df-quickchart-complete:disabled,\n",
              "  .colab-df-quickchart-complete:disabled:hover {\n",
              "    background-color: var(--disabled-bg-color);\n",
              "    fill: var(--disabled-fill-color);\n",
              "    box-shadow: none;\n",
              "  }\n",
              "\n",
              "  .colab-df-spinner {\n",
              "    border: 2px solid var(--fill-color);\n",
              "    border-color: transparent;\n",
              "    border-bottom-color: var(--fill-color);\n",
              "    animation:\n",
              "      spin 1s steps(1) infinite;\n",
              "  }\n",
              "\n",
              "  @keyframes spin {\n",
              "    0% {\n",
              "      border-color: transparent;\n",
              "      border-bottom-color: var(--fill-color);\n",
              "      border-left-color: var(--fill-color);\n",
              "    }\n",
              "    20% {\n",
              "      border-color: transparent;\n",
              "      border-left-color: var(--fill-color);\n",
              "      border-top-color: var(--fill-color);\n",
              "    }\n",
              "    30% {\n",
              "      border-color: transparent;\n",
              "      border-left-color: var(--fill-color);\n",
              "      border-top-color: var(--fill-color);\n",
              "      border-right-color: var(--fill-color);\n",
              "    }\n",
              "    40% {\n",
              "      border-color: transparent;\n",
              "      border-right-color: var(--fill-color);\n",
              "      border-top-color: var(--fill-color);\n",
              "    }\n",
              "    60% {\n",
              "      border-color: transparent;\n",
              "      border-right-color: var(--fill-color);\n",
              "    }\n",
              "    80% {\n",
              "      border-color: transparent;\n",
              "      border-right-color: var(--fill-color);\n",
              "      border-bottom-color: var(--fill-color);\n",
              "    }\n",
              "    90% {\n",
              "      border-color: transparent;\n",
              "      border-bottom-color: var(--fill-color);\n",
              "    }\n",
              "  }\n",
              "</style>\n",
              "\n",
              "  <script>\n",
              "    async function quickchart(key) {\n",
              "      const quickchartButtonEl =\n",
              "        document.querySelector('#' + key + ' button');\n",
              "      quickchartButtonEl.disabled = true;  // To prevent multiple clicks.\n",
              "      quickchartButtonEl.classList.add('colab-df-spinner');\n",
              "      try {\n",
              "        const charts = await google.colab.kernel.invokeFunction(\n",
              "            'suggestCharts', [key], {});\n",
              "      } catch (error) {\n",
              "        console.error('Error during call to suggestCharts:', error);\n",
              "      }\n",
              "      quickchartButtonEl.classList.remove('colab-df-spinner');\n",
              "      quickchartButtonEl.classList.add('colab-df-quickchart-complete');\n",
              "    }\n",
              "    (() => {\n",
              "      let quickchartButtonEl =\n",
              "        document.querySelector('#df-4c29ba0d-b97e-4a7f-85ea-7c82c9cf9fbc button');\n",
              "      quickchartButtonEl.style.display =\n",
              "        google.colab.kernel.accessAllowed ? 'block' : 'none';\n",
              "    })();\n",
              "  </script>\n",
              "</div>\n",
              "\n",
              "    </div>\n",
              "  </div>\n"
            ],
            "application/vnd.google.colaboratory.intrinsic+json": {
              "type": "dataframe",
              "summary": "{\n  \"name\": \"data[['diag_1','diag_2','diag_3']]\",\n  \"rows\": 69092,\n  \"fields\": [\n    {\n      \"column\": \"diag_1\",\n      \"properties\": {\n        \"dtype\": \"category\",\n        \"num_unique_values\": 690,\n        \"samples\": [\n          \"621\",\n          \"660\",\n          \"840\"\n        ],\n        \"semantic_type\": \"\",\n        \"description\": \"\"\n      }\n    },\n    {\n      \"column\": \"diag_2\",\n      \"properties\": {\n        \"dtype\": \"category\",\n        \"num_unique_values\": 715,\n        \"samples\": [\n          \"300\",\n          \"656\",\n          \"396\"\n        ],\n        \"semantic_type\": \"\",\n        \"description\": \"\"\n      }\n    },\n    {\n      \"column\": \"diag_3\",\n      \"properties\": {\n        \"dtype\": \"category\",\n        \"num_unique_values\": 743,\n        \"samples\": [\n          \"385\",\n          \"796\",\n          \"757\"\n        ],\n        \"semantic_type\": \"\",\n        \"description\": \"\"\n      }\n    }\n  ]\n}"
            }
          },
          "metadata": {},
          "execution_count": 51
        }
      ],
      "source": [
        "data[['diag_1','diag_2','diag_3']]"
      ]
    },
    {
      "cell_type": "code",
      "execution_count": null,
      "metadata": {
        "colab": {
          "base_uri": "https://localhost:8080/"
        },
        "id": "zVm7rVA_srGC",
        "outputId": "2d18b6bc-c997-4dbb-cdfa-9a96adf222b6"
      },
      "outputs": [
        {
          "output_type": "execute_result",
          "data": {
            "text/plain": [
              "diag_1      16\n",
              "diag_2     288\n",
              "diag_3    1142\n",
              "dtype: int64"
            ]
          },
          "metadata": {},
          "execution_count": 52
        }
      ],
      "source": [
        "data[['diag_1','diag_2','diag_3']].isna().sum()"
      ]
    },
    {
      "cell_type": "code",
      "execution_count": null,
      "metadata": {
        "id": "aGfUEx8ByX7B"
      },
      "outputs": [],
      "source": [
        "diag_list = ['diag_1','diag_2','diag_3']\n",
        "\n",
        "for col in diag_list:\n",
        "    data[col].fillna('NaN', inplace=True)"
      ]
    },
    {
      "cell_type": "markdown",
      "metadata": {
        "id": "dCK-81dWfgtJ"
      },
      "source": [
        "Grouping the ICD 9 codes listed in the features Diag 1, Diag 2 and Diag 3 into respective Disease Categories"
      ]
    },
    {
      "cell_type": "code",
      "execution_count": null,
      "metadata": {
        "id": "qL4FNnIf0eLI"
      },
      "outputs": [],
      "source": [
        "import re\n",
        "def transformFunc(value):\n",
        "    value = re.sub(\"V[0-9]*\", \"0\", value) # V\n",
        "    value = re.sub(\"E[0-9]*\", \"0\", value) # E\n",
        "    value = re.sub('NaN', \"-1\", value) # NaN\n",
        "    return value\n",
        "\n",
        "def transformCategory(value):\n",
        "    if value>=390 and value<=459 or value==785:\n",
        "        category = 'Circulatory'\n",
        "    elif value>=460 and value<=519 or value==786:\n",
        "        category = 'Respiratory'\n",
        "    elif value>=520 and value<=579 or value==787:\n",
        "        category = 'Digestive'\n",
        "    elif value>=249 and value<=251:\n",
        "        category = 'Diabetes'\n",
        "    elif value>=800 and value<=999:\n",
        "        category = 'Injury'\n",
        "    elif value>=710 and value<=739:\n",
        "        category = 'Musculoskeletal'\n",
        "    elif value>=580 and value<=629 or value==788:\n",
        "        category = 'Genitourinary'\n",
        "    elif value>=140 and value<=239 :\n",
        "        category = 'Neoplasms'\n",
        "    elif value==-1:\n",
        "        category = 'NaN'\n",
        "    else :\n",
        "        category = 'Other'\n",
        "\n",
        "    return category"
      ]
    },
    {
      "cell_type": "code",
      "execution_count": null,
      "metadata": {
        "id": "VA7y6cE82X5v"
      },
      "outputs": [],
      "source": [
        "for col in diag_list:\n",
        "    data[col] = data[col].apply(transformFunc)\n",
        "    data[col] = data[col].astype(float)"
      ]
    },
    {
      "cell_type": "code",
      "execution_count": null,
      "metadata": {
        "id": "k5QmXgGo2h1z"
      },
      "outputs": [],
      "source": [
        "for col in diag_list:\n",
        "    data[col] = data[col].apply(transformCategory)"
      ]
    },
    {
      "cell_type": "markdown",
      "metadata": {
        "id": "FZw_bajarAVQ"
      },
      "source": [
        "The most diagnoses are prevalent in all three diagnoses listed, hence will use only primary diagnoses for model and drop the other two"
      ]
    },
    {
      "cell_type": "code",
      "execution_count": null,
      "metadata": {
        "id": "7X9bZMSn2V_V"
      },
      "outputs": [],
      "source": [
        "# drop diagnoses 2 and 3\n",
        "data.drop(columns=['diag_2', 'diag_3'], axis=1, inplace=True)"
      ]
    },
    {
      "cell_type": "code",
      "execution_count": null,
      "metadata": {
        "colab": {
          "base_uri": "https://localhost:8080/"
        },
        "id": "lVOwsKssNDam",
        "outputId": "bbd7d28c-ffc5-480c-8ac8-71d96539caee"
      },
      "outputs": [
        {
          "output_type": "execute_result",
          "data": {
            "text/plain": [
              "diag_1\n",
              "Circulatory        20596\n",
              "Other              12365\n",
              "Respiratory         9386\n",
              "Digestive           6457\n",
              "Diabetes            5601\n",
              "Injury              4854\n",
              "Musculoskeletal     3867\n",
              "Genitourinary       3520\n",
              "Neoplasms           2430\n",
              "NaN                   16\n",
              "Name: count, dtype: int64"
            ]
          },
          "metadata": {},
          "execution_count": 58
        }
      ],
      "source": [
        "data['diag_1'].value_counts()"
      ]
    },
    {
      "cell_type": "code",
      "source": [
        "data= data.loc[~data.diag_1.isin(['NaN'])]"
      ],
      "metadata": {
        "id": "fNMovJZJHE9H"
      },
      "execution_count": null,
      "outputs": []
    },
    {
      "cell_type": "markdown",
      "metadata": {
        "id": "iQpillBhrqIl"
      },
      "source": [
        "**Max Glu Serum**  and **A1C result**"
      ]
    },
    {
      "cell_type": "code",
      "execution_count": null,
      "metadata": {
        "colab": {
          "base_uri": "https://localhost:8080/"
        },
        "id": "v_YGeGMurugX",
        "outputId": "4c64baac-a9ba-426f-8d14-cce10aac7731"
      },
      "outputs": [
        {
          "output_type": "execute_result",
          "data": {
            "text/plain": [
              "max_glu_serum\n",
              "NaN     65807\n",
              "Norm     1698\n",
              ">200      917\n",
              ">300      654\n",
              "Name: count, dtype: int64"
            ]
          },
          "metadata": {},
          "execution_count": 60
        }
      ],
      "source": [
        "data['max_glu_serum'].value_counts(dropna=False)"
      ]
    },
    {
      "cell_type": "code",
      "execution_count": null,
      "metadata": {
        "colab": {
          "base_uri": "https://localhost:8080/"
        },
        "id": "MbtBYyWstDM8",
        "outputId": "a9bf1455-dda3-4cef-c00b-ac67bccc8023"
      },
      "outputs": [
        {
          "output_type": "execute_result",
          "data": {
            "text/plain": [
              "A1Cresult\n",
              "NaN     56875\n",
              ">8       5796\n",
              "Norm     3680\n",
              ">7       2725\n",
              "Name: count, dtype: int64"
            ]
          },
          "metadata": {},
          "execution_count": 61
        }
      ],
      "source": [
        "data['A1Cresult'].value_counts(dropna=False)"
      ]
    },
    {
      "cell_type": "code",
      "execution_count": null,
      "metadata": {
        "id": "xBL4vls29exu"
      },
      "outputs": [],
      "source": [
        "data['A1Cresult'] = data['A1Cresult'].replace(np.NaN, 0)\n",
        "data['max_glu_serum'] = data['max_glu_serum'].replace(np.NaN, 0)"
      ]
    },
    {
      "cell_type": "markdown",
      "metadata": {
        "id": "wcSkt8Lnf6ch"
      },
      "source": [
        "Since both the test results are related to diabetes, will retain the features and check for its significance"
      ]
    },
    {
      "cell_type": "code",
      "execution_count": null,
      "metadata": {
        "colab": {
          "base_uri": "https://localhost:8080/"
        },
        "id": "HsPnp-bzN-aL",
        "outputId": "2ef6a22d-0a22-4920-b4ee-60e148ce89aa"
      },
      "outputs": [
        {
          "output_type": "stream",
          "name": "stdout",
          "text": [
            "<class 'pandas.core.frame.DataFrame'>\n",
            "Index: 69076 entries, 0 to 101765\n",
            "Data columns (total 43 columns):\n",
            " #   Column                    Non-Null Count  Dtype \n",
            "---  ------                    --------------  ----- \n",
            " 0   race                      69076 non-null  object\n",
            " 1   gender                    69076 non-null  object\n",
            " 2   age                       69076 non-null  object\n",
            " 3   admission_type_id         69076 non-null  object\n",
            " 4   discharge_disposition_id  69076 non-null  object\n",
            " 5   admission_source_id       69076 non-null  object\n",
            " 6   time_in_hospital          69076 non-null  int64 \n",
            " 7   num_lab_procedures        69076 non-null  int64 \n",
            " 8   num_procedures            69076 non-null  int64 \n",
            " 9   num_medications           69076 non-null  int64 \n",
            " 10  number_outpatient         69076 non-null  int64 \n",
            " 11  number_emergency          69076 non-null  int64 \n",
            " 12  number_inpatient          69076 non-null  int64 \n",
            " 13  diag_1                    69076 non-null  object\n",
            " 14  number_diagnoses          69076 non-null  int64 \n",
            " 15  max_glu_serum             69076 non-null  object\n",
            " 16  A1Cresult                 69076 non-null  object\n",
            " 17  metformin                 69076 non-null  object\n",
            " 18  repaglinide               69076 non-null  object\n",
            " 19  nateglinide               69076 non-null  object\n",
            " 20  chlorpropamide            69076 non-null  object\n",
            " 21  glimepiride               69076 non-null  object\n",
            " 22  acetohexamide             69076 non-null  object\n",
            " 23  glipizide                 69076 non-null  object\n",
            " 24  glyburide                 69076 non-null  object\n",
            " 25  tolbutamide               69076 non-null  object\n",
            " 26  pioglitazone              69076 non-null  object\n",
            " 27  rosiglitazone             69076 non-null  object\n",
            " 28  acarbose                  69076 non-null  object\n",
            " 29  miglitol                  69076 non-null  object\n",
            " 30  troglitazone              69076 non-null  object\n",
            " 31  tolazamide                69076 non-null  object\n",
            " 32  examide                   69076 non-null  object\n",
            " 33  citoglipton               69076 non-null  object\n",
            " 34  insulin                   69076 non-null  object\n",
            " 35  glyburide-metformin       69076 non-null  object\n",
            " 36  glipizide-metformin       69076 non-null  object\n",
            " 37  glimepiride-pioglitazone  69076 non-null  object\n",
            " 38  metformin-rosiglitazone   69076 non-null  object\n",
            " 39  metformin-pioglitazone    69076 non-null  object\n",
            " 40  change                    69076 non-null  object\n",
            " 41  diabetesMed               69076 non-null  object\n",
            " 42  readmitted                69076 non-null  object\n",
            "dtypes: int64(8), object(35)\n",
            "memory usage: 23.2+ MB\n"
          ]
        }
      ],
      "source": [
        "data.info()"
      ]
    },
    {
      "cell_type": "code",
      "execution_count": null,
      "metadata": {
        "colab": {
          "base_uri": "https://localhost:8080/",
          "height": 565
        },
        "id": "7FshoV9BOabx",
        "outputId": "10bcc95f-883b-4559-ec6b-e571634675f8"
      },
      "outputs": [
        {
          "output_type": "display_data",
          "data": {
            "text/plain": [
              "<Figure size 640x480 with 2 Axes>"
            ],
            "image/png": "[encoded data removed]"
          },
          "metadata": {}
        }
      ],
      "source": [
        "# Select only numeric columns\n",
        "numeric_data = data.select_dtypes(include=[np.number])\n",
        "\n",
        "# Calculate the correlation matrix\n",
        "correlation_matrix = numeric_data.corr()\n",
        "\n",
        "# Display the heatmap\n",
        "sns.heatmap(correlation_matrix, annot=True)\n",
        "plt.show()"
      ]
    },
    {
      "cell_type": "markdown",
      "metadata": {
        "id": "F8F-lWVE8RrV"
      },
      "source": [
        "**Handling OUTLIERS**"
      ]
    },
    {
      "cell_type": "code",
      "execution_count": null,
      "metadata": {
        "id": "IBBIEVTKVG12"
      },
      "outputs": [],
      "source": [
        "num=['time_in_hospital',\n",
        "       'num_lab_procedures', 'num_procedures', 'num_medications',\n",
        "       'number_outpatient', 'number_emergency', 'number_inpatient','number_diagnoses']"
      ]
    },
    {
      "cell_type": "markdown",
      "metadata": {
        "id": "rGtxtPnXneFf"
      },
      "source": [
        "checking variance inflation factor before treating for outliers"
      ]
    },
    {
      "cell_type": "code",
      "execution_count": null,
      "metadata": {
        "colab": {
          "base_uri": "https://localhost:8080/",
          "height": 300
        },
        "id": "pwe9UbQ5ZK6T",
        "outputId": "584703bb-ffc5-4b40-c2d1-a2582d408cad"
      },
      "outputs": [
        {
          "output_type": "execute_result",
          "data": {
            "text/plain": [
              "        VIF             feature\n",
              "7  7.263709    number_diagnoses\n",
              "3  7.058314     num_medications\n",
              "1  5.854436  num_lab_procedures\n",
              "0  4.264446    time_in_hospital\n",
              "2  1.965931      num_procedures\n",
              "6  1.299717    number_inpatient\n",
              "4  1.102366   number_outpatient\n",
              "5  1.094146    number_emergency"
            ],
            "text/html": [
              "\n",
              "  <div id=\"df-b8c4a12e-5870-45b0-8f10-8bf19b41d2e6\" class=\"colab-df-container\">\n",
              "    <div>\n",
              "<style scoped>\n",
              "    .dataframe tbody tr th:only-of-type {\n",
              "        vertical-align: middle;\n",
              "    }\n",
              "\n",
              "    .dataframe tbody tr th {\n",
              "        vertical-align: top;\n",
              "    }\n",
              "\n",
              "    .dataframe thead th {\n",
              "        text-align: right;\n",
              "    }\n",
              "</style>\n",
              "<table border=\"1\" class=\"dataframe\">\n",
              "  <thead>\n",
              "    <tr style=\"text-align: right;\">\n",
              "      <th></th>\n",
              "      <th>VIF</th>\n",
              "      <th>feature</th>\n",
              "    </tr>\n",
              "  </thead>\n",
              "  <tbody>\n",
              "    <tr>\n",
              "      <th>7</th>\n",
              "      <td>7.263709</td>\n",
              "      <td>number_diagnoses</td>\n",
              "    </tr>\n",
              "    <tr>\n",
              "      <th>3</th>\n",
              "      <td>7.058314</td>\n",
              "      <td>num_medications</td>\n",
              "    </tr>\n",
              "    <tr>\n",
              "      <th>1</th>\n",
              "      <td>5.854436</td>\n",
              "      <td>num_lab_procedures</td>\n",
              "    </tr>\n",
              "    <tr>\n",
              "      <th>0</th>\n",
              "      <td>4.264446</td>\n",
              "      <td>time_in_hospital</td>\n",
              "    </tr>\n",
              "    <tr>\n",
              "      <th>2</th>\n",
              "      <td>1.965931</td>\n",
              "      <td>num_procedures</td>\n",
              "    </tr>\n",
              "    <tr>\n",
              "      <th>6</th>\n",
              "      <td>1.299717</td>\n",
              "      <td>number_inpatient</td>\n",
              "    </tr>\n",
              "    <tr>\n",
              "      <th>4</th>\n",
              "      <td>1.102366</td>\n",
              "      <td>number_outpatient</td>\n",
              "    </tr>\n",
              "    <tr>\n",
              "      <th>5</th>\n",
              "      <td>1.094146</td>\n",
              "      <td>number_emergency</td>\n",
              "    </tr>\n",
              "  </tbody>\n",
              "</table>\n",
              "</div>\n",
              "    <div class=\"colab-df-buttons\">\n",
              "\n",
              "  <div class=\"colab-df-container\">\n",
              "    <button class=\"colab-df-convert\" onclick=\"convertToInteractive('df-b8c4a12e-5870-45b0-8f10-8bf19b41d2e6')\"\n",
              "            title=\"Convert this dataframe to an interactive table.\"\n",
              "            style=\"display:none;\">\n",
              "\n",
              "  <svg xmlns=\"http://www.w3.org/2000/svg\" height=\"24px\" viewBox=\"0 -960 960 960\">\n",
              "    <path d=\"M120-120v-720h720v720H120Zm60-500h600v-160H180v160Zm220 220h160v-160H400v160Zm0 220h160v-160H400v160ZM180-400h160v-160H180v160Zm440 0h160v-160H620v160ZM180-180h160v-160H180v160Zm440 0h160v-160H620v160Z\"/>\n",
              "  </svg>\n",
              "    </button>\n",
              "\n",
              "  <style>\n",
              "    .colab-df-container {\n",
              "      display:flex;\n",
              "      gap: 12px;\n",
              "    }\n",
              "\n",
              "    .colab-df-convert {\n",
              "      background-color: #E8F0FE;\n",
              "      border: none;\n",
              "      border-radius: 50%;\n",
              "      cursor: pointer;\n",
              "      display: none;\n",
              "      fill: #1967D2;\n",
              "      height: 32px;\n",
              "      padding: 0 0 0 0;\n",
              "      width: 32px;\n",
              "    }\n",
              "\n",
              "    .colab-df-convert:hover {\n",
              "      background-color: #E2EBFA;\n",
              "      box-shadow: 0px 1px 2px rgba(60, 64, 67, 0.3), 0px 1px 3px 1px rgba(60, 64, 67, 0.15);\n",
              "      fill: #174EA6;\n",
              "    }\n",
              "\n",
              "    .colab-df-buttons div {\n",
              "      margin-bottom: 4px;\n",
              "    }\n",
              "\n",
              "    [theme=dark] .colab-df-convert {\n",
              "      background-color: #3B4455;\n",
              "      fill: #D2E3FC;\n",
              "    }\n",
              "\n",
              "    [theme=dark] .colab-df-convert:hover {\n",
              "      background-color: #434B5C;\n",
              "      box-shadow: 0px 1px 3px 1px rgba(0, 0, 0, 0.15);\n",
              "      filter: drop-shadow(0px 1px 2px rgba(0, 0, 0, 0.3));\n",
              "      fill: #FFFFFF;\n",
              "    }\n",
              "  </style>\n",
              "\n",
              "    <script>\n",
              "      const buttonEl =\n",
              "        document.querySelector('#df-b8c4a12e-5870-45b0-8f10-8bf19b41d2e6 button.colab-df-convert');\n",
              "      buttonEl.style.display =\n",
              "        google.colab.kernel.accessAllowed ? 'block' : 'none';\n",
              "\n",
              "      async function convertToInteractive(key) {\n",
              "        const element = document.querySelector('#df-b8c4a12e-5870-45b0-8f10-8bf19b41d2e6');\n",
              "        const dataTable =\n",
              "          await google.colab.kernel.invokeFunction('convertToInteractive',\n",
              "                                                    [key], {});\n",
              "        if (!dataTable) return;\n",
              "\n",
              "        const docLinkHtml = 'Like what you see? Visit the ' +\n",
              "          '<a target=\"_blank\" href=https://colab.research.google.com/notebooks/data_table.ipynb>data table notebook</a>'\n",
              "          + ' to learn more about interactive tables.';\n",
              "        element.innerHTML = '';\n",
              "        dataTable['output_type'] = 'display_data';\n",
              "        await google.colab.output.renderOutput(dataTable, element);\n",
              "        const docLink = document.createElement('div');\n",
              "        docLink.innerHTML = docLinkHtml;\n",
              "        element.appendChild(docLink);\n",
              "      }\n",
              "    </script>\n",
              "  </div>\n",
              "\n",
              "\n",
              "<div id=\"df-2327c755-a7d0-466e-9944-c5659f013236\">\n",
              "  <button class=\"colab-df-quickchart\" onclick=\"quickchart('df-2327c755-a7d0-466e-9944-c5659f013236')\"\n",
              "            title=\"Suggest charts\"\n",
              "            style=\"display:none;\">\n",
              "\n",
              "<svg xmlns=\"http://www.w3.org/2000/svg\" height=\"24px\"viewBox=\"0 0 24 24\"\n",
              "     width=\"24px\">\n",
              "    <g>\n",
              "        <path d=\"M19 3H5c-1.1 0-2 .9-2 2v14c0 1.1.9 2 2 2h14c1.1 0 2-.9 2-2V5c0-1.1-.9-2-2-2zM9 17H7v-7h2v7zm4 0h-2V7h2v10zm4 0h-2v-4h2v4z\"/>\n",
              "    </g>\n",
              "</svg>\n",
              "  </button>\n",
              "\n",
              "<style>\n",
              "  .colab-df-quickchart {\n",
              "      --bg-color: #E8F0FE;\n",
              "      --fill-color: #1967D2;\n",
              "      --hover-bg-color: #E2EBFA;\n",
              "      --hover-fill-color: #174EA6;\n",
              "      --disabled-fill-color: #AAA;\n",
              "      --disabled-bg-color: #DDD;\n",
              "  }\n",
              "\n",
              "  [theme=dark] .colab-df-quickchart {\n",
              "      --bg-color: #3B4455;\n",
              "      --fill-color: #D2E3FC;\n",
              "      --hover-bg-color: #434B5C;\n",
              "      --hover-fill-color: #FFFFFF;\n",
              "      --disabled-bg-color: #3B4455;\n",
              "      --disabled-fill-color: #666;\n",
              "  }\n",
              "\n",
              "  .colab-df-quickchart {\n",
              "    background-color: var(--bg-color);\n",
              "    border: none;\n",
              "    border-radius: 50%;\n",
              "    cursor: pointer;\n",
              "    display: none;\n",
              "    fill: var(--fill-color);\n",
              "    height: 32px;\n",
              "    padding: 0;\n",
              "    width: 32px;\n",
              "  }\n",
              "\n",
              "  .colab-df-quickchart:hover {\n",
              "    background-color: var(--hover-bg-color);\n",
              "    box-shadow: 0 1px 2px rgba(60, 64, 67, 0.3), 0 1px 3px 1px rgba(60, 64, 67, 0.15);\n",
              "    fill: var(--button-hover-fill-color);\n",
              "  }\n",
              "\n",
              "  .colab-df-quickchart-complete:disabled,\n",
              "  .colab-df-quickchart-complete:disabled:hover {\n",
              "    background-color: var(--disabled-bg-color);\n",
              "    fill: var(--disabled-fill-color);\n",
              "    box-shadow: none;\n",
              "  }\n",
              "\n",
              "  .colab-df-spinner {\n",
              "    border: 2px solid var(--fill-color);\n",
              "    border-color: transparent;\n",
              "    border-bottom-color: var(--fill-color);\n",
              "    animation:\n",
              "      spin 1s steps(1) infinite;\n",
              "  }\n",
              "\n",
              "  @keyframes spin {\n",
              "    0% {\n",
              "      border-color: transparent;\n",
              "      border-bottom-color: var(--fill-color);\n",
              "      border-left-color: var(--fill-color);\n",
              "    }\n",
              "    20% {\n",
              "      border-color: transparent;\n",
              "      border-left-color: var(--fill-color);\n",
              "      border-top-color: var(--fill-color);\n",
              "    }\n",
              "    30% {\n",
              "      border-color: transparent;\n",
              "      border-left-color: var(--fill-color);\n",
              "      border-top-color: var(--fill-color);\n",
              "      border-right-color: var(--fill-color);\n",
              "    }\n",
              "    40% {\n",
              "      border-color: transparent;\n",
              "      border-right-color: var(--fill-color);\n",
              "      border-top-color: var(--fill-color);\n",
              "    }\n",
              "    60% {\n",
              "      border-color: transparent;\n",
              "      border-right-color: var(--fill-color);\n",
              "    }\n",
              "    80% {\n",
              "      border-color: transparent;\n",
              "      border-right-color: var(--fill-color);\n",
              "      border-bottom-color: var(--fill-color);\n",
              "    }\n",
              "    90% {\n",
              "      border-color: transparent;\n",
              "      border-bottom-color: var(--fill-color);\n",
              "    }\n",
              "  }\n",
              "</style>\n",
              "\n",
              "  <script>\n",
              "    async function quickchart(key) {\n",
              "      const quickchartButtonEl =\n",
              "        document.querySelector('#' + key + ' button');\n",
              "      quickchartButtonEl.disabled = true;  // To prevent multiple clicks.\n",
              "      quickchartButtonEl.classList.add('colab-df-spinner');\n",
              "      try {\n",
              "        const charts = await google.colab.kernel.invokeFunction(\n",
              "            'suggestCharts', [key], {});\n",
              "      } catch (error) {\n",
              "        console.error('Error during call to suggestCharts:', error);\n",
              "      }\n",
              "      quickchartButtonEl.classList.remove('colab-df-spinner');\n",
              "      quickchartButtonEl.classList.add('colab-df-quickchart-complete');\n",
              "    }\n",
              "    (() => {\n",
              "      let quickchartButtonEl =\n",
              "        document.querySelector('#df-2327c755-a7d0-466e-9944-c5659f013236 button');\n",
              "      quickchartButtonEl.style.display =\n",
              "        google.colab.kernel.accessAllowed ? 'block' : 'none';\n",
              "    })();\n",
              "  </script>\n",
              "</div>\n",
              "\n",
              "  <div id=\"id_bc92631c-3d10-44a6-bc14-c631db8bdca1\">\n",
              "    <style>\n",
              "      .colab-df-generate {\n",
              "        background-color: #E8F0FE;\n",
              "        border: none;\n",
              "        border-radius: 50%;\n",
              "        cursor: pointer;\n",
              "        display: none;\n",
              "        fill: #1967D2;\n",
              "        height: 32px;\n",
              "        padding: 0 0 0 0;\n",
              "        width: 32px;\n",
              "      }\n",
              "\n",
              "      .colab-df-generate:hover {\n",
              "        background-color: #E2EBFA;\n",
              "        box-shadow: 0px 1px 2px rgba(60, 64, 67, 0.3), 0px 1px 3px 1px rgba(60, 64, 67, 0.15);\n",
              "        fill: #174EA6;\n",
              "      }\n",
              "\n",
              "      [theme=dark] .colab-df-generate {\n",
              "        background-color: #3B4455;\n",
              "        fill: #D2E3FC;\n",
              "      }\n",
              "\n",
              "      [theme=dark] .colab-df-generate:hover {\n",
              "        background-color: #434B5C;\n",
              "        box-shadow: 0px 1px 3px 1px rgba(0, 0, 0, 0.15);\n",
              "        filter: drop-shadow(0px 1px 2px rgba(0, 0, 0, 0.3));\n",
              "        fill: #FFFFFF;\n",
              "      }\n",
              "    </style>\n",
              "    <button class=\"colab-df-generate\" onclick=\"generateWithVariable('vif')\"\n",
              "            title=\"Generate code using this dataframe.\"\n",
              "            style=\"display:none;\">\n",
              "\n",
              "  <svg xmlns=\"http://www.w3.org/2000/svg\" height=\"24px\"viewBox=\"0 0 24 24\"\n",
              "       width=\"24px\">\n",
              "    <path d=\"M7,19H8.4L18.45,9,17,7.55,7,17.6ZM5,21V16.75L18.45,3.32a2,2,0,0,1,2.83,0l1.4,1.43a1.91,1.91,0,0,1,.58,1.4,1.91,1.91,0,0,1-.58,1.4L9.25,21ZM18.45,9,17,7.55Zm-12,3A5.31,5.31,0,0,0,4.9,8.1,5.31,5.31,0,0,0,1,6.5,5.31,5.31,0,0,0,4.9,4.9,5.31,5.31,0,0,0,6.5,1,5.31,5.31,0,0,0,8.1,4.9,5.31,5.31,0,0,0,12,6.5,5.46,5.46,0,0,0,6.5,12Z\"/>\n",
              "  </svg>\n",
              "    </button>\n",
              "    <script>\n",
              "      (() => {\n",
              "      const buttonEl =\n",
              "        document.querySelector('#id_bc92631c-3d10-44a6-bc14-c631db8bdca1 button.colab-df-generate');\n",
              "      buttonEl.style.display =\n",
              "        google.colab.kernel.accessAllowed ? 'block' : 'none';\n",
              "\n",
              "      buttonEl.onclick = () => {\n",
              "        google.colab.notebook.generateWithVariable('vif');\n",
              "      }\n",
              "      })();\n",
              "    </script>\n",
              "  </div>\n",
              "\n",
              "    </div>\n",
              "  </div>\n"
            ],
            "application/vnd.google.colaboratory.intrinsic+json": {
              "type": "dataframe",
              "variable_name": "vif",
              "summary": "{\n  \"name\": \"vif\",\n  \"rows\": 8,\n  \"fields\": [\n    {\n      \"column\": \"VIF\",\n      \"properties\": {\n        \"dtype\": \"number\",\n        \"std\": 2.7053792198765865,\n        \"min\": 1.0941464305729534,\n        \"max\": 7.263709285524481,\n        \"num_unique_values\": 8,\n        \"samples\": [\n          7.058313744335583,\n          1.299717396753841,\n          7.263709285524481\n        ],\n        \"semantic_type\": \"\",\n        \"description\": \"\"\n      }\n    },\n    {\n      \"column\": \"feature\",\n      \"properties\": {\n        \"dtype\": \"string\",\n        \"num_unique_values\": 8,\n        \"samples\": [\n          \"num_medications\",\n          \"number_inpatient\",\n          \"number_diagnoses\"\n        ],\n        \"semantic_type\": \"\",\n        \"description\": \"\"\n      }\n    }\n  ]\n}"
            }
          },
          "metadata": {},
          "execution_count": 66
        }
      ],
      "source": [
        "from statsmodels.stats.outliers_influence import variance_inflation_factor\n",
        "vif=pd.DataFrame()\n",
        "vif['VIF']=[variance_inflation_factor(data[num].values,i) for i in range(data[num].shape[1])]\n",
        "vif['feature']=data[num].columns\n",
        "vif=vif.sort_values('VIF',ascending=False)\n",
        "vif"
      ]
    },
    {
      "cell_type": "markdown",
      "metadata": {
        "id": "sFUSgbx8oH5T"
      },
      "source": [
        "There is no high multicollinearity between numerical features"
      ]
    },
    {
      "cell_type": "markdown",
      "metadata": {
        "id": "mVq-aBrcgOt8"
      },
      "source": [
        "Also it is better to club the previous years outpatient, inpatient and emergency vists into a new variable and drop the columns after joining."
      ]
    },
    {
      "cell_type": "code",
      "execution_count": null,
      "metadata": {
        "id": "Ncq5WP3sw9ZD"
      },
      "outputs": [],
      "source": [
        "data['preceding_year_visits']=data['number_outpatient']+data['number_emergency']+data['number_inpatient']"
      ]
    },
    {
      "cell_type": "code",
      "execution_count": null,
      "metadata": {
        "id": "lqaTAqL603-T"
      },
      "outputs": [],
      "source": [
        "# Dropping ‘number_outpatient’, ‘number_emergency’, ‘number_inpatient’\n",
        "data = data.drop(columns=['number_outpatient', 'number_emergency','number_inpatient'])"
      ]
    },
    {
      "cell_type": "markdown",
      "metadata": {
        "id": "YP2TUwLGgk2q"
      },
      "source": [
        "**Number of diagnoses**"
      ]
    },
    {
      "cell_type": "code",
      "execution_count": null,
      "metadata": {
        "colab": {
          "base_uri": "https://localhost:8080/"
        },
        "id": "Y9aUHkqOhDy4",
        "outputId": "f28bd79c-9c89-48e0-ccb7-2b5effa90ded"
      },
      "outputs": [
        {
          "output_type": "execute_result",
          "data": {
            "text/plain": [
              "number_diagnoses\n",
              "9     31835\n",
              "5      8518\n",
              "6      7243\n",
              "7      7093\n",
              "8      7028\n",
              "4      4121\n",
              "3      2165\n",
              "2       809\n",
              "1       186\n",
              "16       32\n",
              "13       13\n",
              "10       10\n",
              "11        7\n",
              "15        7\n",
              "12        5\n",
              "14        4\n",
              "Name: count, dtype: int64"
            ]
          },
          "metadata": {},
          "execution_count": 69
        }
      ],
      "source": [
        "data['number_diagnoses'].value_counts()"
      ]
    },
    {
      "cell_type": "code",
      "execution_count": null,
      "metadata": {
        "colab": {
          "base_uri": "https://localhost:8080/"
        },
        "id": "XuNT4ZEUEFln",
        "outputId": "6d2162d7-3e8a-4495-c6f1-9ccf10df5a05"
      },
      "outputs": [
        {
          "output_type": "execute_result",
          "data": {
            "text/plain": [
              "0    9\n",
              "Name: number_diagnoses, dtype: int64"
            ]
          },
          "metadata": {},
          "execution_count": 70
        }
      ],
      "source": [
        "data['number_diagnoses'].mode()"
      ]
    },
    {
      "cell_type": "markdown",
      "metadata": {
        "id": "4PEvTdXzEaqM"
      },
      "source": [
        "For number of diagnoses greater than 9 , we replace with 9 which is the mode"
      ]
    },
    {
      "cell_type": "code",
      "execution_count": null,
      "metadata": {
        "id": "qVrlKINO1zBu"
      },
      "outputs": [],
      "source": [
        "data.number_diagnoses = data.number_diagnoses.replace([10,11,12,13,13.5,14,15,16],9)"
      ]
    },
    {
      "cell_type": "markdown",
      "metadata": {
        "id": "ukTdzc7_hVEw"
      },
      "source": [
        "List of new numerical columns"
      ]
    },
    {
      "cell_type": "code",
      "execution_count": null,
      "metadata": {
        "id": "HHaABoY_hnPK"
      },
      "outputs": [],
      "source": [
        "num_cols = ['time_in_hospital',\n",
        "       'num_lab_procedures', 'num_procedures', 'num_medications',\n",
        "      'preceding_year_visits','number_diagnoses']"
      ]
    },
    {
      "cell_type": "markdown",
      "metadata": {
        "id": "BTw48cmIhaHO"
      },
      "source": [
        "To check for skewness and outliers"
      ]
    },
    {
      "cell_type": "markdown",
      "metadata": {
        "id": "2FwLp7f_iB8l"
      },
      "source": [
        "Highly skewed data and hence using IQR to handle the outliers.\n",
        "\n",
        "Only **num_lab_procedures, num_medications and preceeding_year_vists** will be treated for outliers as it has many outliers.\n",
        "\n",
        "The other numerical features have fewer outliers and may be relevant to data and hence not treating for outliers."
      ]
    },
    {
      "cell_type": "code",
      "execution_count": null,
      "metadata": {
        "id": "ktZ0lLIJvKfi"
      },
      "outputs": [],
      "source": [
        "num_cols_out= data[['num_lab_procedures', 'num_medications',\n",
        "      'preceding_year_visits']]"
      ]
    },
    {
      "cell_type": "markdown",
      "metadata": {
        "id": "G0me4HQBpgY9"
      },
      "source": [
        "Using IQR method"
      ]
    },
    {
      "cell_type": "code",
      "execution_count": null,
      "metadata": {
        "id": "lV_y4SGZ0CzJ"
      },
      "outputs": [],
      "source": [
        "for j in num_cols_out:\n",
        "    Q1=np.percentile(data[j],25,method='midpoint')\n",
        "    Q2=np.percentile(data[j],50,method='midpoint')\n",
        "    Q3=np.percentile(data[j],75,method='midpoint')\n",
        "    IQR = Q3-Q1\n",
        "    low_lim = Q1-1.5*IQR\n",
        "    up_lim = Q3+1.5*IQR\n",
        "\n",
        "    outliers = []\n",
        "    for h in data[j]:\n",
        "        if ((h < low_lim) | (h > up_lim)):\n",
        "            outliers.append(h)\n",
        "    data[j]=data[j].clip(lower=low_lim,upper=up_lim)"
      ]
    },
    {
      "cell_type": "markdown",
      "metadata": {
        "id": "fC5NvhWo7n51"
      },
      "source": [
        "Outliers are handled"
      ]
    },
    {
      "cell_type": "markdown",
      "metadata": {
        "id": "gOaqOadoE6pV"
      },
      "source": [
        "**Medications Administered**"
      ]
    },
    {
      "cell_type": "markdown",
      "metadata": {
        "id": "GwVXW-5LFAcn"
      },
      "source": [
        "Citoglipton and Examide were not prescribed and hence dropping both the columns"
      ]
    },
    {
      "cell_type": "code",
      "execution_count": null,
      "metadata": {
        "id": "giI3pM5N1-iq"
      },
      "outputs": [],
      "source": [
        "data.drop(['citoglipton','examide'],axis=1,inplace=True)"
      ]
    },
    {
      "cell_type": "markdown",
      "metadata": {
        "id": "T5qUbyOT8RIs"
      },
      "source": [
        "**Encoding the Target Feature**"
      ]
    },
    {
      "cell_type": "markdown",
      "metadata": {
        "id": "KstjUxdcQA_d"
      },
      "source": [
        "Target Variable : Readmitted\n",
        "\n",
        "This column our target feature. It is about \"days to inpatient readmission\"\n",
        "\n",
        "If the patient was readmitted in less than 30 days \"<30\"\n",
        "\n",
        "if the patient was readmitted in more than 30 days \">30\"\n",
        "\n",
        "If there is no record -  \"NO\"\n",
        "\n",
        "We decided to reduce these values to two and map them according to the following rule;\n",
        "\n",
        "NO -> 0\n",
        "\n",
        "<30 and >30 -> 1"
      ]
    },
    {
      "cell_type": "markdown",
      "metadata": {
        "id": "P0TbRgA8h2jN"
      },
      "source": [
        "For a binary classification : Target variable is also assigned binary values"
      ]
    },
    {
      "cell_type": "code",
      "execution_count": null,
      "metadata": {
        "colab": {
          "base_uri": "https://localhost:8080/"
        },
        "id": "Xa3O3PmojyCY",
        "outputId": "6a1ec9e3-0185-43b2-e671-b0a68a668aa9"
      },
      "outputs": [
        {
          "output_type": "execute_result",
          "data": {
            "text/plain": [
              "readmitted\n",
              "NO     52009\n",
              ">30    13884\n",
              "<30     3183\n",
              "Name: count, dtype: int64"
            ]
          },
          "metadata": {},
          "execution_count": 76
        }
      ],
      "source": [
        "data['readmitted'].value_counts()"
      ]
    },
    {
      "cell_type": "code",
      "execution_count": null,
      "metadata": {
        "id": "H3vkAZgVP_dX"
      },
      "outputs": [],
      "source": [
        "data['readmitted'].replace({'NO':0,'<30':1,'>30':1},inplace=True)"
      ]
    },
    {
      "cell_type": "code",
      "execution_count": null,
      "metadata": {
        "colab": {
          "base_uri": "https://localhost:8080/"
        },
        "id": "bxGgDnVRrzQ_",
        "outputId": "e57505df-9dad-4100-d76f-c090c2f0ca59"
      },
      "outputs": [
        {
          "output_type": "execute_result",
          "data": {
            "text/plain": [
              "readmitted\n",
              "0    52009\n",
              "1    17067\n",
              "Name: count, dtype: int64"
            ]
          },
          "metadata": {},
          "execution_count": 78
        }
      ],
      "source": [
        "data['readmitted'].value_counts()"
      ]
    },
    {
      "cell_type": "markdown",
      "metadata": {
        "id": "xliAvo1th-wE"
      },
      "source": [
        "**Check for multi-collinearity of numerical features** after handling outliers"
      ]
    },
    {
      "cell_type": "code",
      "execution_count": null,
      "metadata": {
        "colab": {
          "base_uri": "https://localhost:8080/",
          "height": 237
        },
        "id": "vDX876v3-uRh",
        "outputId": "5965f1a7-a834-4d20-f447-542c0c1e3129"
      },
      "outputs": [
        {
          "output_type": "execute_result",
          "data": {
            "text/plain": [
              "        VIF                feature\n",
              "3  8.006070        num_medications\n",
              "5  7.907742       number_diagnoses\n",
              "1  5.880711     num_lab_procedures\n",
              "0  4.254056       time_in_hospital\n",
              "2  1.941247         num_procedures\n",
              "4  1.570683  preceding_year_visits"
            ],
            "text/html": [
              "\n",
              "  <div id=\"df-19a618b5-2f44-4392-b4cf-17da17190c01\" class=\"colab-df-container\">\n",
              "    <div>\n",
              "<style scoped>\n",
              "    .dataframe tbody tr th:only-of-type {\n",
              "        vertical-align: middle;\n",
              "    }\n",
              "\n",
              "    .dataframe tbody tr th {\n",
              "        vertical-align: top;\n",
              "    }\n",
              "\n",
              "    .dataframe thead th {\n",
              "        text-align: right;\n",
              "    }\n",
              "</style>\n",
              "<table border=\"1\" class=\"dataframe\">\n",
              "  <thead>\n",
              "    <tr style=\"text-align: right;\">\n",
              "      <th></th>\n",
              "      <th>VIF</th>\n",
              "      <th>feature</th>\n",
              "    </tr>\n",
              "  </thead>\n",
              "  <tbody>\n",
              "    <tr>\n",
              "      <th>3</th>\n",
              "      <td>8.006070</td>\n",
              "      <td>num_medications</td>\n",
              "    </tr>\n",
              "    <tr>\n",
              "      <th>5</th>\n",
              "      <td>7.907742</td>\n",
              "      <td>number_diagnoses</td>\n",
              "    </tr>\n",
              "    <tr>\n",
              "      <th>1</th>\n",
              "      <td>5.880711</td>\n",
              "      <td>num_lab_procedures</td>\n",
              "    </tr>\n",
              "    <tr>\n",
              "      <th>0</th>\n",
              "      <td>4.254056</td>\n",
              "      <td>time_in_hospital</td>\n",
              "    </tr>\n",
              "    <tr>\n",
              "      <th>2</th>\n",
              "      <td>1.941247</td>\n",
              "      <td>num_procedures</td>\n",
              "    </tr>\n",
              "    <tr>\n",
              "      <th>4</th>\n",
              "      <td>1.570683</td>\n",
              "      <td>preceding_year_visits</td>\n",
              "    </tr>\n",
              "  </tbody>\n",
              "</table>\n",
              "</div>\n",
              "    <div class=\"colab-df-buttons\">\n",
              "\n",
              "  <div class=\"colab-df-container\">\n",
              "    <button class=\"colab-df-convert\" onclick=\"convertToInteractive('df-19a618b5-2f44-4392-b4cf-17da17190c01')\"\n",
              "            title=\"Convert this dataframe to an interactive table.\"\n",
              "            style=\"display:none;\">\n",
              "\n",
              "  <svg xmlns=\"http://www.w3.org/2000/svg\" height=\"24px\" viewBox=\"0 -960 960 960\">\n",
              "    <path d=\"M120-120v-720h720v720H120Zm60-500h600v-160H180v160Zm220 220h160v-160H400v160Zm0 220h160v-160H400v160ZM180-400h160v-160H180v160Zm440 0h160v-160H620v160ZM180-180h160v-160H180v160Zm440 0h160v-160H620v160Z\"/>\n",
              "  </svg>\n",
              "    </button>\n",
              "\n",
              "  <style>\n",
              "    .colab-df-container {\n",
              "      display:flex;\n",
              "      gap: 12px;\n",
              "    }\n",
              "\n",
              "    .colab-df-convert {\n",
              "      background-color: #E8F0FE;\n",
              "      border: none;\n",
              "      border-radius: 50%;\n",
              "      cursor: pointer;\n",
              "      display: none;\n",
              "      fill: #1967D2;\n",
              "      height: 32px;\n",
              "      padding: 0 0 0 0;\n",
              "      width: 32px;\n",
              "    }\n",
              "\n",
              "    .colab-df-convert:hover {\n",
              "      background-color: #E2EBFA;\n",
              "      box-shadow: 0px 1px 2px rgba(60, 64, 67, 0.3), 0px 1px 3px 1px rgba(60, 64, 67, 0.15);\n",
              "      fill: #174EA6;\n",
              "    }\n",
              "\n",
              "    .colab-df-buttons div {\n",
              "      margin-bottom: 4px;\n",
              "    }\n",
              "\n",
              "    [theme=dark] .colab-df-convert {\n",
              "      background-color: #3B4455;\n",
              "      fill: #D2E3FC;\n",
              "    }\n",
              "\n",
              "    [theme=dark] .colab-df-convert:hover {\n",
              "      background-color: #434B5C;\n",
              "      box-shadow: 0px 1px 3px 1px rgba(0, 0, 0, 0.15);\n",
              "      filter: drop-shadow(0px 1px 2px rgba(0, 0, 0, 0.3));\n",
              "      fill: #FFFFFF;\n",
              "    }\n",
              "  </style>\n",
              "\n",
              "    <script>\n",
              "      const buttonEl =\n",
              "        document.querySelector('#df-19a618b5-2f44-4392-b4cf-17da17190c01 button.colab-df-convert');\n",
              "      buttonEl.style.display =\n",
              "        google.colab.kernel.accessAllowed ? 'block' : 'none';\n",
              "\n",
              "      async function convertToInteractive(key) {\n",
              "        const element = document.querySelector('#df-19a618b5-2f44-4392-b4cf-17da17190c01');\n",
              "        const dataTable =\n",
              "          await google.colab.kernel.invokeFunction('convertToInteractive',\n",
              "                                                    [key], {});\n",
              "        if (!dataTable) return;\n",
              "\n",
              "        const docLinkHtml = 'Like what you see? Visit the ' +\n",
              "          '<a target=\"_blank\" href=https://colab.research.google.com/notebooks/data_table.ipynb>data table notebook</a>'\n",
              "          + ' to learn more about interactive tables.';\n",
              "        element.innerHTML = '';\n",
              "        dataTable['output_type'] = 'display_data';\n",
              "        await google.colab.output.renderOutput(dataTable, element);\n",
              "        const docLink = document.createElement('div');\n",
              "        docLink.innerHTML = docLinkHtml;\n",
              "        element.appendChild(docLink);\n",
              "      }\n",
              "    </script>\n",
              "  </div>\n",
              "\n",
              "\n",
              "<div id=\"df-84cc7c8a-3c58-49c1-b68f-fba232ac54f3\">\n",
              "  <button class=\"colab-df-quickchart\" onclick=\"quickchart('df-84cc7c8a-3c58-49c1-b68f-fba232ac54f3')\"\n",
              "            title=\"Suggest charts\"\n",
              "            style=\"display:none;\">\n",
              "\n",
              "<svg xmlns=\"http://www.w3.org/2000/svg\" height=\"24px\"viewBox=\"0 0 24 24\"\n",
              "     width=\"24px\">\n",
              "    <g>\n",
              "        <path d=\"M19 3H5c-1.1 0-2 .9-2 2v14c0 1.1.9 2 2 2h14c1.1 0 2-.9 2-2V5c0-1.1-.9-2-2-2zM9 17H7v-7h2v7zm4 0h-2V7h2v10zm4 0h-2v-4h2v4z\"/>\n",
              "    </g>\n",
              "</svg>\n",
              "  </button>\n",
              "\n",
              "<style>\n",
              "  .colab-df-quickchart {\n",
              "      --bg-color: #E8F0FE;\n",
              "      --fill-color: #1967D2;\n",
              "      --hover-bg-color: #E2EBFA;\n",
              "      --hover-fill-color: #174EA6;\n",
              "      --disabled-fill-color: #AAA;\n",
              "      --disabled-bg-color: #DDD;\n",
              "  }\n",
              "\n",
              "  [theme=dark] .colab-df-quickchart {\n",
              "      --bg-color: #3B4455;\n",
              "      --fill-color: #D2E3FC;\n",
              "      --hover-bg-color: #434B5C;\n",
              "      --hover-fill-color: #FFFFFF;\n",
              "      --disabled-bg-color: #3B4455;\n",
              "      --disabled-fill-color: #666;\n",
              "  }\n",
              "\n",
              "  .colab-df-quickchart {\n",
              "    background-color: var(--bg-color);\n",
              "    border: none;\n",
              "    border-radius: 50%;\n",
              "    cursor: pointer;\n",
              "    display: none;\n",
              "    fill: var(--fill-color);\n",
              "    height: 32px;\n",
              "    padding: 0;\n",
              "    width: 32px;\n",
              "  }\n",
              "\n",
              "  .colab-df-quickchart:hover {\n",
              "    background-color: var(--hover-bg-color);\n",
              "    box-shadow: 0 1px 2px rgba(60, 64, 67, 0.3), 0 1px 3px 1px rgba(60, 64, 67, 0.15);\n",
              "    fill: var(--button-hover-fill-color);\n",
              "  }\n",
              "\n",
              "  .colab-df-quickchart-complete:disabled,\n",
              "  .colab-df-quickchart-complete:disabled:hover {\n",
              "    background-color: var(--disabled-bg-color);\n",
              "    fill: var(--disabled-fill-color);\n",
              "    box-shadow: none;\n",
              "  }\n",
              "\n",
              "  .colab-df-spinner {\n",
              "    border: 2px solid var(--fill-color);\n",
              "    border-color: transparent;\n",
              "    border-bottom-color: var(--fill-color);\n",
              "    animation:\n",
              "      spin 1s steps(1) infinite;\n",
              "  }\n",
              "\n",
              "  @keyframes spin {\n",
              "    0% {\n",
              "      border-color: transparent;\n",
              "      border-bottom-color: var(--fill-color);\n",
              "      border-left-color: var(--fill-color);\n",
              "    }\n",
              "    20% {\n",
              "      border-color: transparent;\n",
              "      border-left-color: var(--fill-color);\n",
              "      border-top-color: var(--fill-color);\n",
              "    }\n",
              "    30% {\n",
              "      border-color: transparent;\n",
              "      border-left-color: var(--fill-color);\n",
              "      border-top-color: var(--fill-color);\n",
              "      border-right-color: var(--fill-color);\n",
              "    }\n",
              "    40% {\n",
              "      border-color: transparent;\n",
              "      border-right-color: var(--fill-color);\n",
              "      border-top-color: var(--fill-color);\n",
              "    }\n",
              "    60% {\n",
              "      border-color: transparent;\n",
              "      border-right-color: var(--fill-color);\n",
              "    }\n",
              "    80% {\n",
              "      border-color: transparent;\n",
              "      border-right-color: var(--fill-color);\n",
              "      border-bottom-color: var(--fill-color);\n",
              "    }\n",
              "    90% {\n",
              "      border-color: transparent;\n",
              "      border-bottom-color: var(--fill-color);\n",
              "    }\n",
              "  }\n",
              "</style>\n",
              "\n",
              "  <script>\n",
              "    async function quickchart(key) {\n",
              "      const quickchartButtonEl =\n",
              "        document.querySelector('#' + key + ' button');\n",
              "      quickchartButtonEl.disabled = true;  // To prevent multiple clicks.\n",
              "      quickchartButtonEl.classList.add('colab-df-spinner');\n",
              "      try {\n",
              "        const charts = await google.colab.kernel.invokeFunction(\n",
              "            'suggestCharts', [key], {});\n",
              "      } catch (error) {\n",
              "        console.error('Error during call to suggestCharts:', error);\n",
              "      }\n",
              "      quickchartButtonEl.classList.remove('colab-df-spinner');\n",
              "      quickchartButtonEl.classList.add('colab-df-quickchart-complete');\n",
              "    }\n",
              "    (() => {\n",
              "      let quickchartButtonEl =\n",
              "        document.querySelector('#df-84cc7c8a-3c58-49c1-b68f-fba232ac54f3 button');\n",
              "      quickchartButtonEl.style.display =\n",
              "        google.colab.kernel.accessAllowed ? 'block' : 'none';\n",
              "    })();\n",
              "  </script>\n",
              "</div>\n",
              "\n",
              "  <div id=\"id_12ab2438-6695-474b-8a98-e6d95b9cd478\">\n",
              "    <style>\n",
              "      .colab-df-generate {\n",
              "        background-color: #E8F0FE;\n",
              "        border: none;\n",
              "        border-radius: 50%;\n",
              "        cursor: pointer;\n",
              "        display: none;\n",
              "        fill: #1967D2;\n",
              "        height: 32px;\n",
              "        padding: 0 0 0 0;\n",
              "        width: 32px;\n",
              "      }\n",
              "\n",
              "      .colab-df-generate:hover {\n",
              "        background-color: #E2EBFA;\n",
              "        box-shadow: 0px 1px 2px rgba(60, 64, 67, 0.3), 0px 1px 3px 1px rgba(60, 64, 67, 0.15);\n",
              "        fill: #174EA6;\n",
              "      }\n",
              "\n",
              "      [theme=dark] .colab-df-generate {\n",
              "        background-color: #3B4455;\n",
              "        fill: #D2E3FC;\n",
              "      }\n",
              "\n",
              "      [theme=dark] .colab-df-generate:hover {\n",
              "        background-color: #434B5C;\n",
              "        box-shadow: 0px 1px 3px 1px rgba(0, 0, 0, 0.15);\n",
              "        filter: drop-shadow(0px 1px 2px rgba(0, 0, 0, 0.3));\n",
              "        fill: #FFFFFF;\n",
              "      }\n",
              "    </style>\n",
              "    <button class=\"colab-df-generate\" onclick=\"generateWithVariable('vif')\"\n",
              "            title=\"Generate code using this dataframe.\"\n",
              "            style=\"display:none;\">\n",
              "\n",
              "  <svg xmlns=\"http://www.w3.org/2000/svg\" height=\"24px\"viewBox=\"0 0 24 24\"\n",
              "       width=\"24px\">\n",
              "    <path d=\"M7,19H8.4L18.45,9,17,7.55,7,17.6ZM5,21V16.75L18.45,3.32a2,2,0,0,1,2.83,0l1.4,1.43a1.91,1.91,0,0,1,.58,1.4,1.91,1.91,0,0,1-.58,1.4L9.25,21ZM18.45,9,17,7.55Zm-12,3A5.31,5.31,0,0,0,4.9,8.1,5.31,5.31,0,0,0,1,6.5,5.31,5.31,0,0,0,4.9,4.9,5.31,5.31,0,0,0,6.5,1,5.31,5.31,0,0,0,8.1,4.9,5.31,5.31,0,0,0,12,6.5,5.46,5.46,0,0,0,6.5,12Z\"/>\n",
              "  </svg>\n",
              "    </button>\n",
              "    <script>\n",
              "      (() => {\n",
              "      const buttonEl =\n",
              "        document.querySelector('#id_12ab2438-6695-474b-8a98-e6d95b9cd478 button.colab-df-generate');\n",
              "      buttonEl.style.display =\n",
              "        google.colab.kernel.accessAllowed ? 'block' : 'none';\n",
              "\n",
              "      buttonEl.onclick = () => {\n",
              "        google.colab.notebook.generateWithVariable('vif');\n",
              "      }\n",
              "      })();\n",
              "    </script>\n",
              "  </div>\n",
              "\n",
              "    </div>\n",
              "  </div>\n"
            ],
            "application/vnd.google.colaboratory.intrinsic+json": {
              "type": "dataframe",
              "variable_name": "vif",
              "summary": "{\n  \"name\": \"vif\",\n  \"rows\": 6,\n  \"fields\": [\n    {\n      \"column\": \"VIF\",\n      \"properties\": {\n        \"dtype\": \"number\",\n        \"std\": 2.825154771119001,\n        \"min\": 1.570682664552597,\n        \"max\": 8.006070208168122,\n        \"num_unique_values\": 6,\n        \"samples\": [\n          8.006070208168122,\n          7.907741745568638,\n          1.570682664552597\n        ],\n        \"semantic_type\": \"\",\n        \"description\": \"\"\n      }\n    },\n    {\n      \"column\": \"feature\",\n      \"properties\": {\n        \"dtype\": \"string\",\n        \"num_unique_values\": 6,\n        \"samples\": [\n          \"num_medications\",\n          \"number_diagnoses\",\n          \"preceding_year_visits\"\n        ],\n        \"semantic_type\": \"\",\n        \"description\": \"\"\n      }\n    }\n  ]\n}"
            }
          },
          "metadata": {},
          "execution_count": 79
        }
      ],
      "source": [
        "from statsmodels.stats.outliers_influence import variance_inflation_factor\n",
        "vif=pd.DataFrame()\n",
        "vif['VIF']=[variance_inflation_factor(data[num_cols].values,i) for i in range(data[num_cols].shape[1])]\n",
        "vif['feature']=data[num_cols].columns\n",
        "vif=vif.sort_values('VIF',ascending=False)\n",
        "vif"
      ]
    },
    {
      "cell_type": "markdown",
      "metadata": {
        "id": "NUeZUN08DaMg"
      },
      "source": [
        "Since Variation Inflation Factor (VIF) is less than 10 ie.there is no high multicollinearity between features"
      ]
    },
    {
      "cell_type": "markdown",
      "metadata": {
        "id": "UmYB9vfhig62"
      },
      "source": [
        "**To check for statistical significance using Chi-Square and Anova one-way**\n",
        "\n",
        "Chi-square for catergorical features and Anova on-way for numerical features"
      ]
    },
    {
      "cell_type": "code",
      "execution_count": null,
      "metadata": {
        "colab": {
          "base_uri": "https://localhost:8080/",
          "height": 1000
        },
        "id": "hVdMimiXQtuS",
        "outputId": "2eda32b4-6fe3-4fa5-b4dd-24cfd7a3a53a"
      },
      "outputs": [
        {
          "output_type": "execute_result",
          "data": {
            "text/plain": [
              "                     columns        p_value   significance\n",
              "38     preceding_year_visits   0.000000e+00    Significant\n",
              "37                readmitted   0.000000e+00    Significant\n",
              "11          number_diagnoses  9.601178e-226    Significant\n",
              "7         num_lab_procedures  7.851715e-139    Significant\n",
              "4   discharge_disposition_id  9.603091e-137    Significant\n",
              "5        admission_source_id   8.320790e-87    Significant\n",
              "3          admission_type_id   4.345554e-59    Significant\n",
              "9            num_medications   1.096421e-56    Significant\n",
              "2                        age   2.689435e-50    Significant\n",
              "0                       race   1.713377e-45    Significant\n",
              "36               diabetesMed   3.273435e-37    Significant\n",
              "6           time_in_hospital   1.637351e-31    Significant\n",
              "10                    diag_1   2.761329e-17    Significant\n",
              "29                   insulin   8.112981e-14    Significant\n",
              "35                    change   3.880359e-10    Significant\n",
              "23              pioglitazone   1.256934e-09    Significant\n",
              "20                 glipizide   2.009108e-08    Significant\n",
              "14                 metformin   2.882027e-07    Significant\n",
              "12             max_glu_serum   7.935466e-05    Significant\n",
              "15               repaglinide   8.094864e-04    Significant\n",
              "8             num_procedures   5.902526e-03    Significant\n",
              "24             rosiglitazone   2.646303e-02    Significant\n",
              "25                  acarbose   4.055387e-02    Significant\n",
              "18               glimepiride   4.272547e-02    Significant\n",
              "13                 A1Cresult   4.394279e-02    Significant\n",
              "1                     gender   5.618514e-02  Insignificant\n",
              "17            chlorpropamide   1.226397e-01  Insignificant\n",
              "21                 glyburide   1.612802e-01  Insignificant\n",
              "28                tolazamide   2.175634e-01  Insignificant\n",
              "26                  miglitol   3.355557e-01  Insignificant\n",
              "30       glyburide-metformin   4.670997e-01  Insignificant\n",
              "16               nateglinide   5.280993e-01  Insignificant\n",
              "19             acetohexamide   5.575985e-01  Insignificant\n",
              "27              troglitazone   9.923495e-01  Insignificant\n",
              "33   metformin-rosiglitazone   1.000000e+00  Insignificant\n",
              "34    metformin-pioglitazone   1.000000e+00  Insignificant\n",
              "31       glipizide-metformin   1.000000e+00  Insignificant\n",
              "32  glimepiride-pioglitazone   1.000000e+00  Insignificant\n",
              "22               tolbutamide   1.000000e+00  Insignificant"
            ],
            "text/html": [
              "\n",
              "  <div id=\"df-f4ac2eec-e8db-43d8-bffa-bda4debf94ae\" class=\"colab-df-container\">\n",
              "    <div>\n",
              "<style scoped>\n",
              "    .dataframe tbody tr th:only-of-type {\n",
              "        vertical-align: middle;\n",
              "    }\n",
              "\n",
              "    .dataframe tbody tr th {\n",
              "        vertical-align: top;\n",
              "    }\n",
              "\n",
              "    .dataframe thead th {\n",
              "        text-align: right;\n",
              "    }\n",
              "</style>\n",
              "<table border=\"1\" class=\"dataframe\">\n",
              "  <thead>\n",
              "    <tr style=\"text-align: right;\">\n",
              "      <th></th>\n",
              "      <th>columns</th>\n",
              "      <th>p_value</th>\n",
              "      <th>significance</th>\n",
              "    </tr>\n",
              "  </thead>\n",
              "  <tbody>\n",
              "    <tr>\n",
              "      <th>38</th>\n",
              "      <td>preceding_year_visits</td>\n",
              "      <td>0.000000e+00</td>\n",
              "      <td>Significant</td>\n",
              "    </tr>\n",
              "    <tr>\n",
              "      <th>37</th>\n",
              "      <td>readmitted</td>\n",
              "      <td>0.000000e+00</td>\n",
              "      <td>Significant</td>\n",
              "    </tr>\n",
              "    <tr>\n",
              "      <th>11</th>\n",
              "      <td>number_diagnoses</td>\n",
              "      <td>9.601178e-226</td>\n",
              "      <td>Significant</td>\n",
              "    </tr>\n",
              "    <tr>\n",
              "      <th>7</th>\n",
              "      <td>num_lab_procedures</td>\n",
              "      <td>7.851715e-139</td>\n",
              "      <td>Significant</td>\n",
              "    </tr>\n",
              "    <tr>\n",
              "      <th>4</th>\n",
              "      <td>discharge_disposition_id</td>\n",
              "      <td>9.603091e-137</td>\n",
              "      <td>Significant</td>\n",
              "    </tr>\n",
              "    <tr>\n",
              "      <th>5</th>\n",
              "      <td>admission_source_id</td>\n",
              "      <td>8.320790e-87</td>\n",
              "      <td>Significant</td>\n",
              "    </tr>\n",
              "    <tr>\n",
              "      <th>3</th>\n",
              "      <td>admission_type_id</td>\n",
              "      <td>4.345554e-59</td>\n",
              "      <td>Significant</td>\n",
              "    </tr>\n",
              "    <tr>\n",
              "      <th>9</th>\n",
              "      <td>num_medications</td>\n",
              "      <td>1.096421e-56</td>\n",
              "      <td>Significant</td>\n",
              "    </tr>\n",
              "    <tr>\n",
              "      <th>2</th>\n",
              "      <td>age</td>\n",
              "      <td>2.689435e-50</td>\n",
              "      <td>Significant</td>\n",
              "    </tr>\n",
              "    <tr>\n",
              "      <th>0</th>\n",
              "      <td>race</td>\n",
              "      <td>1.713377e-45</td>\n",
              "      <td>Significant</td>\n",
              "    </tr>\n",
              "    <tr>\n",
              "      <th>36</th>\n",
              "      <td>diabetesMed</td>\n",
              "      <td>3.273435e-37</td>\n",
              "      <td>Significant</td>\n",
              "    </tr>\n",
              "    <tr>\n",
              "      <th>6</th>\n",
              "      <td>time_in_hospital</td>\n",
              "      <td>1.637351e-31</td>\n",
              "      <td>Significant</td>\n",
              "    </tr>\n",
              "    <tr>\n",
              "      <th>10</th>\n",
              "      <td>diag_1</td>\n",
              "      <td>2.761329e-17</td>\n",
              "      <td>Significant</td>\n",
              "    </tr>\n",
              "    <tr>\n",
              "      <th>29</th>\n",
              "      <td>insulin</td>\n",
              "      <td>8.112981e-14</td>\n",
              "      <td>Significant</td>\n",
              "    </tr>\n",
              "    <tr>\n",
              "      <th>35</th>\n",
              "      <td>change</td>\n",
              "      <td>3.880359e-10</td>\n",
              "      <td>Significant</td>\n",
              "    </tr>\n",
              "    <tr>\n",
              "      <th>23</th>\n",
              "      <td>pioglitazone</td>\n",
              "      <td>1.256934e-09</td>\n",
              "      <td>Significant</td>\n",
              "    </tr>\n",
              "    <tr>\n",
              "      <th>20</th>\n",
              "      <td>glipizide</td>\n",
              "      <td>2.009108e-08</td>\n",
              "      <td>Significant</td>\n",
              "    </tr>\n",
              "    <tr>\n",
              "      <th>14</th>\n",
              "      <td>metformin</td>\n",
              "      <td>2.882027e-07</td>\n",
              "      <td>Significant</td>\n",
              "    </tr>\n",
              "    <tr>\n",
              "      <th>12</th>\n",
              "      <td>max_glu_serum</td>\n",
              "      <td>7.935466e-05</td>\n",
              "      <td>Significant</td>\n",
              "    </tr>\n",
              "    <tr>\n",
              "      <th>15</th>\n",
              "      <td>repaglinide</td>\n",
              "      <td>8.094864e-04</td>\n",
              "      <td>Significant</td>\n",
              "    </tr>\n",
              "    <tr>\n",
              "      <th>8</th>\n",
              "      <td>num_procedures</td>\n",
              "      <td>5.902526e-03</td>\n",
              "      <td>Significant</td>\n",
              "    </tr>\n",
              "    <tr>\n",
              "      <th>24</th>\n",
              "      <td>rosiglitazone</td>\n",
              "      <td>2.646303e-02</td>\n",
              "      <td>Significant</td>\n",
              "    </tr>\n",
              "    <tr>\n",
              "      <th>25</th>\n",
              "      <td>acarbose</td>\n",
              "      <td>4.055387e-02</td>\n",
              "      <td>Significant</td>\n",
              "    </tr>\n",
              "    <tr>\n",
              "      <th>18</th>\n",
              "      <td>glimepiride</td>\n",
              "      <td>4.272547e-02</td>\n",
              "      <td>Significant</td>\n",
              "    </tr>\n",
              "    <tr>\n",
              "      <th>13</th>\n",
              "      <td>A1Cresult</td>\n",
              "      <td>4.394279e-02</td>\n",
              "      <td>Significant</td>\n",
              "    </tr>\n",
              "    <tr>\n",
              "      <th>1</th>\n",
              "      <td>gender</td>\n",
              "      <td>5.618514e-02</td>\n",
              "      <td>Insignificant</td>\n",
              "    </tr>\n",
              "    <tr>\n",
              "      <th>17</th>\n",
              "      <td>chlorpropamide</td>\n",
              "      <td>1.226397e-01</td>\n",
              "      <td>Insignificant</td>\n",
              "    </tr>\n",
              "    <tr>\n",
              "      <th>21</th>\n",
              "      <td>glyburide</td>\n",
              "      <td>1.612802e-01</td>\n",
              "      <td>Insignificant</td>\n",
              "    </tr>\n",
              "    <tr>\n",
              "      <th>28</th>\n",
              "      <td>tolazamide</td>\n",
              "      <td>2.175634e-01</td>\n",
              "      <td>Insignificant</td>\n",
              "    </tr>\n",
              "    <tr>\n",
              "      <th>26</th>\n",
              "      <td>miglitol</td>\n",
              "      <td>3.355557e-01</td>\n",
              "      <td>Insignificant</td>\n",
              "    </tr>\n",
              "    <tr>\n",
              "      <th>30</th>\n",
              "      <td>glyburide-metformin</td>\n",
              "      <td>4.670997e-01</td>\n",
              "      <td>Insignificant</td>\n",
              "    </tr>\n",
              "    <tr>\n",
              "      <th>16</th>\n",
              "      <td>nateglinide</td>\n",
              "      <td>5.280993e-01</td>\n",
              "      <td>Insignificant</td>\n",
              "    </tr>\n",
              "    <tr>\n",
              "      <th>19</th>\n",
              "      <td>acetohexamide</td>\n",
              "      <td>5.575985e-01</td>\n",
              "      <td>Insignificant</td>\n",
              "    </tr>\n",
              "    <tr>\n",
              "      <th>27</th>\n",
              "      <td>troglitazone</td>\n",
              "      <td>9.923495e-01</td>\n",
              "      <td>Insignificant</td>\n",
              "    </tr>\n",
              "    <tr>\n",
              "      <th>33</th>\n",
              "      <td>metformin-rosiglitazone</td>\n",
              "      <td>1.000000e+00</td>\n",
              "      <td>Insignificant</td>\n",
              "    </tr>\n",
              "    <tr>\n",
              "      <th>34</th>\n",
              "      <td>metformin-pioglitazone</td>\n",
              "      <td>1.000000e+00</td>\n",
              "      <td>Insignificant</td>\n",
              "    </tr>\n",
              "    <tr>\n",
              "      <th>31</th>\n",
              "      <td>glipizide-metformin</td>\n",
              "      <td>1.000000e+00</td>\n",
              "      <td>Insignificant</td>\n",
              "    </tr>\n",
              "    <tr>\n",
              "      <th>32</th>\n",
              "      <td>glimepiride-pioglitazone</td>\n",
              "      <td>1.000000e+00</td>\n",
              "      <td>Insignificant</td>\n",
              "    </tr>\n",
              "    <tr>\n",
              "      <th>22</th>\n",
              "      <td>tolbutamide</td>\n",
              "      <td>1.000000e+00</td>\n",
              "      <td>Insignificant</td>\n",
              "    </tr>\n",
              "  </tbody>\n",
              "</table>\n",
              "</div>\n",
              "    <div class=\"colab-df-buttons\">\n",
              "\n",
              "  <div class=\"colab-df-container\">\n",
              "    <button class=\"colab-df-convert\" onclick=\"convertToInteractive('df-f4ac2eec-e8db-43d8-bffa-bda4debf94ae')\"\n",
              "            title=\"Convert this dataframe to an interactive table.\"\n",
              "            style=\"display:none;\">\n",
              "\n",
              "  <svg xmlns=\"http://www.w3.org/2000/svg\" height=\"24px\" viewBox=\"0 -960 960 960\">\n",
              "    <path d=\"M120-120v-720h720v720H120Zm60-500h600v-160H180v160Zm220 220h160v-160H400v160Zm0 220h160v-160H400v160ZM180-400h160v-160H180v160Zm440 0h160v-160H620v160ZM180-180h160v-160H180v160Zm440 0h160v-160H620v160Z\"/>\n",
              "  </svg>\n",
              "    </button>\n",
              "\n",
              "  <style>\n",
              "    .colab-df-container {\n",
              "      display:flex;\n",
              "      gap: 12px;\n",
              "    }\n",
              "\n",
              "    .colab-df-convert {\n",
              "      background-color: #E8F0FE;\n",
              "      border: none;\n",
              "      border-radius: 50%;\n",
              "      cursor: pointer;\n",
              "      display: none;\n",
              "      fill: #1967D2;\n",
              "      height: 32px;\n",
              "      padding: 0 0 0 0;\n",
              "      width: 32px;\n",
              "    }\n",
              "\n",
              "    .colab-df-convert:hover {\n",
              "      background-color: #E2EBFA;\n",
              "      box-shadow: 0px 1px 2px rgba(60, 64, 67, 0.3), 0px 1px 3px 1px rgba(60, 64, 67, 0.15);\n",
              "      fill: #174EA6;\n",
              "    }\n",
              "\n",
              "    .colab-df-buttons div {\n",
              "      margin-bottom: 4px;\n",
              "    }\n",
              "\n",
              "    [theme=dark] .colab-df-convert {\n",
              "      background-color: #3B4455;\n",
              "      fill: #D2E3FC;\n",
              "    }\n",
              "\n",
              "    [theme=dark] .colab-df-convert:hover {\n",
              "      background-color: #434B5C;\n",
              "      box-shadow: 0px 1px 3px 1px rgba(0, 0, 0, 0.15);\n",
              "      filter: drop-shadow(0px 1px 2px rgba(0, 0, 0, 0.3));\n",
              "      fill: #FFFFFF;\n",
              "    }\n",
              "  </style>\n",
              "\n",
              "    <script>\n",
              "      const buttonEl =\n",
              "        document.querySelector('#df-f4ac2eec-e8db-43d8-bffa-bda4debf94ae button.colab-df-convert');\n",
              "      buttonEl.style.display =\n",
              "        google.colab.kernel.accessAllowed ? 'block' : 'none';\n",
              "\n",
              "      async function convertToInteractive(key) {\n",
              "        const element = document.querySelector('#df-f4ac2eec-e8db-43d8-bffa-bda4debf94ae');\n",
              "        const dataTable =\n",
              "          await google.colab.kernel.invokeFunction('convertToInteractive',\n",
              "                                                    [key], {});\n",
              "        if (!dataTable) return;\n",
              "\n",
              "        const docLinkHtml = 'Like what you see? Visit the ' +\n",
              "          '<a target=\"_blank\" href=https://colab.research.google.com/notebooks/data_table.ipynb>data table notebook</a>'\n",
              "          + ' to learn more about interactive tables.';\n",
              "        element.innerHTML = '';\n",
              "        dataTable['output_type'] = 'display_data';\n",
              "        await google.colab.output.renderOutput(dataTable, element);\n",
              "        const docLink = document.createElement('div');\n",
              "        docLink.innerHTML = docLinkHtml;\n",
              "        element.appendChild(docLink);\n",
              "      }\n",
              "    </script>\n",
              "  </div>\n",
              "\n",
              "\n",
              "<div id=\"df-5f340775-9398-4cdb-837c-685994b7b49e\">\n",
              "  <button class=\"colab-df-quickchart\" onclick=\"quickchart('df-5f340775-9398-4cdb-837c-685994b7b49e')\"\n",
              "            title=\"Suggest charts\"\n",
              "            style=\"display:none;\">\n",
              "\n",
              "<svg xmlns=\"http://www.w3.org/2000/svg\" height=\"24px\"viewBox=\"0 0 24 24\"\n",
              "     width=\"24px\">\n",
              "    <g>\n",
              "        <path d=\"M19 3H5c-1.1 0-2 .9-2 2v14c0 1.1.9 2 2 2h14c1.1 0 2-.9 2-2V5c0-1.1-.9-2-2-2zM9 17H7v-7h2v7zm4 0h-2V7h2v10zm4 0h-2v-4h2v4z\"/>\n",
              "    </g>\n",
              "</svg>\n",
              "  </button>\n",
              "\n",
              "<style>\n",
              "  .colab-df-quickchart {\n",
              "      --bg-color: #E8F0FE;\n",
              "      --fill-color: #1967D2;\n",
              "      --hover-bg-color: #E2EBFA;\n",
              "      --hover-fill-color: #174EA6;\n",
              "      --disabled-fill-color: #AAA;\n",
              "      --disabled-bg-color: #DDD;\n",
              "  }\n",
              "\n",
              "  [theme=dark] .colab-df-quickchart {\n",
              "      --bg-color: #3B4455;\n",
              "      --fill-color: #D2E3FC;\n",
              "      --hover-bg-color: #434B5C;\n",
              "      --hover-fill-color: #FFFFFF;\n",
              "      --disabled-bg-color: #3B4455;\n",
              "      --disabled-fill-color: #666;\n",
              "  }\n",
              "\n",
              "  .colab-df-quickchart {\n",
              "    background-color: var(--bg-color);\n",
              "    border: none;\n",
              "    border-radius: 50%;\n",
              "    cursor: pointer;\n",
              "    display: none;\n",
              "    fill: var(--fill-color);\n",
              "    height: 32px;\n",
              "    padding: 0;\n",
              "    width: 32px;\n",
              "  }\n",
              "\n",
              "  .colab-df-quickchart:hover {\n",
              "    background-color: var(--hover-bg-color);\n",
              "    box-shadow: 0 1px 2px rgba(60, 64, 67, 0.3), 0 1px 3px 1px rgba(60, 64, 67, 0.15);\n",
              "    fill: var(--button-hover-fill-color);\n",
              "  }\n",
              "\n",
              "  .colab-df-quickchart-complete:disabled,\n",
              "  .colab-df-quickchart-complete:disabled:hover {\n",
              "    background-color: var(--disabled-bg-color);\n",
              "    fill: var(--disabled-fill-color);\n",
              "    box-shadow: none;\n",
              "  }\n",
              "\n",
              "  .colab-df-spinner {\n",
              "    border: 2px solid var(--fill-color);\n",
              "    border-color: transparent;\n",
              "    border-bottom-color: var(--fill-color);\n",
              "    animation:\n",
              "      spin 1s steps(1) infinite;\n",
              "  }\n",
              "\n",
              "  @keyframes spin {\n",
              "    0% {\n",
              "      border-color: transparent;\n",
              "      border-bottom-color: var(--fill-color);\n",
              "      border-left-color: var(--fill-color);\n",
              "    }\n",
              "    20% {\n",
              "      border-color: transparent;\n",
              "      border-left-color: var(--fill-color);\n",
              "      border-top-color: var(--fill-color);\n",
              "    }\n",
              "    30% {\n",
              "      border-color: transparent;\n",
              "      border-left-color: var(--fill-color);\n",
              "      border-top-color: var(--fill-color);\n",
              "      border-right-color: var(--fill-color);\n",
              "    }\n",
              "    40% {\n",
              "      border-color: transparent;\n",
              "      border-right-color: var(--fill-color);\n",
              "      border-top-color: var(--fill-color);\n",
              "    }\n",
              "    60% {\n",
              "      border-color: transparent;\n",
              "      border-right-color: var(--fill-color);\n",
              "    }\n",
              "    80% {\n",
              "      border-color: transparent;\n",
              "      border-right-color: var(--fill-color);\n",
              "      border-bottom-color: var(--fill-color);\n",
              "    }\n",
              "    90% {\n",
              "      border-color: transparent;\n",
              "      border-bottom-color: var(--fill-color);\n",
              "    }\n",
              "  }\n",
              "</style>\n",
              "\n",
              "  <script>\n",
              "    async function quickchart(key) {\n",
              "      const quickchartButtonEl =\n",
              "        document.querySelector('#' + key + ' button');\n",
              "      quickchartButtonEl.disabled = true;  // To prevent multiple clicks.\n",
              "      quickchartButtonEl.classList.add('colab-df-spinner');\n",
              "      try {\n",
              "        const charts = await google.colab.kernel.invokeFunction(\n",
              "            'suggestCharts', [key], {});\n",
              "      } catch (error) {\n",
              "        console.error('Error during call to suggestCharts:', error);\n",
              "      }\n",
              "      quickchartButtonEl.classList.remove('colab-df-spinner');\n",
              "      quickchartButtonEl.classList.add('colab-df-quickchart-complete');\n",
              "    }\n",
              "    (() => {\n",
              "      let quickchartButtonEl =\n",
              "        document.querySelector('#df-5f340775-9398-4cdb-837c-685994b7b49e button');\n",
              "      quickchartButtonEl.style.display =\n",
              "        google.colab.kernel.accessAllowed ? 'block' : 'none';\n",
              "    })();\n",
              "  </script>\n",
              "</div>\n",
              "\n",
              "    </div>\n",
              "  </div>\n"
            ],
            "application/vnd.google.colaboratory.intrinsic+json": {
              "type": "dataframe",
              "summary": "{\n  \"name\": \"stats_df\",\n  \"rows\": 39,\n  \"fields\": [\n    {\n      \"column\": \"columns\",\n      \"properties\": {\n        \"dtype\": \"string\",\n        \"num_unique_values\": 39,\n        \"samples\": [\n          \"troglitazone\",\n          \"glipizide-metformin\",\n          \"discharge_disposition_id\"\n        ],\n        \"semantic_type\": \"\",\n        \"description\": \"\"\n      }\n    },\n    {\n      \"column\": \"p_value\",\n      \"properties\": {\n        \"dtype\": \"number\",\n        \"std\": 0.36660315996857173,\n        \"min\": 0.0,\n        \"max\": 1.0,\n        \"num_unique_values\": 34,\n        \"samples\": [\n          2.0091084191313e-08,\n          0.00590252561901021,\n          0.21756339586735166\n        ],\n        \"semantic_type\": \"\",\n        \"description\": \"\"\n      }\n    },\n    {\n      \"column\": \"significance\",\n      \"properties\": {\n        \"dtype\": \"category\",\n        \"num_unique_values\": 2,\n        \"samples\": [\n          \"Insignificant\",\n          \"Significant\"\n        ],\n        \"semantic_type\": \"\",\n        \"description\": \"\"\n      }\n    }\n  ]\n}"
            }
          },
          "metadata": {},
          "execution_count": 80
        }
      ],
      "source": [
        "#Statistical Tests (Chi Square and Anova)\n",
        "import scipy.stats as stats\n",
        "from statsmodels.stats.anova import anova_lm\n",
        "p_val = []\n",
        "sig = []\n",
        "for i in data.columns:\n",
        "    if i in num_cols:\n",
        "        stat, p = stats.f_oneway(data[data['readmitted'] == 0][i], data[data['readmitted'] == 1][i])\n",
        "    else:\n",
        "        ct = pd.crosstab(data[i], data['readmitted'])\n",
        "        stat, p, dof, exp = stats.chi2_contingency(ct)\n",
        "    p_val.append(p)\n",
        "    if p < 0.05:\n",
        "        sig.append('Significant')\n",
        "    else:\n",
        "        sig.append(\"Insignificant\")\n",
        "stats_df = pd.DataFrame({\"columns\" : data.columns, \"p_value\" : p_val, \"significance\" : sig})\n",
        "\n",
        "stats_df.sort_values(by='p_value',ascending = True)"
      ]
    },
    {
      "cell_type": "code",
      "execution_count": null,
      "metadata": {
        "colab": {
          "base_uri": "https://localhost:8080/"
        },
        "id": "bUn7w8bbVPwu",
        "outputId": "cb811e46-a65b-4fc0-cb28-30f251995b90"
      },
      "outputs": [
        {
          "output_type": "stream",
          "name": "stdout",
          "text": [
            "Statiscally significant features are : \n",
            "\n",
            "0                         race\n",
            "1                          age\n",
            "2            admission_type_id\n",
            "3     discharge_disposition_id\n",
            "4          admission_source_id\n",
            "5             time_in_hospital\n",
            "6           num_lab_procedures\n",
            "7               num_procedures\n",
            "8              num_medications\n",
            "9                       diag_1\n",
            "10            number_diagnoses\n",
            "11               max_glu_serum\n",
            "12                   A1Cresult\n",
            "13                   metformin\n",
            "14                 repaglinide\n",
            "15                 glimepiride\n",
            "16                   glipizide\n",
            "17                pioglitazone\n",
            "18               rosiglitazone\n",
            "19                    acarbose\n",
            "20                     insulin\n",
            "21                      change\n",
            "22                 diabetesMed\n",
            "23                  readmitted\n",
            "24       preceding_year_visits\n",
            "Name: columns, dtype: object\n",
            "Statiscally insignificant features are : \n",
            "\n",
            "0                       gender\n",
            "1                  nateglinide\n",
            "2               chlorpropamide\n",
            "3                acetohexamide\n",
            "4                    glyburide\n",
            "5                  tolbutamide\n",
            "6                     miglitol\n",
            "7                 troglitazone\n",
            "8                   tolazamide\n",
            "9          glyburide-metformin\n",
            "10         glipizide-metformin\n",
            "11    glimepiride-pioglitazone\n",
            "12     metformin-rosiglitazone\n",
            "13      metformin-pioglitazone\n",
            "Name: columns, dtype: object\n"
          ]
        }
      ],
      "source": [
        "sig_cols = stats_df[stats_df['significance'] == 'Significant']['columns'].reset_index(drop = True)\n",
        "insig_cols = stats_df[stats_df['significance'] == 'Insignificant']['columns'].reset_index(drop = True)\n",
        "print('Statiscally significant features are :','\\n')\n",
        "print(sig_cols)\n",
        "print('Statiscally insignificant features are :','\\n')\n",
        "print(insig_cols)"
      ]
    },
    {
      "cell_type": "markdown",
      "metadata": {
        "id": "kEXwfrL3WU8H"
      },
      "source": [
        "Will drop the insignificant medications as listed above\n",
        "\n",
        "insignificant_meds = nateglinide,\n",
        "               chlorpropamide, miglitol,\n",
        "                  glimepiride,\n",
        "                acetohexamide,\n",
        "                    glyburide,\n",
        "                  tolbutamide,\n",
        "                 troglitazone,\n",
        "                   tolazamide,\n",
        "          glyburide-metformin,\n",
        "          glipizide-metformin,\n",
        "    glimepiride-pioglitazone,\n",
        "     metformin-rosiglitazone,\n",
        "      metformin-pioglitazone"
      ]
    },
    {
      "cell_type": "code",
      "execution_count": null,
      "metadata": {
        "id": "TPM6J5ysWUR0"
      },
      "outputs": [],
      "source": [
        "data.drop(['nateglinide', 'chlorpropamide','gender',\n",
        "       'acetohexamide', 'tolbutamide','miglitol','glyburide',\n",
        "       'troglitazone','tolazamide',\n",
        "       'glyburide-metformin', 'glipizide-metformin',\n",
        "       'glimepiride-pioglitazone', 'metformin-rosiglitazone',\n",
        "       'metformin-pioglitazone'], axis=1, inplace=True)"
      ]
    },
    {
      "cell_type": "code",
      "execution_count": null,
      "metadata": {
        "colab": {
          "base_uri": "https://localhost:8080/"
        },
        "id": "NBe3WqmfZADZ",
        "outputId": "0870aed7-f590-48ff-98a9-255e762ed7a7"
      },
      "outputs": [
        {
          "output_type": "stream",
          "name": "stdout",
          "text": [
            "<class 'pandas.core.frame.DataFrame'>\n",
            "Index: 69076 entries, 0 to 101765\n",
            "Data columns (total 25 columns):\n",
            " #   Column                    Non-Null Count  Dtype  \n",
            "---  ------                    --------------  -----  \n",
            " 0   race                      69076 non-null  object \n",
            " 1   age                       69076 non-null  object \n",
            " 2   admission_type_id         69076 non-null  object \n",
            " 3   discharge_disposition_id  69076 non-null  object \n",
            " 4   admission_source_id       69076 non-null  object \n",
            " 5   time_in_hospital          69076 non-null  int64  \n",
            " 6   num_lab_procedures        69076 non-null  int64  \n",
            " 7   num_procedures            69076 non-null  int64  \n",
            " 8   num_medications           69076 non-null  int64  \n",
            " 9   diag_1                    69076 non-null  object \n",
            " 10  number_diagnoses          69076 non-null  int64  \n",
            " 11  max_glu_serum             69076 non-null  object \n",
            " 12  A1Cresult                 69076 non-null  object \n",
            " 13  metformin                 69076 non-null  object \n",
            " 14  repaglinide               69076 non-null  object \n",
            " 15  glimepiride               69076 non-null  object \n",
            " 16  glipizide                 69076 non-null  object \n",
            " 17  pioglitazone              69076 non-null  object \n",
            " 18  rosiglitazone             69076 non-null  object \n",
            " 19  acarbose                  69076 non-null  object \n",
            " 20  insulin                   69076 non-null  object \n",
            " 21  change                    69076 non-null  object \n",
            " 22  diabetesMed               69076 non-null  object \n",
            " 23  readmitted                69076 non-null  int64  \n",
            " 24  preceding_year_visits     69076 non-null  float64\n",
            "dtypes: float64(1), int64(6), object(18)\n",
            "memory usage: 13.7+ MB\n"
          ]
        }
      ],
      "source": [
        "data.info()"
      ]
    },
    {
      "cell_type": "markdown",
      "metadata": {
        "id": "Wg1uk5imjNFG"
      },
      "source": [
        "**Dataset reduced to 69076 rows and 25 features**\n"
      ]
    },
    {
      "cell_type": "code",
      "execution_count": null,
      "metadata": {
        "id": "xkQp9xn2ZSYK"
      },
      "outputs": [],
      "source": [
        "from sklearn.preprocessing import LabelEncoder"
      ]
    },
    {
      "cell_type": "code",
      "execution_count": null,
      "metadata": {
        "id": "Xd5YbXt_Knfm"
      },
      "outputs": [],
      "source": [
        "le=LabelEncoder()"
      ]
    },
    {
      "cell_type": "code",
      "source": [
        "data.columns"
      ],
      "metadata": {
        "colab": {
          "base_uri": "https://localhost:8080/"
        },
        "id": "cLk5PeZeW8fY",
        "outputId": "57a1cda7-6ad6-432b-cfde-0febc687f368"
      },
      "execution_count": null,
      "outputs": [
        {
          "output_type": "execute_result",
          "data": {
            "text/plain": [
              "Index(['race', 'age', 'admission_type_id', 'discharge_disposition_id',\n",
              "       'admission_source_id', 'time_in_hospital', 'num_lab_procedures',\n",
              "       'num_procedures', 'num_medications', 'diag_1', 'number_diagnoses',\n",
              "       'max_glu_serum', 'A1Cresult', 'metformin', 'repaglinide', 'glimepiride',\n",
              "       'glipizide', 'pioglitazone', 'rosiglitazone', 'acarbose', 'insulin',\n",
              "       'change', 'diabetesMed', 'readmitted', 'preceding_year_visits'],\n",
              "      dtype='object')"
            ]
          },
          "metadata": {},
          "execution_count": 86
        }
      ]
    },
    {
      "cell_type": "code",
      "execution_count": null,
      "metadata": {
        "id": "EHvdxGQk2dIK"
      },
      "outputs": [],
      "source": [
        "cat_cols=['race','age','admission_type_id','discharge_disposition_id', 'admission_source_id','diag_1','metformin',\n",
        "       'repaglinide', 'glipizide', 'pioglitazone','glimepiride',\n",
        "       'rosiglitazone', 'acarbose', 'insulin', 'change', 'diabetesMed']"
      ]
    },
    {
      "cell_type": "code",
      "execution_count": null,
      "metadata": {
        "id": "X5FUDKWz3MdL"
      },
      "outputs": [],
      "source": [
        "# Fit and transform categorical columns\n",
        "for col in cat_cols:\n",
        "    data[col] = le.fit_transform(data[col])"
      ]
    },
    {
      "cell_type": "code",
      "execution_count": null,
      "metadata": {
        "id": "VeS9xEJQPM_P"
      },
      "outputs": [],
      "source": [
        "data['A1Cresult'] = data['A1Cresult'].replace('>7', 2)\n",
        "data['A1Cresult'] = data['A1Cresult'].replace('>8', 3)\n",
        "data['A1Cresult'] = data['A1Cresult'].replace('Norm', 1)\n",
        "\n",
        "data['max_glu_serum'] = data['max_glu_serum'].replace('>200', 2)\n",
        "data['max_glu_serum'] = data['max_glu_serum'].replace('>300', 3)\n",
        "data['max_glu_serum'] = data['max_glu_serum'].replace('Norm', 1)"
      ]
    },
    {
      "cell_type": "code",
      "source": [
        "data.T"
      ],
      "metadata": {
        "colab": {
          "base_uri": "https://localhost:8080/",
          "height": 862
        },
        "id": "gvxeI2hzHtsw",
        "outputId": "04bfed7a-da29-44d0-acf9-ea9fdf362694"
      },
      "execution_count": null,
      "outputs": [
        {
          "output_type": "execute_result",
          "data": {
            "text/plain": [
              "                          0       1       2       3       4       5       \\\n",
              "race                         2.0     2.0     0.0     2.0     2.0     2.0   \n",
              "age                          0.0     0.0     1.0     1.0     2.0     2.0   \n",
              "admission_type_id            2.0     1.0     1.0     1.0     1.0     1.0   \n",
              "discharge_disposition_id     3.0     0.0     0.0     0.0     0.0     0.0   \n",
              "admission_source_id          2.0     0.0     0.0     0.0     0.0     2.0   \n",
              "time_in_hospital             1.0     3.0     2.0     2.0     1.0     3.0   \n",
              "num_lab_procedures          41.0    59.0    11.0    44.0    51.0    31.0   \n",
              "num_procedures               0.0     0.0     5.0     1.0     0.0     6.0   \n",
              "num_medications              1.0    18.0    13.0    16.0     8.0    16.0   \n",
              "diag_1                       1.0     7.0     7.0     7.0     6.0     0.0   \n",
              "number_diagnoses             1.0     9.0     6.0     7.0     5.0     9.0   \n",
              "max_glu_serum                0.0     0.0     0.0     0.0     0.0     0.0   \n",
              "A1Cresult                    0.0     0.0     0.0     0.0     0.0     0.0   \n",
              "metformin                    1.0     1.0     1.0     1.0     1.0     1.0   \n",
              "repaglinide                  1.0     1.0     1.0     1.0     1.0     1.0   \n",
              "glimepiride                  1.0     1.0     1.0     1.0     1.0     1.0   \n",
              "glipizide                    1.0     1.0     2.0     1.0     2.0     1.0   \n",
              "pioglitazone                 1.0     1.0     1.0     1.0     1.0     1.0   \n",
              "rosiglitazone                1.0     1.0     1.0     1.0     1.0     1.0   \n",
              "acarbose                     1.0     1.0     1.0     1.0     1.0     1.0   \n",
              "insulin                      1.0     3.0     1.0     3.0     2.0     2.0   \n",
              "change                       1.0     0.0     1.0     0.0     0.0     1.0   \n",
              "diabetesMed                  0.0     1.0     1.0     1.0     1.0     1.0   \n",
              "readmitted                   0.0     1.0     0.0     0.0     0.0     1.0   \n",
              "preceding_year_visits        0.0     0.0     2.5     0.0     0.0     0.0   \n",
              "\n",
              "                          6       7       8       9       ...  101756  101757  \\\n",
              "race                         2.0     2.0     2.0     2.0  ...     4.0     2.0   \n",
              "age                          3.0     3.0     4.0     4.0  ...     3.0     3.0   \n",
              "admission_type_id            0.0     1.0     1.0     0.0  ...     1.0     1.0   \n",
              "discharge_disposition_id     0.0     0.0     0.0     4.0  ...     0.0     0.0   \n",
              "admission_source_id          2.0     0.0     3.0     3.0  ...     0.0     0.0   \n",
              "time_in_hospital             4.0     5.0    13.0    12.0  ...     2.0     5.0   \n",
              "num_lab_procedures          70.0    73.0    68.0    33.0  ...    46.0    21.0   \n",
              "num_procedures               1.0     0.0     2.0     3.0  ...     6.0     1.0   \n",
              "num_medications             21.0    12.0    28.0    18.0  ...    17.0    16.0   \n",
              "diag_1                       0.0     0.0     0.0     0.0  ...     4.0     8.0   \n",
              "number_diagnoses             7.0     8.0     8.0     8.0  ...     9.0     9.0   \n",
              "max_glu_serum                0.0     0.0     0.0     0.0  ...     0.0     0.0   \n",
              "A1Cresult                    0.0     0.0     0.0     0.0  ...     0.0     0.0   \n",
              "metformin                    2.0     1.0     1.0     1.0  ...     1.0     1.0   \n",
              "repaglinide                  1.0     1.0     1.0     1.0  ...     1.0     1.0   \n",
              "glimepiride                  2.0     1.0     1.0     1.0  ...     1.0     1.0   \n",
              "glipizide                    1.0     1.0     2.0     1.0  ...     1.0     1.0   \n",
              "pioglitazone                 1.0     1.0     1.0     1.0  ...     1.0     1.0   \n",
              "rosiglitazone                1.0     1.0     1.0     2.0  ...     1.0     1.0   \n",
              "acarbose                     1.0     1.0     1.0     1.0  ...     1.0     1.0   \n",
              "insulin                      2.0     1.0     2.0     2.0  ...     2.0     2.0   \n",
              "change                       0.0     1.0     0.0     0.0  ...     1.0     1.0   \n",
              "diabetesMed                  1.0     1.0     1.0     1.0  ...     1.0     1.0   \n",
              "readmitted                   0.0     1.0     0.0     0.0  ...     1.0     0.0   \n",
              "preceding_year_visits        0.0     0.0     0.0     0.0  ...     2.5     1.0   \n",
              "\n",
              "                          101758  101759  101760  101761  101762  101763  \\\n",
              "race                         2.0     2.0     0.0     0.0     0.0     2.0   \n",
              "age                          4.0     4.0     3.0     3.0     4.0     3.0   \n",
              "admission_type_id            1.0     1.0     1.0     1.0     1.0     1.0   \n",
              "discharge_disposition_id     0.0     0.0     0.0     4.0     4.0     0.0   \n",
              "admission_source_id          0.0     0.0     0.0     0.0     3.0     0.0   \n",
              "time_in_hospital             5.0     1.0     6.0     3.0     5.0     1.0   \n",
              "num_lab_procedures          76.0     1.0    45.0    51.0    33.0    53.0   \n",
              "num_procedures               1.0     0.0     1.0     0.0     3.0     0.0   \n",
              "num_medications             22.0    15.0    25.0    16.0    18.0     9.0   \n",
              "diag_1                       7.0     0.0     7.0     1.0     2.0     7.0   \n",
              "number_diagnoses             9.0     7.0     9.0     9.0     9.0     9.0   \n",
              "max_glu_serum                0.0     0.0     0.0     0.0     0.0     0.0   \n",
              "A1Cresult                    0.0     0.0     0.0     3.0     0.0     0.0   \n",
              "metformin                    1.0     1.0     1.0     2.0     1.0     2.0   \n",
              "repaglinide                  1.0     1.0     1.0     1.0     1.0     1.0   \n",
              "glimepiride                  1.0     1.0     1.0     1.0     1.0     1.0   \n",
              "glipizide                    1.0     1.0     1.0     1.0     1.0     1.0   \n",
              "pioglitazone                 1.0     1.0     1.0     1.0     1.0     1.0   \n",
              "rosiglitazone                1.0     1.0     2.0     1.0     1.0     1.0   \n",
              "acarbose                     1.0     1.0     1.0     1.0     1.0     1.0   \n",
              "insulin                      3.0     3.0     0.0     0.0     2.0     0.0   \n",
              "change                       0.0     0.0     0.0     0.0     1.0     0.0   \n",
              "diabetesMed                  1.0     1.0     1.0     1.0     1.0     1.0   \n",
              "readmitted                   0.0     0.0     1.0     1.0     0.0     0.0   \n",
              "preceding_year_visits        1.0     2.5     2.5     0.0     1.0     1.0   \n",
              "\n",
              "                          101764  101765  \n",
              "race                         2.0     2.0  \n",
              "age                          4.0     3.0  \n",
              "admission_type_id            1.0     1.0  \n",
              "discharge_disposition_id     4.0     0.0  \n",
              "admission_source_id          0.0     0.0  \n",
              "time_in_hospital            10.0     6.0  \n",
              "num_lab_procedures          45.0    13.0  \n",
              "num_procedures               2.0     3.0  \n",
              "num_medications             21.0     3.0  \n",
              "diag_1                       4.0     2.0  \n",
              "number_diagnoses             9.0     9.0  \n",
              "max_glu_serum                0.0     0.0  \n",
              "A1Cresult                    0.0     0.0  \n",
              "metformin                    1.0     1.0  \n",
              "repaglinide                  1.0     1.0  \n",
              "glimepiride                  1.0     1.0  \n",
              "glipizide                    2.0     1.0  \n",
              "pioglitazone                 2.0     1.0  \n",
              "rosiglitazone                1.0     1.0  \n",
              "acarbose                     1.0     1.0  \n",
              "insulin                      3.0     1.0  \n",
              "change                       0.0     1.0  \n",
              "diabetesMed                  1.0     0.0  \n",
              "readmitted                   0.0     0.0  \n",
              "preceding_year_visits        1.0     0.0  \n",
              "\n",
              "[25 rows x 69076 columns]"
            ],
            "text/html": [
              "\n",
              "  <div id=\"df-699c6338-afe5-4746-bd07-1746d706d95f\" class=\"colab-df-container\">\n",
              "    <div>\n",
              "<style scoped>\n",
              "    .dataframe tbody tr th:only-of-type {\n",
              "        vertical-align: middle;\n",
              "    }\n",
              "\n",
              "    .dataframe tbody tr th {\n",
              "        vertical-align: top;\n",
              "    }\n",
              "\n",
              "    .dataframe thead th {\n",
              "        text-align: right;\n",
              "    }\n",
              "</style>\n",
              "<table border=\"1\" class=\"dataframe\">\n",
              "  <thead>\n",
              "    <tr style=\"text-align: right;\">\n",
              "      <th></th>\n",
              "      <th>0</th>\n",
              "      <th>1</th>\n",
              "      <th>2</th>\n",
              "      <th>3</th>\n",
              "      <th>4</th>\n",
              "      <th>5</th>\n",
              "      <th>6</th>\n",
              "      <th>7</th>\n",
              "      <th>8</th>\n",
              "      <th>9</th>\n",
              "      <th>...</th>\n",
              "      <th>101756</th>\n",
              "      <th>101757</th>\n",
              "      <th>101758</th>\n",
              "      <th>101759</th>\n",
              "      <th>101760</th>\n",
              "      <th>101761</th>\n",
              "      <th>101762</th>\n",
              "      <th>101763</th>\n",
              "      <th>101764</th>\n",
              "      <th>101765</th>\n",
              "    </tr>\n",
              "  </thead>\n",
              "  <tbody>\n",
              "    <tr>\n",
              "      <th>race</th>\n",
              "      <td>2.0</td>\n",
              "      <td>2.0</td>\n",
              "      <td>0.0</td>\n",
              "      <td>2.0</td>\n",
              "      <td>2.0</td>\n",
              "      <td>2.0</td>\n",
              "      <td>2.0</td>\n",
              "      <td>2.0</td>\n",
              "      <td>2.0</td>\n",
              "      <td>2.0</td>\n",
              "      <td>...</td>\n",
              "      <td>4.0</td>\n",
              "      <td>2.0</td>\n",
              "      <td>2.0</td>\n",
              "      <td>2.0</td>\n",
              "      <td>0.0</td>\n",
              "      <td>0.0</td>\n",
              "      <td>0.0</td>\n",
              "      <td>2.0</td>\n",
              "      <td>2.0</td>\n",
              "      <td>2.0</td>\n",
              "    </tr>\n",
              "    <tr>\n",
              "      <th>age</th>\n",
              "      <td>0.0</td>\n",
              "      <td>0.0</td>\n",
              "      <td>1.0</td>\n",
              "      <td>1.0</td>\n",
              "      <td>2.0</td>\n",
              "      <td>2.0</td>\n",
              "      <td>3.0</td>\n",
              "      <td>3.0</td>\n",
              "      <td>4.0</td>\n",
              "      <td>4.0</td>\n",
              "      <td>...</td>\n",
              "      <td>3.0</td>\n",
              "      <td>3.0</td>\n",
              "      <td>4.0</td>\n",
              "      <td>4.0</td>\n",
              "      <td>3.0</td>\n",
              "      <td>3.0</td>\n",
              "      <td>4.0</td>\n",
              "      <td>3.0</td>\n",
              "      <td>4.0</td>\n",
              "      <td>3.0</td>\n",
              "    </tr>\n",
              "    <tr>\n",
              "      <th>admission_type_id</th>\n",
              "      <td>2.0</td>\n",
              "      <td>1.0</td>\n",
              "      <td>1.0</td>\n",
              "      <td>1.0</td>\n",
              "      <td>1.0</td>\n",
              "      <td>1.0</td>\n",
              "      <td>0.0</td>\n",
              "      <td>1.0</td>\n",
              "      <td>1.0</td>\n",
              "      <td>0.0</td>\n",
              "      <td>...</td>\n",
              "      <td>1.0</td>\n",
              "      <td>1.0</td>\n",
              "      <td>1.0</td>\n",
              "      <td>1.0</td>\n",
              "      <td>1.0</td>\n",
              "      <td>1.0</td>\n",
              "      <td>1.0</td>\n",
              "      <td>1.0</td>\n",
              "      <td>1.0</td>\n",
              "      <td>1.0</td>\n",
              "    </tr>\n",
              "    <tr>\n",
              "      <th>discharge_disposition_id</th>\n",
              "      <td>3.0</td>\n",
              "      <td>0.0</td>\n",
              "      <td>0.0</td>\n",
              "      <td>0.0</td>\n",
              "      <td>0.0</td>\n",
              "      <td>0.0</td>\n",
              "      <td>0.0</td>\n",
              "      <td>0.0</td>\n",
              "      <td>0.0</td>\n",
              "      <td>4.0</td>\n",
              "      <td>...</td>\n",
              "      <td>0.0</td>\n",
              "      <td>0.0</td>\n",
              "      <td>0.0</td>\n",
              "      <td>0.0</td>\n",
              "      <td>0.0</td>\n",
              "      <td>4.0</td>\n",
              "      <td>4.0</td>\n",
              "      <td>0.0</td>\n",
              "      <td>4.0</td>\n",
              "      <td>0.0</td>\n",
              "    </tr>\n",
              "    <tr>\n",
              "      <th>admission_source_id</th>\n",
              "      <td>2.0</td>\n",
              "      <td>0.0</td>\n",
              "      <td>0.0</td>\n",
              "      <td>0.0</td>\n",
              "      <td>0.0</td>\n",
              "      <td>2.0</td>\n",
              "      <td>2.0</td>\n",
              "      <td>0.0</td>\n",
              "      <td>3.0</td>\n",
              "      <td>3.0</td>\n",
              "      <td>...</td>\n",
              "      <td>0.0</td>\n",
              "      <td>0.0</td>\n",
              "      <td>0.0</td>\n",
              "      <td>0.0</td>\n",
              "      <td>0.0</td>\n",
              "      <td>0.0</td>\n",
              "      <td>3.0</td>\n",
              "      <td>0.0</td>\n",
              "      <td>0.0</td>\n",
              "      <td>0.0</td>\n",
              "    </tr>\n",
              "    <tr>\n",
              "      <th>time_in_hospital</th>\n",
              "      <td>1.0</td>\n",
              "      <td>3.0</td>\n",
              "      <td>2.0</td>\n",
              "      <td>2.0</td>\n",
              "      <td>1.0</td>\n",
              "      <td>3.0</td>\n",
              "      <td>4.0</td>\n",
              "      <td>5.0</td>\n",
              "      <td>13.0</td>\n",
              "      <td>12.0</td>\n",
              "      <td>...</td>\n",
              "      <td>2.0</td>\n",
              "      <td>5.0</td>\n",
              "      <td>5.0</td>\n",
              "      <td>1.0</td>\n",
              "      <td>6.0</td>\n",
              "      <td>3.0</td>\n",
              "      <td>5.0</td>\n",
              "      <td>1.0</td>\n",
              "      <td>10.0</td>\n",
              "      <td>6.0</td>\n",
              "    </tr>\n",
              "    <tr>\n",
              "      <th>num_lab_procedures</th>\n",
              "      <td>41.0</td>\n",
              "      <td>59.0</td>\n",
              "      <td>11.0</td>\n",
              "      <td>44.0</td>\n",
              "      <td>51.0</td>\n",
              "      <td>31.0</td>\n",
              "      <td>70.0</td>\n",
              "      <td>73.0</td>\n",
              "      <td>68.0</td>\n",
              "      <td>33.0</td>\n",
              "      <td>...</td>\n",
              "      <td>46.0</td>\n",
              "      <td>21.0</td>\n",
              "      <td>76.0</td>\n",
              "      <td>1.0</td>\n",
              "      <td>45.0</td>\n",
              "      <td>51.0</td>\n",
              "      <td>33.0</td>\n",
              "      <td>53.0</td>\n",
              "      <td>45.0</td>\n",
              "      <td>13.0</td>\n",
              "    </tr>\n",
              "    <tr>\n",
              "      <th>num_procedures</th>\n",
              "      <td>0.0</td>\n",
              "      <td>0.0</td>\n",
              "      <td>5.0</td>\n",
              "      <td>1.0</td>\n",
              "      <td>0.0</td>\n",
              "      <td>6.0</td>\n",
              "      <td>1.0</td>\n",
              "      <td>0.0</td>\n",
              "      <td>2.0</td>\n",
              "      <td>3.0</td>\n",
              "      <td>...</td>\n",
              "      <td>6.0</td>\n",
              "      <td>1.0</td>\n",
              "      <td>1.0</td>\n",
              "      <td>0.0</td>\n",
              "      <td>1.0</td>\n",
              "      <td>0.0</td>\n",
              "      <td>3.0</td>\n",
              "      <td>0.0</td>\n",
              "      <td>2.0</td>\n",
              "      <td>3.0</td>\n",
              "    </tr>\n",
              "    <tr>\n",
              "      <th>num_medications</th>\n",
              "      <td>1.0</td>\n",
              "      <td>18.0</td>\n",
              "      <td>13.0</td>\n",
              "      <td>16.0</td>\n",
              "      <td>8.0</td>\n",
              "      <td>16.0</td>\n",
              "      <td>21.0</td>\n",
              "      <td>12.0</td>\n",
              "      <td>28.0</td>\n",
              "      <td>18.0</td>\n",
              "      <td>...</td>\n",
              "      <td>17.0</td>\n",
              "      <td>16.0</td>\n",
              "      <td>22.0</td>\n",
              "      <td>15.0</td>\n",
              "      <td>25.0</td>\n",
              "      <td>16.0</td>\n",
              "      <td>18.0</td>\n",
              "      <td>9.0</td>\n",
              "      <td>21.0</td>\n",
              "      <td>3.0</td>\n",
              "    </tr>\n",
              "    <tr>\n",
              "      <th>diag_1</th>\n",
              "      <td>1.0</td>\n",
              "      <td>7.0</td>\n",
              "      <td>7.0</td>\n",
              "      <td>7.0</td>\n",
              "      <td>6.0</td>\n",
              "      <td>0.0</td>\n",
              "      <td>0.0</td>\n",
              "      <td>0.0</td>\n",
              "      <td>0.0</td>\n",
              "      <td>0.0</td>\n",
              "      <td>...</td>\n",
              "      <td>4.0</td>\n",
              "      <td>8.0</td>\n",
              "      <td>7.0</td>\n",
              "      <td>0.0</td>\n",
              "      <td>7.0</td>\n",
              "      <td>1.0</td>\n",
              "      <td>2.0</td>\n",
              "      <td>7.0</td>\n",
              "      <td>4.0</td>\n",
              "      <td>2.0</td>\n",
              "    </tr>\n",
              "    <tr>\n",
              "      <th>number_diagnoses</th>\n",
              "      <td>1.0</td>\n",
              "      <td>9.0</td>\n",
              "      <td>6.0</td>\n",
              "      <td>7.0</td>\n",
              "      <td>5.0</td>\n",
              "      <td>9.0</td>\n",
              "      <td>7.0</td>\n",
              "      <td>8.0</td>\n",
              "      <td>8.0</td>\n",
              "      <td>8.0</td>\n",
              "      <td>...</td>\n",
              "      <td>9.0</td>\n",
              "      <td>9.0</td>\n",
              "      <td>9.0</td>\n",
              "      <td>7.0</td>\n",
              "      <td>9.0</td>\n",
              "      <td>9.0</td>\n",
              "      <td>9.0</td>\n",
              "      <td>9.0</td>\n",
              "      <td>9.0</td>\n",
              "      <td>9.0</td>\n",
              "    </tr>\n",
              "    <tr>\n",
              "      <th>max_glu_serum</th>\n",
              "      <td>0.0</td>\n",
              "      <td>0.0</td>\n",
              "      <td>0.0</td>\n",
              "      <td>0.0</td>\n",
              "      <td>0.0</td>\n",
              "      <td>0.0</td>\n",
              "      <td>0.0</td>\n",
              "      <td>0.0</td>\n",
              "      <td>0.0</td>\n",
              "      <td>0.0</td>\n",
              "      <td>...</td>\n",
              "      <td>0.0</td>\n",
              "      <td>0.0</td>\n",
              "      <td>0.0</td>\n",
              "      <td>0.0</td>\n",
              "      <td>0.0</td>\n",
              "      <td>0.0</td>\n",
              "      <td>0.0</td>\n",
              "      <td>0.0</td>\n",
              "      <td>0.0</td>\n",
              "      <td>0.0</td>\n",
              "    </tr>\n",
              "    <tr>\n",
              "      <th>A1Cresult</th>\n",
              "      <td>0.0</td>\n",
              "      <td>0.0</td>\n",
              "      <td>0.0</td>\n",
              "      <td>0.0</td>\n",
              "      <td>0.0</td>\n",
              "      <td>0.0</td>\n",
              "      <td>0.0</td>\n",
              "      <td>0.0</td>\n",
              "      <td>0.0</td>\n",
              "      <td>0.0</td>\n",
              "      <td>...</td>\n",
              "      <td>0.0</td>\n",
              "      <td>0.0</td>\n",
              "      <td>0.0</td>\n",
              "      <td>0.0</td>\n",
              "      <td>0.0</td>\n",
              "      <td>3.0</td>\n",
              "      <td>0.0</td>\n",
              "      <td>0.0</td>\n",
              "      <td>0.0</td>\n",
              "      <td>0.0</td>\n",
              "    </tr>\n",
              "    <tr>\n",
              "      <th>metformin</th>\n",
              "      <td>1.0</td>\n",
              "      <td>1.0</td>\n",
              "      <td>1.0</td>\n",
              "      <td>1.0</td>\n",
              "      <td>1.0</td>\n",
              "      <td>1.0</td>\n",
              "      <td>2.0</td>\n",
              "      <td>1.0</td>\n",
              "      <td>1.0</td>\n",
              "      <td>1.0</td>\n",
              "      <td>...</td>\n",
              "      <td>1.0</td>\n",
              "      <td>1.0</td>\n",
              "      <td>1.0</td>\n",
              "      <td>1.0</td>\n",
              "      <td>1.0</td>\n",
              "      <td>2.0</td>\n",
              "      <td>1.0</td>\n",
              "      <td>2.0</td>\n",
              "      <td>1.0</td>\n",
              "      <td>1.0</td>\n",
              "    </tr>\n",
              "    <tr>\n",
              "      <th>repaglinide</th>\n",
              "      <td>1.0</td>\n",
              "      <td>1.0</td>\n",
              "      <td>1.0</td>\n",
              "      <td>1.0</td>\n",
              "      <td>1.0</td>\n",
              "      <td>1.0</td>\n",
              "      <td>1.0</td>\n",
              "      <td>1.0</td>\n",
              "      <td>1.0</td>\n",
              "      <td>1.0</td>\n",
              "      <td>...</td>\n",
              "      <td>1.0</td>\n",
              "      <td>1.0</td>\n",
              "      <td>1.0</td>\n",
              "      <td>1.0</td>\n",
              "      <td>1.0</td>\n",
              "      <td>1.0</td>\n",
              "      <td>1.0</td>\n",
              "      <td>1.0</td>\n",
              "      <td>1.0</td>\n",
              "      <td>1.0</td>\n",
              "    </tr>\n",
              "    <tr>\n",
              "      <th>glimepiride</th>\n",
              "      <td>1.0</td>\n",
              "      <td>1.0</td>\n",
              "      <td>1.0</td>\n",
              "      <td>1.0</td>\n",
              "      <td>1.0</td>\n",
              "      <td>1.0</td>\n",
              "      <td>2.0</td>\n",
              "      <td>1.0</td>\n",
              "      <td>1.0</td>\n",
              "      <td>1.0</td>\n",
              "      <td>...</td>\n",
              "      <td>1.0</td>\n",
              "      <td>1.0</td>\n",
              "      <td>1.0</td>\n",
              "      <td>1.0</td>\n",
              "      <td>1.0</td>\n",
              "      <td>1.0</td>\n",
              "      <td>1.0</td>\n",
              "      <td>1.0</td>\n",
              "      <td>1.0</td>\n",
              "      <td>1.0</td>\n",
              "    </tr>\n",
              "    <tr>\n",
              "      <th>glipizide</th>\n",
              "      <td>1.0</td>\n",
              "      <td>1.0</td>\n",
              "      <td>2.0</td>\n",
              "      <td>1.0</td>\n",
              "      <td>2.0</td>\n",
              "      <td>1.0</td>\n",
              "      <td>1.0</td>\n",
              "      <td>1.0</td>\n",
              "      <td>2.0</td>\n",
              "      <td>1.0</td>\n",
              "      <td>...</td>\n",
              "      <td>1.0</td>\n",
              "      <td>1.0</td>\n",
              "      <td>1.0</td>\n",
              "      <td>1.0</td>\n",
              "      <td>1.0</td>\n",
              "      <td>1.0</td>\n",
              "      <td>1.0</td>\n",
              "      <td>1.0</td>\n",
              "      <td>2.0</td>\n",
              "      <td>1.0</td>\n",
              "    </tr>\n",
              "    <tr>\n",
              "      <th>pioglitazone</th>\n",
              "      <td>1.0</td>\n",
              "      <td>1.0</td>\n",
              "      <td>1.0</td>\n",
              "      <td>1.0</td>\n",
              "      <td>1.0</td>\n",
              "      <td>1.0</td>\n",
              "      <td>1.0</td>\n",
              "      <td>1.0</td>\n",
              "      <td>1.0</td>\n",
              "      <td>1.0</td>\n",
              "      <td>...</td>\n",
              "      <td>1.0</td>\n",
              "      <td>1.0</td>\n",
              "      <td>1.0</td>\n",
              "      <td>1.0</td>\n",
              "      <td>1.0</td>\n",
              "      <td>1.0</td>\n",
              "      <td>1.0</td>\n",
              "      <td>1.0</td>\n",
              "      <td>2.0</td>\n",
              "      <td>1.0</td>\n",
              "    </tr>\n",
              "    <tr>\n",
              "      <th>rosiglitazone</th>\n",
              "      <td>1.0</td>\n",
              "      <td>1.0</td>\n",
              "      <td>1.0</td>\n",
              "      <td>1.0</td>\n",
              "      <td>1.0</td>\n",
              "      <td>1.0</td>\n",
              "      <td>1.0</td>\n",
              "      <td>1.0</td>\n",
              "      <td>1.0</td>\n",
              "      <td>2.0</td>\n",
              "      <td>...</td>\n",
              "      <td>1.0</td>\n",
              "      <td>1.0</td>\n",
              "      <td>1.0</td>\n",
              "      <td>1.0</td>\n",
              "      <td>2.0</td>\n",
              "      <td>1.0</td>\n",
              "      <td>1.0</td>\n",
              "      <td>1.0</td>\n",
              "      <td>1.0</td>\n",
              "      <td>1.0</td>\n",
              "    </tr>\n",
              "    <tr>\n",
              "      <th>acarbose</th>\n",
              "      <td>1.0</td>\n",
              "      <td>1.0</td>\n",
              "      <td>1.0</td>\n",
              "      <td>1.0</td>\n",
              "      <td>1.0</td>\n",
              "      <td>1.0</td>\n",
              "      <td>1.0</td>\n",
              "      <td>1.0</td>\n",
              "      <td>1.0</td>\n",
              "      <td>1.0</td>\n",
              "      <td>...</td>\n",
              "      <td>1.0</td>\n",
              "      <td>1.0</td>\n",
              "      <td>1.0</td>\n",
              "      <td>1.0</td>\n",
              "      <td>1.0</td>\n",
              "      <td>1.0</td>\n",
              "      <td>1.0</td>\n",
              "      <td>1.0</td>\n",
              "      <td>1.0</td>\n",
              "      <td>1.0</td>\n",
              "    </tr>\n",
              "    <tr>\n",
              "      <th>insulin</th>\n",
              "      <td>1.0</td>\n",
              "      <td>3.0</td>\n",
              "      <td>1.0</td>\n",
              "      <td>3.0</td>\n",
              "      <td>2.0</td>\n",
              "      <td>2.0</td>\n",
              "      <td>2.0</td>\n",
              "      <td>1.0</td>\n",
              "      <td>2.0</td>\n",
              "      <td>2.0</td>\n",
              "      <td>...</td>\n",
              "      <td>2.0</td>\n",
              "      <td>2.0</td>\n",
              "      <td>3.0</td>\n",
              "      <td>3.0</td>\n",
              "      <td>0.0</td>\n",
              "      <td>0.0</td>\n",
              "      <td>2.0</td>\n",
              "      <td>0.0</td>\n",
              "      <td>3.0</td>\n",
              "      <td>1.0</td>\n",
              "    </tr>\n",
              "    <tr>\n",
              "      <th>change</th>\n",
              "      <td>1.0</td>\n",
              "      <td>0.0</td>\n",
              "      <td>1.0</td>\n",
              "      <td>0.0</td>\n",
              "      <td>0.0</td>\n",
              "      <td>1.0</td>\n",
              "      <td>0.0</td>\n",
              "      <td>1.0</td>\n",
              "      <td>0.0</td>\n",
              "      <td>0.0</td>\n",
              "      <td>...</td>\n",
              "      <td>1.0</td>\n",
              "      <td>1.0</td>\n",
              "      <td>0.0</td>\n",
              "      <td>0.0</td>\n",
              "      <td>0.0</td>\n",
              "      <td>0.0</td>\n",
              "      <td>1.0</td>\n",
              "      <td>0.0</td>\n",
              "      <td>0.0</td>\n",
              "      <td>1.0</td>\n",
              "    </tr>\n",
              "    <tr>\n",
              "      <th>diabetesMed</th>\n",
              "      <td>0.0</td>\n",
              "      <td>1.0</td>\n",
              "      <td>1.0</td>\n",
              "      <td>1.0</td>\n",
              "      <td>1.0</td>\n",
              "      <td>1.0</td>\n",
              "      <td>1.0</td>\n",
              "      <td>1.0</td>\n",
              "      <td>1.0</td>\n",
              "      <td>1.0</td>\n",
              "      <td>...</td>\n",
              "      <td>1.0</td>\n",
              "      <td>1.0</td>\n",
              "      <td>1.0</td>\n",
              "      <td>1.0</td>\n",
              "      <td>1.0</td>\n",
              "      <td>1.0</td>\n",
              "      <td>1.0</td>\n",
              "      <td>1.0</td>\n",
              "      <td>1.0</td>\n",
              "      <td>0.0</td>\n",
              "    </tr>\n",
              "    <tr>\n",
              "      <th>readmitted</th>\n",
              "      <td>0.0</td>\n",
              "      <td>1.0</td>\n",
              "      <td>0.0</td>\n",
              "      <td>0.0</td>\n",
              "      <td>0.0</td>\n",
              "      <td>1.0</td>\n",
              "      <td>0.0</td>\n",
              "      <td>1.0</td>\n",
              "      <td>0.0</td>\n",
              "      <td>0.0</td>\n",
              "      <td>...</td>\n",
              "      <td>1.0</td>\n",
              "      <td>0.0</td>\n",
              "      <td>0.0</td>\n",
              "      <td>0.0</td>\n",
              "      <td>1.0</td>\n",
              "      <td>1.0</td>\n",
              "      <td>0.0</td>\n",
              "      <td>0.0</td>\n",
              "      <td>0.0</td>\n",
              "      <td>0.0</td>\n",
              "    </tr>\n",
              "    <tr>\n",
              "      <th>preceding_year_visits</th>\n",
              "      <td>0.0</td>\n",
              "      <td>0.0</td>\n",
              "      <td>2.5</td>\n",
              "      <td>0.0</td>\n",
              "      <td>0.0</td>\n",
              "      <td>0.0</td>\n",
              "      <td>0.0</td>\n",
              "      <td>0.0</td>\n",
              "      <td>0.0</td>\n",
              "      <td>0.0</td>\n",
              "      <td>...</td>\n",
              "      <td>2.5</td>\n",
              "      <td>1.0</td>\n",
              "      <td>1.0</td>\n",
              "      <td>2.5</td>\n",
              "      <td>2.5</td>\n",
              "      <td>0.0</td>\n",
              "      <td>1.0</td>\n",
              "      <td>1.0</td>\n",
              "      <td>1.0</td>\n",
              "      <td>0.0</td>\n",
              "    </tr>\n",
              "  </tbody>\n",
              "</table>\n",
              "<p>25 rows × 69076 columns</p>\n",
              "</div>\n",
              "    <div class=\"colab-df-buttons\">\n",
              "\n",
              "  <div class=\"colab-df-container\">\n",
              "    <button class=\"colab-df-convert\" onclick=\"convertToInteractive('df-699c6338-afe5-4746-bd07-1746d706d95f')\"\n",
              "            title=\"Convert this dataframe to an interactive table.\"\n",
              "            style=\"display:none;\">\n",
              "\n",
              "  <svg xmlns=\"http://www.w3.org/2000/svg\" height=\"24px\" viewBox=\"0 -960 960 960\">\n",
              "    <path d=\"M120-120v-720h720v720H120Zm60-500h600v-160H180v160Zm220 220h160v-160H400v160Zm0 220h160v-160H400v160ZM180-400h160v-160H180v160Zm440 0h160v-160H620v160ZM180-180h160v-160H180v160Zm440 0h160v-160H620v160Z\"/>\n",
              "  </svg>\n",
              "    </button>\n",
              "\n",
              "  <style>\n",
              "    .colab-df-container {\n",
              "      display:flex;\n",
              "      gap: 12px;\n",
              "    }\n",
              "\n",
              "    .colab-df-convert {\n",
              "      background-color: #E8F0FE;\n",
              "      border: none;\n",
              "      border-radius: 50%;\n",
              "      cursor: pointer;\n",
              "      display: none;\n",
              "      fill: #1967D2;\n",
              "      height: 32px;\n",
              "      padding: 0 0 0 0;\n",
              "      width: 32px;\n",
              "    }\n",
              "\n",
              "    .colab-df-convert:hover {\n",
              "      background-color: #E2EBFA;\n",
              "      box-shadow: 0px 1px 2px rgba(60, 64, 67, 0.3), 0px 1px 3px 1px rgba(60, 64, 67, 0.15);\n",
              "      fill: #174EA6;\n",
              "    }\n",
              "\n",
              "    .colab-df-buttons div {\n",
              "      margin-bottom: 4px;\n",
              "    }\n",
              "\n",
              "    [theme=dark] .colab-df-convert {\n",
              "      background-color: #3B4455;\n",
              "      fill: #D2E3FC;\n",
              "    }\n",
              "\n",
              "    [theme=dark] .colab-df-convert:hover {\n",
              "      background-color: #434B5C;\n",
              "      box-shadow: 0px 1px 3px 1px rgba(0, 0, 0, 0.15);\n",
              "      filter: drop-shadow(0px 1px 2px rgba(0, 0, 0, 0.3));\n",
              "      fill: #FFFFFF;\n",
              "    }\n",
              "  </style>\n",
              "\n",
              "    <script>\n",
              "      const buttonEl =\n",
              "        document.querySelector('#df-699c6338-afe5-4746-bd07-1746d706d95f button.colab-df-convert');\n",
              "      buttonEl.style.display =\n",
              "        google.colab.kernel.accessAllowed ? 'block' : 'none';\n",
              "\n",
              "      async function convertToInteractive(key) {\n",
              "        const element = document.querySelector('#df-699c6338-afe5-4746-bd07-1746d706d95f');\n",
              "        const dataTable =\n",
              "          await google.colab.kernel.invokeFunction('convertToInteractive',\n",
              "                                                    [key], {});\n",
              "        if (!dataTable) return;\n",
              "\n",
              "        const docLinkHtml = 'Like what you see? Visit the ' +\n",
              "          '<a target=\"_blank\" href=https://colab.research.google.com/notebooks/data_table.ipynb>data table notebook</a>'\n",
              "          + ' to learn more about interactive tables.';\n",
              "        element.innerHTML = '';\n",
              "        dataTable['output_type'] = 'display_data';\n",
              "        await google.colab.output.renderOutput(dataTable, element);\n",
              "        const docLink = document.createElement('div');\n",
              "        docLink.innerHTML = docLinkHtml;\n",
              "        element.appendChild(docLink);\n",
              "      }\n",
              "    </script>\n",
              "  </div>\n",
              "\n",
              "\n",
              "<div id=\"df-52522321-4b6e-42f7-8bfb-966e4933ef16\">\n",
              "  <button class=\"colab-df-quickchart\" onclick=\"quickchart('df-52522321-4b6e-42f7-8bfb-966e4933ef16')\"\n",
              "            title=\"Suggest charts\"\n",
              "            style=\"display:none;\">\n",
              "\n",
              "<svg xmlns=\"http://www.w3.org/2000/svg\" height=\"24px\"viewBox=\"0 0 24 24\"\n",
              "     width=\"24px\">\n",
              "    <g>\n",
              "        <path d=\"M19 3H5c-1.1 0-2 .9-2 2v14c0 1.1.9 2 2 2h14c1.1 0 2-.9 2-2V5c0-1.1-.9-2-2-2zM9 17H7v-7h2v7zm4 0h-2V7h2v10zm4 0h-2v-4h2v4z\"/>\n",
              "    </g>\n",
              "</svg>\n",
              "  </button>\n",
              "\n",
              "<style>\n",
              "  .colab-df-quickchart {\n",
              "      --bg-color: #E8F0FE;\n",
              "      --fill-color: #1967D2;\n",
              "      --hover-bg-color: #E2EBFA;\n",
              "      --hover-fill-color: #174EA6;\n",
              "      --disabled-fill-color: #AAA;\n",
              "      --disabled-bg-color: #DDD;\n",
              "  }\n",
              "\n",
              "  [theme=dark] .colab-df-quickchart {\n",
              "      --bg-color: #3B4455;\n",
              "      --fill-color: #D2E3FC;\n",
              "      --hover-bg-color: #434B5C;\n",
              "      --hover-fill-color: #FFFFFF;\n",
              "      --disabled-bg-color: #3B4455;\n",
              "      --disabled-fill-color: #666;\n",
              "  }\n",
              "\n",
              "  .colab-df-quickchart {\n",
              "    background-color: var(--bg-color);\n",
              "    border: none;\n",
              "    border-radius: 50%;\n",
              "    cursor: pointer;\n",
              "    display: none;\n",
              "    fill: var(--fill-color);\n",
              "    height: 32px;\n",
              "    padding: 0;\n",
              "    width: 32px;\n",
              "  }\n",
              "\n",
              "  .colab-df-quickchart:hover {\n",
              "    background-color: var(--hover-bg-color);\n",
              "    box-shadow: 0 1px 2px rgba(60, 64, 67, 0.3), 0 1px 3px 1px rgba(60, 64, 67, 0.15);\n",
              "    fill: var(--button-hover-fill-color);\n",
              "  }\n",
              "\n",
              "  .colab-df-quickchart-complete:disabled,\n",
              "  .colab-df-quickchart-complete:disabled:hover {\n",
              "    background-color: var(--disabled-bg-color);\n",
              "    fill: var(--disabled-fill-color);\n",
              "    box-shadow: none;\n",
              "  }\n",
              "\n",
              "  .colab-df-spinner {\n",
              "    border: 2px solid var(--fill-color);\n",
              "    border-color: transparent;\n",
              "    border-bottom-color: var(--fill-color);\n",
              "    animation:\n",
              "      spin 1s steps(1) infinite;\n",
              "  }\n",
              "\n",
              "  @keyframes spin {\n",
              "    0% {\n",
              "      border-color: transparent;\n",
              "      border-bottom-color: var(--fill-color);\n",
              "      border-left-color: var(--fill-color);\n",
              "    }\n",
              "    20% {\n",
              "      border-color: transparent;\n",
              "      border-left-color: var(--fill-color);\n",
              "      border-top-color: var(--fill-color);\n",
              "    }\n",
              "    30% {\n",
              "      border-color: transparent;\n",
              "      border-left-color: var(--fill-color);\n",
              "      border-top-color: var(--fill-color);\n",
              "      border-right-color: var(--fill-color);\n",
              "    }\n",
              "    40% {\n",
              "      border-color: transparent;\n",
              "      border-right-color: var(--fill-color);\n",
              "      border-top-color: var(--fill-color);\n",
              "    }\n",
              "    60% {\n",
              "      border-color: transparent;\n",
              "      border-right-color: var(--fill-color);\n",
              "    }\n",
              "    80% {\n",
              "      border-color: transparent;\n",
              "      border-right-color: var(--fill-color);\n",
              "      border-bottom-color: var(--fill-color);\n",
              "    }\n",
              "    90% {\n",
              "      border-color: transparent;\n",
              "      border-bottom-color: var(--fill-color);\n",
              "    }\n",
              "  }\n",
              "</style>\n",
              "\n",
              "  <script>\n",
              "    async function quickchart(key) {\n",
              "      const quickchartButtonEl =\n",
              "        document.querySelector('#' + key + ' button');\n",
              "      quickchartButtonEl.disabled = true;  // To prevent multiple clicks.\n",
              "      quickchartButtonEl.classList.add('colab-df-spinner');\n",
              "      try {\n",
              "        const charts = await google.colab.kernel.invokeFunction(\n",
              "            'suggestCharts', [key], {});\n",
              "      } catch (error) {\n",
              "        console.error('Error during call to suggestCharts:', error);\n",
              "      }\n",
              "      quickchartButtonEl.classList.remove('colab-df-spinner');\n",
              "      quickchartButtonEl.classList.add('colab-df-quickchart-complete');\n",
              "    }\n",
              "    (() => {\n",
              "      let quickchartButtonEl =\n",
              "        document.querySelector('#df-52522321-4b6e-42f7-8bfb-966e4933ef16 button');\n",
              "      quickchartButtonEl.style.display =\n",
              "        google.colab.kernel.accessAllowed ? 'block' : 'none';\n",
              "    })();\n",
              "  </script>\n",
              "</div>\n",
              "\n",
              "    </div>\n",
              "  </div>\n"
            ],
            "application/vnd.google.colaboratory.intrinsic+json": {
              "type": "dataframe"
            }
          },
          "metadata": {},
          "execution_count": 90
        }
      ]
    },
    {
      "cell_type": "code",
      "source": [
        "data['max_glu_serum'].value_counts()"
      ],
      "metadata": {
        "colab": {
          "base_uri": "https://localhost:8080/"
        },
        "id": "_aWKnGfU6sHd",
        "outputId": "72faf1a3-daed-42fa-ffa3-a5cb96b3c8b1"
      },
      "execution_count": null,
      "outputs": [
        {
          "output_type": "execute_result",
          "data": {
            "text/plain": [
              "max_glu_serum\n",
              "0    65807\n",
              "1     1698\n",
              "2      917\n",
              "3      654\n",
              "Name: count, dtype: int64"
            ]
          },
          "metadata": {},
          "execution_count": 91
        }
      ]
    },
    {
      "cell_type": "code",
      "source": [
        "data['A1Cresult'].value_counts()"
      ],
      "metadata": {
        "colab": {
          "base_uri": "https://localhost:8080/"
        },
        "id": "CePg9jtBMavi",
        "outputId": "1225d287-9eed-4a6e-f51d-d4d5fafe2b51"
      },
      "execution_count": null,
      "outputs": [
        {
          "output_type": "execute_result",
          "data": {
            "text/plain": [
              "A1Cresult\n",
              "0    56875\n",
              "3     5796\n",
              "1     3680\n",
              "2     2725\n",
              "Name: count, dtype: int64"
            ]
          },
          "metadata": {},
          "execution_count": 92
        }
      ]
    },
    {
      "cell_type": "markdown",
      "metadata": {
        "id": "zUFx41V1n9N-"
      },
      "source": [
        "Encoding done and ready for modelling"
      ]
    },
    {
      "cell_type": "code",
      "execution_count": null,
      "metadata": {
        "colab": {
          "base_uri": "https://localhost:8080/"
        },
        "id": "maDqwuQJN2lw",
        "outputId": "cd660a42-972d-470f-a252-19be13768d9f"
      },
      "outputs": [
        {
          "output_type": "execute_result",
          "data": {
            "text/plain": [
              "readmitted\n",
              "0    52009\n",
              "1    17067\n",
              "Name: count, dtype: int64"
            ]
          },
          "metadata": {},
          "execution_count": 93
        }
      ],
      "source": [
        "data['readmitted'].value_counts()"
      ]
    },
    {
      "cell_type": "code",
      "source": [
        "for i in cat_cols:\n",
        "  print('value count in',data[i].value_counts())\n"
      ],
      "metadata": {
        "colab": {
          "base_uri": "https://localhost:8080/"
        },
        "id": "MWR_A-xzL-hY",
        "outputId": "a3a2f0e2-a52f-44f1-a7b9-9cf55213ba2b"
      },
      "execution_count": null,
      "outputs": [
        {
          "output_type": "stream",
          "name": "stdout",
          "text": [
            "value count in race\n",
            "2    51649\n",
            "0    12473\n",
            "4     2972\n",
            "3     1484\n",
            "1      498\n",
            "Name: count, dtype: int64\n",
            "value count in age\n",
            "3    32891\n",
            "2    18826\n",
            "4    12948\n",
            "1     3737\n",
            "0      674\n",
            "Name: count, dtype: int64\n",
            "value count in admission_type_id\n",
            "1    48287\n",
            "0    13615\n",
            "2     7174\n",
            "Name: count, dtype: int64\n",
            "value count in discharge_disposition_id\n",
            "0    43397\n",
            "4    13775\n",
            "1     8531\n",
            "3     2962\n",
            "2      411\n",
            "Name: count, dtype: int64\n",
            "value count in admission_source_id\n",
            "0    37238\n",
            "2    21936\n",
            "3     4992\n",
            "1     4910\n",
            "Name: count, dtype: int64\n",
            "value count in diag_1\n",
            "0    20596\n",
            "7    12365\n",
            "8     9386\n",
            "2     6457\n",
            "1     5601\n",
            "4     4854\n",
            "5     3867\n",
            "3     3520\n",
            "6     2430\n",
            "Name: count, dtype: int64\n",
            "value count in metformin\n",
            "1    54661\n",
            "2    13195\n",
            "3      794\n",
            "0      426\n",
            "Name: count, dtype: int64\n",
            "value count in repaglinide\n",
            "1    68127\n",
            "2      841\n",
            "3       75\n",
            "0       33\n",
            "Name: count, dtype: int64\n",
            "value count in glipizide\n",
            "1    60425\n",
            "2     7766\n",
            "3      546\n",
            "0      339\n",
            "Name: count, dtype: int64\n",
            "value count in pioglitazone\n",
            "1    63940\n",
            "2     4888\n",
            "3      163\n",
            "0       85\n",
            "Name: count, dtype: int64\n",
            "value count in glimepiride\n",
            "1    65462\n",
            "2     3242\n",
            "3      237\n",
            "0      135\n",
            "Name: count, dtype: int64\n",
            "value count in rosiglitazone\n",
            "1    64743\n",
            "2     4139\n",
            "3      126\n",
            "0       68\n",
            "Name: count, dtype: int64\n",
            "value count in acarbose\n",
            "1    68893\n",
            "2      175\n",
            "3        7\n",
            "0        1\n",
            "Name: count, dtype: int64\n",
            "value count in insulin\n",
            "1    33313\n",
            "2    21455\n",
            "0     7425\n",
            "3     6883\n",
            "Name: count, dtype: int64\n",
            "value count in change\n",
            "1    37958\n",
            "0    31118\n",
            "Name: count, dtype: int64\n",
            "value count in diabetesMed\n",
            "1    52534\n",
            "0    16542\n",
            "Name: count, dtype: int64\n"
          ]
        }
      ]
    },
    {
      "cell_type": "markdown",
      "metadata": {
        "id": "LPDrKZs6qBpk"
      },
      "source": [
        "**Data Split**"
      ]
    },
    {
      "cell_type": "code",
      "execution_count": null,
      "metadata": {
        "id": "efzG5tlaoQzV"
      },
      "outputs": [],
      "source": [
        "X=data.drop('readmitted',axis=True)\n",
        "y=data['readmitted']"
      ]
    },
    {
      "cell_type": "code",
      "execution_count": null,
      "metadata": {
        "id": "lv12Lce3p1NA"
      },
      "outputs": [],
      "source": [
        "from sklearn.model_selection import train_test_split\n",
        "X_train,X_test,y_train,y_test=train_test_split(X,y,random_state=42,test_size=0.20)"
      ]
    },
    {
      "cell_type": "code",
      "source": [
        "X_test.T"
      ],
      "metadata": {
        "colab": {
          "base_uri": "https://localhost:8080/",
          "height": 831
        },
        "id": "drFeqVac3x2s",
        "outputId": "5b417fe4-32cf-4c8f-abe8-0931e76eb28f"
      },
      "execution_count": null,
      "outputs": [
        {
          "output_type": "execute_result",
          "data": {
            "text/plain": [
              "                          78304  2612   9271   84405  95288  23575  80076  \\\n",
              "race                        2.0    2.0    2.0    0.0    4.0    2.0    2.0   \n",
              "age                         4.0    4.0    3.0    1.0    3.0    3.0    2.0   \n",
              "admission_type_id           1.0    2.0    1.0    1.0    1.0    0.0    1.0   \n",
              "discharge_disposition_id    4.0    4.0    3.0    0.0    0.0    4.0    0.0   \n",
              "admission_source_id         0.0    3.0    0.0    0.0    3.0    3.0    0.0   \n",
              "time_in_hospital            5.0    5.0    3.0    3.0    4.0   14.0    2.0   \n",
              "num_lab_procedures         68.0   47.0   35.0   51.0   22.0   65.0   44.0   \n",
              "num_procedures              1.0    3.0    0.0    0.0    6.0    0.0    0.0   \n",
              "num_medications            22.0   10.0    9.0    7.0   27.0   18.0    9.0   \n",
              "diag_1                      0.0    1.0    7.0    1.0    0.0    7.0    7.0   \n",
              "number_diagnoses            9.0    6.0    7.0    5.0    9.0    9.0    6.0   \n",
              "max_glu_serum               0.0    0.0    0.0    0.0    0.0    0.0    0.0   \n",
              "A1Cresult                   1.0    0.0    0.0    0.0    0.0    0.0    3.0   \n",
              "metformin                   1.0    1.0    1.0    1.0    1.0    1.0    1.0   \n",
              "repaglinide                 1.0    1.0    1.0    1.0    1.0    1.0    1.0   \n",
              "glimepiride                 1.0    1.0    1.0    1.0    2.0    1.0    1.0   \n",
              "glipizide                   1.0    2.0    1.0    1.0    1.0    3.0    1.0   \n",
              "pioglitazone                1.0    1.0    1.0    1.0    1.0    1.0    2.0   \n",
              "rosiglitazone               1.0    1.0    1.0    1.0    1.0    1.0    1.0   \n",
              "acarbose                    1.0    1.0    1.0    1.0    1.0    1.0    1.0   \n",
              "insulin                     3.0    1.0    1.0    0.0    1.0    1.0    1.0   \n",
              "change                      0.0    1.0    1.0    0.0    1.0    0.0    1.0   \n",
              "diabetesMed                 1.0    1.0    0.0    1.0    1.0    1.0    1.0   \n",
              "preceding_year_visits       2.0    0.0    0.0    0.0    0.0    2.0    0.0   \n",
              "\n",
              "                          12974  46383  70814  ...  3243   47737  43728  \\\n",
              "race                        2.0    2.0    2.0  ...    2.0    0.0    2.0   \n",
              "age                         3.0    3.0    3.0  ...    3.0    1.0    2.0   \n",
              "admission_type_id           2.0    0.0    1.0  ...    2.0    1.0    1.0   \n",
              "discharge_disposition_id    0.0    0.0    0.0  ...    0.0    0.0    0.0   \n",
              "admission_source_id         1.0    2.0    0.0  ...    1.0    0.0    0.0   \n",
              "time_in_hospital            5.0    3.0    4.0  ...    5.0    5.0    3.0   \n",
              "num_lab_procedures         63.0   43.0   62.0  ...   25.0   42.0   57.0   \n",
              "num_procedures              0.0    2.0    0.0  ...    1.0    0.0    0.0   \n",
              "num_medications            15.0   22.0   13.0  ...    7.0    8.0   15.0   \n",
              "diag_1                      8.0    5.0    7.0  ...    2.0    8.0    8.0   \n",
              "number_diagnoses            7.0    7.0    9.0  ...    5.0    4.0    8.0   \n",
              "max_glu_serum               0.0    0.0    0.0  ...    2.0    0.0    0.0   \n",
              "A1Cresult                   0.0    0.0    0.0  ...    0.0    0.0    1.0   \n",
              "metformin                   1.0    2.0    1.0  ...    3.0    1.0    2.0   \n",
              "repaglinide                 1.0    1.0    1.0  ...    1.0    1.0    1.0   \n",
              "glimepiride                 1.0    2.0    1.0  ...    1.0    1.0    1.0   \n",
              "glipizide                   1.0    1.0    1.0  ...    1.0    1.0    1.0   \n",
              "pioglitazone                1.0    1.0    1.0  ...    1.0    1.0    1.0   \n",
              "rosiglitazone               1.0    1.0    1.0  ...    1.0    1.0    1.0   \n",
              "acarbose                    1.0    1.0    1.0  ...    1.0    1.0    1.0   \n",
              "insulin                     2.0    2.0    3.0  ...    1.0    1.0    2.0   \n",
              "change                      1.0    0.0    0.0  ...    0.0    1.0    0.0   \n",
              "diabetesMed                 1.0    1.0    1.0  ...    1.0    0.0    1.0   \n",
              "preceding_year_visits       0.0    0.0    1.0  ...    0.0    0.0    2.5   \n",
              "\n",
              "                          96067  73985  66515  80019  74345  99998  17220  \n",
              "race                        3.0    2.0    2.0    2.0    2.0    2.0    2.0  \n",
              "age                         3.0    4.0    3.0    3.0    4.0    3.0    1.0  \n",
              "admission_type_id           1.0    1.0    0.0    0.0    1.0    0.0    1.0  \n",
              "discharge_disposition_id    0.0    4.0    1.0    0.0    0.0    1.0    4.0  \n",
              "admission_source_id         0.0    0.0    2.0    2.0    0.0    2.0    0.0  \n",
              "time_in_hospital            5.0    4.0    3.0    9.0    7.0    5.0    1.0  \n",
              "num_lab_procedures         61.0   18.0    4.0   51.0   58.0   43.0   56.0  \n",
              "num_procedures              1.0    0.0    1.0    0.0    0.0    1.0    0.0  \n",
              "num_medications             8.0   14.0   11.0   19.0   17.0   17.0   11.0  \n",
              "diag_1                      2.0    3.0    5.0    7.0    2.0    5.0    4.0  \n",
              "number_diagnoses            5.0    9.0    4.0    7.0    9.0    5.0    6.0  \n",
              "max_glu_serum               0.0    0.0    0.0    0.0    0.0    0.0    0.0  \n",
              "A1Cresult                   3.0    0.0    0.0    2.0    0.0    0.0    0.0  \n",
              "metformin                   1.0    2.0    1.0    1.0    1.0    2.0    2.0  \n",
              "repaglinide                 1.0    1.0    1.0    1.0    1.0    1.0    1.0  \n",
              "glimepiride                 1.0    1.0    1.0    1.0    1.0    1.0    1.0  \n",
              "glipizide                   1.0    1.0    1.0    1.0    2.0    1.0    1.0  \n",
              "pioglitazone                2.0    1.0    1.0    2.0    2.0    1.0    1.0  \n",
              "rosiglitazone               1.0    1.0    1.0    1.0    1.0    1.0    1.0  \n",
              "acarbose                    1.0    1.0    1.0    1.0    1.0    1.0    1.0  \n",
              "insulin                     1.0    2.0    1.0    2.0    1.0    1.0    2.0  \n",
              "change                      1.0    0.0    1.0    0.0    0.0    1.0    0.0  \n",
              "diabetesMed                 1.0    1.0    0.0    1.0    1.0    1.0    1.0  \n",
              "preceding_year_visits       1.0    0.0    1.0    0.0    2.5    1.0    0.0  \n",
              "\n",
              "[24 rows x 13816 columns]"
            ],
            "text/html": [
              "\n",
              "  <div id=\"df-d15d4816-4a19-495a-979b-e39de5422550\" class=\"colab-df-container\">\n",
              "    <div>\n",
              "<style scoped>\n",
              "    .dataframe tbody tr th:only-of-type {\n",
              "        vertical-align: middle;\n",
              "    }\n",
              "\n",
              "    .dataframe tbody tr th {\n",
              "        vertical-align: top;\n",
              "    }\n",
              "\n",
              "    .dataframe thead th {\n",
              "        text-align: right;\n",
              "    }\n",
              "</style>\n",
              "<table border=\"1\" class=\"dataframe\">\n",
              "  <thead>\n",
              "    <tr style=\"text-align: right;\">\n",
              "      <th></th>\n",
              "      <th>78304</th>\n",
              "      <th>2612</th>\n",
              "      <th>9271</th>\n",
              "      <th>84405</th>\n",
              "      <th>95288</th>\n",
              "      <th>23575</th>\n",
              "      <th>80076</th>\n",
              "      <th>12974</th>\n",
              "      <th>46383</th>\n",
              "      <th>70814</th>\n",
              "      <th>...</th>\n",
              "      <th>3243</th>\n",
              "      <th>47737</th>\n",
              "      <th>43728</th>\n",
              "      <th>96067</th>\n",
              "      <th>73985</th>\n",
              "      <th>66515</th>\n",
              "      <th>80019</th>\n",
              "      <th>74345</th>\n",
              "      <th>99998</th>\n",
              "      <th>17220</th>\n",
              "    </tr>\n",
              "  </thead>\n",
              "  <tbody>\n",
              "    <tr>\n",
              "      <th>race</th>\n",
              "      <td>2.0</td>\n",
              "      <td>2.0</td>\n",
              "      <td>2.0</td>\n",
              "      <td>0.0</td>\n",
              "      <td>4.0</td>\n",
              "      <td>2.0</td>\n",
              "      <td>2.0</td>\n",
              "      <td>2.0</td>\n",
              "      <td>2.0</td>\n",
              "      <td>2.0</td>\n",
              "      <td>...</td>\n",
              "      <td>2.0</td>\n",
              "      <td>0.0</td>\n",
              "      <td>2.0</td>\n",
              "      <td>3.0</td>\n",
              "      <td>2.0</td>\n",
              "      <td>2.0</td>\n",
              "      <td>2.0</td>\n",
              "      <td>2.0</td>\n",
              "      <td>2.0</td>\n",
              "      <td>2.0</td>\n",
              "    </tr>\n",
              "    <tr>\n",
              "      <th>age</th>\n",
              "      <td>4.0</td>\n",
              "      <td>4.0</td>\n",
              "      <td>3.0</td>\n",
              "      <td>1.0</td>\n",
              "      <td>3.0</td>\n",
              "      <td>3.0</td>\n",
              "      <td>2.0</td>\n",
              "      <td>3.0</td>\n",
              "      <td>3.0</td>\n",
              "      <td>3.0</td>\n",
              "      <td>...</td>\n",
              "      <td>3.0</td>\n",
              "      <td>1.0</td>\n",
              "      <td>2.0</td>\n",
              "      <td>3.0</td>\n",
              "      <td>4.0</td>\n",
              "      <td>3.0</td>\n",
              "      <td>3.0</td>\n",
              "      <td>4.0</td>\n",
              "      <td>3.0</td>\n",
              "      <td>1.0</td>\n",
              "    </tr>\n",
              "    <tr>\n",
              "      <th>admission_type_id</th>\n",
              "      <td>1.0</td>\n",
              "      <td>2.0</td>\n",
              "      <td>1.0</td>\n",
              "      <td>1.0</td>\n",
              "      <td>1.0</td>\n",
              "      <td>0.0</td>\n",
              "      <td>1.0</td>\n",
              "      <td>2.0</td>\n",
              "      <td>0.0</td>\n",
              "      <td>1.0</td>\n",
              "      <td>...</td>\n",
              "      <td>2.0</td>\n",
              "      <td>1.0</td>\n",
              "      <td>1.0</td>\n",
              "      <td>1.0</td>\n",
              "      <td>1.0</td>\n",
              "      <td>0.0</td>\n",
              "      <td>0.0</td>\n",
              "      <td>1.0</td>\n",
              "      <td>0.0</td>\n",
              "      <td>1.0</td>\n",
              "    </tr>\n",
              "    <tr>\n",
              "      <th>discharge_disposition_id</th>\n",
              "      <td>4.0</td>\n",
              "      <td>4.0</td>\n",
              "      <td>3.0</td>\n",
              "      <td>0.0</td>\n",
              "      <td>0.0</td>\n",
              "      <td>4.0</td>\n",
              "      <td>0.0</td>\n",
              "      <td>0.0</td>\n",
              "      <td>0.0</td>\n",
              "      <td>0.0</td>\n",
              "      <td>...</td>\n",
              "      <td>0.0</td>\n",
              "      <td>0.0</td>\n",
              "      <td>0.0</td>\n",
              "      <td>0.0</td>\n",
              "      <td>4.0</td>\n",
              "      <td>1.0</td>\n",
              "      <td>0.0</td>\n",
              "      <td>0.0</td>\n",
              "      <td>1.0</td>\n",
              "      <td>4.0</td>\n",
              "    </tr>\n",
              "    <tr>\n",
              "      <th>admission_source_id</th>\n",
              "      <td>0.0</td>\n",
              "      <td>3.0</td>\n",
              "      <td>0.0</td>\n",
              "      <td>0.0</td>\n",
              "      <td>3.0</td>\n",
              "      <td>3.0</td>\n",
              "      <td>0.0</td>\n",
              "      <td>1.0</td>\n",
              "      <td>2.0</td>\n",
              "      <td>0.0</td>\n",
              "      <td>...</td>\n",
              "      <td>1.0</td>\n",
              "      <td>0.0</td>\n",
              "      <td>0.0</td>\n",
              "      <td>0.0</td>\n",
              "      <td>0.0</td>\n",
              "      <td>2.0</td>\n",
              "      <td>2.0</td>\n",
              "      <td>0.0</td>\n",
              "      <td>2.0</td>\n",
              "      <td>0.0</td>\n",
              "    </tr>\n",
              "    <tr>\n",
              "      <th>time_in_hospital</th>\n",
              "      <td>5.0</td>\n",
              "      <td>5.0</td>\n",
              "      <td>3.0</td>\n",
              "      <td>3.0</td>\n",
              "      <td>4.0</td>\n",
              "      <td>14.0</td>\n",
              "      <td>2.0</td>\n",
              "      <td>5.0</td>\n",
              "      <td>3.0</td>\n",
              "      <td>4.0</td>\n",
              "      <td>...</td>\n",
              "      <td>5.0</td>\n",
              "      <td>5.0</td>\n",
              "      <td>3.0</td>\n",
              "      <td>5.0</td>\n",
              "      <td>4.0</td>\n",
              "      <td>3.0</td>\n",
              "      <td>9.0</td>\n",
              "      <td>7.0</td>\n",
              "      <td>5.0</td>\n",
              "      <td>1.0</td>\n",
              "    </tr>\n",
              "    <tr>\n",
              "      <th>num_lab_procedures</th>\n",
              "      <td>68.0</td>\n",
              "      <td>47.0</td>\n",
              "      <td>35.0</td>\n",
              "      <td>51.0</td>\n",
              "      <td>22.0</td>\n",
              "      <td>65.0</td>\n",
              "      <td>44.0</td>\n",
              "      <td>63.0</td>\n",
              "      <td>43.0</td>\n",
              "      <td>62.0</td>\n",
              "      <td>...</td>\n",
              "      <td>25.0</td>\n",
              "      <td>42.0</td>\n",
              "      <td>57.0</td>\n",
              "      <td>61.0</td>\n",
              "      <td>18.0</td>\n",
              "      <td>4.0</td>\n",
              "      <td>51.0</td>\n",
              "      <td>58.0</td>\n",
              "      <td>43.0</td>\n",
              "      <td>56.0</td>\n",
              "    </tr>\n",
              "    <tr>\n",
              "      <th>num_procedures</th>\n",
              "      <td>1.0</td>\n",
              "      <td>3.0</td>\n",
              "      <td>0.0</td>\n",
              "      <td>0.0</td>\n",
              "      <td>6.0</td>\n",
              "      <td>0.0</td>\n",
              "      <td>0.0</td>\n",
              "      <td>0.0</td>\n",
              "      <td>2.0</td>\n",
              "      <td>0.0</td>\n",
              "      <td>...</td>\n",
              "      <td>1.0</td>\n",
              "      <td>0.0</td>\n",
              "      <td>0.0</td>\n",
              "      <td>1.0</td>\n",
              "      <td>0.0</td>\n",
              "      <td>1.0</td>\n",
              "      <td>0.0</td>\n",
              "      <td>0.0</td>\n",
              "      <td>1.0</td>\n",
              "      <td>0.0</td>\n",
              "    </tr>\n",
              "    <tr>\n",
              "      <th>num_medications</th>\n",
              "      <td>22.0</td>\n",
              "      <td>10.0</td>\n",
              "      <td>9.0</td>\n",
              "      <td>7.0</td>\n",
              "      <td>27.0</td>\n",
              "      <td>18.0</td>\n",
              "      <td>9.0</td>\n",
              "      <td>15.0</td>\n",
              "      <td>22.0</td>\n",
              "      <td>13.0</td>\n",
              "      <td>...</td>\n",
              "      <td>7.0</td>\n",
              "      <td>8.0</td>\n",
              "      <td>15.0</td>\n",
              "      <td>8.0</td>\n",
              "      <td>14.0</td>\n",
              "      <td>11.0</td>\n",
              "      <td>19.0</td>\n",
              "      <td>17.0</td>\n",
              "      <td>17.0</td>\n",
              "      <td>11.0</td>\n",
              "    </tr>\n",
              "    <tr>\n",
              "      <th>diag_1</th>\n",
              "      <td>0.0</td>\n",
              "      <td>1.0</td>\n",
              "      <td>7.0</td>\n",
              "      <td>1.0</td>\n",
              "      <td>0.0</td>\n",
              "      <td>7.0</td>\n",
              "      <td>7.0</td>\n",
              "      <td>8.0</td>\n",
              "      <td>5.0</td>\n",
              "      <td>7.0</td>\n",
              "      <td>...</td>\n",
              "      <td>2.0</td>\n",
              "      <td>8.0</td>\n",
              "      <td>8.0</td>\n",
              "      <td>2.0</td>\n",
              "      <td>3.0</td>\n",
              "      <td>5.0</td>\n",
              "      <td>7.0</td>\n",
              "      <td>2.0</td>\n",
              "      <td>5.0</td>\n",
              "      <td>4.0</td>\n",
              "    </tr>\n",
              "    <tr>\n",
              "      <th>number_diagnoses</th>\n",
              "      <td>9.0</td>\n",
              "      <td>6.0</td>\n",
              "      <td>7.0</td>\n",
              "      <td>5.0</td>\n",
              "      <td>9.0</td>\n",
              "      <td>9.0</td>\n",
              "      <td>6.0</td>\n",
              "      <td>7.0</td>\n",
              "      <td>7.0</td>\n",
              "      <td>9.0</td>\n",
              "      <td>...</td>\n",
              "      <td>5.0</td>\n",
              "      <td>4.0</td>\n",
              "      <td>8.0</td>\n",
              "      <td>5.0</td>\n",
              "      <td>9.0</td>\n",
              "      <td>4.0</td>\n",
              "      <td>7.0</td>\n",
              "      <td>9.0</td>\n",
              "      <td>5.0</td>\n",
              "      <td>6.0</td>\n",
              "    </tr>\n",
              "    <tr>\n",
              "      <th>max_glu_serum</th>\n",
              "      <td>0.0</td>\n",
              "      <td>0.0</td>\n",
              "      <td>0.0</td>\n",
              "      <td>0.0</td>\n",
              "      <td>0.0</td>\n",
              "      <td>0.0</td>\n",
              "      <td>0.0</td>\n",
              "      <td>0.0</td>\n",
              "      <td>0.0</td>\n",
              "      <td>0.0</td>\n",
              "      <td>...</td>\n",
              "      <td>2.0</td>\n",
              "      <td>0.0</td>\n",
              "      <td>0.0</td>\n",
              "      <td>0.0</td>\n",
              "      <td>0.0</td>\n",
              "      <td>0.0</td>\n",
              "      <td>0.0</td>\n",
              "      <td>0.0</td>\n",
              "      <td>0.0</td>\n",
              "      <td>0.0</td>\n",
              "    </tr>\n",
              "    <tr>\n",
              "      <th>A1Cresult</th>\n",
              "      <td>1.0</td>\n",
              "      <td>0.0</td>\n",
              "      <td>0.0</td>\n",
              "      <td>0.0</td>\n",
              "      <td>0.0</td>\n",
              "      <td>0.0</td>\n",
              "      <td>3.0</td>\n",
              "      <td>0.0</td>\n",
              "      <td>0.0</td>\n",
              "      <td>0.0</td>\n",
              "      <td>...</td>\n",
              "      <td>0.0</td>\n",
              "      <td>0.0</td>\n",
              "      <td>1.0</td>\n",
              "      <td>3.0</td>\n",
              "      <td>0.0</td>\n",
              "      <td>0.0</td>\n",
              "      <td>2.0</td>\n",
              "      <td>0.0</td>\n",
              "      <td>0.0</td>\n",
              "      <td>0.0</td>\n",
              "    </tr>\n",
              "    <tr>\n",
              "      <th>metformin</th>\n",
              "      <td>1.0</td>\n",
              "      <td>1.0</td>\n",
              "      <td>1.0</td>\n",
              "      <td>1.0</td>\n",
              "      <td>1.0</td>\n",
              "      <td>1.0</td>\n",
              "      <td>1.0</td>\n",
              "      <td>1.0</td>\n",
              "      <td>2.0</td>\n",
              "      <td>1.0</td>\n",
              "      <td>...</td>\n",
              "      <td>3.0</td>\n",
              "      <td>1.0</td>\n",
              "      <td>2.0</td>\n",
              "      <td>1.0</td>\n",
              "      <td>2.0</td>\n",
              "      <td>1.0</td>\n",
              "      <td>1.0</td>\n",
              "      <td>1.0</td>\n",
              "      <td>2.0</td>\n",
              "      <td>2.0</td>\n",
              "    </tr>\n",
              "    <tr>\n",
              "      <th>repaglinide</th>\n",
              "      <td>1.0</td>\n",
              "      <td>1.0</td>\n",
              "      <td>1.0</td>\n",
              "      <td>1.0</td>\n",
              "      <td>1.0</td>\n",
              "      <td>1.0</td>\n",
              "      <td>1.0</td>\n",
              "      <td>1.0</td>\n",
              "      <td>1.0</td>\n",
              "      <td>1.0</td>\n",
              "      <td>...</td>\n",
              "      <td>1.0</td>\n",
              "      <td>1.0</td>\n",
              "      <td>1.0</td>\n",
              "      <td>1.0</td>\n",
              "      <td>1.0</td>\n",
              "      <td>1.0</td>\n",
              "      <td>1.0</td>\n",
              "      <td>1.0</td>\n",
              "      <td>1.0</td>\n",
              "      <td>1.0</td>\n",
              "    </tr>\n",
              "    <tr>\n",
              "      <th>glimepiride</th>\n",
              "      <td>1.0</td>\n",
              "      <td>1.0</td>\n",
              "      <td>1.0</td>\n",
              "      <td>1.0</td>\n",
              "      <td>2.0</td>\n",
              "      <td>1.0</td>\n",
              "      <td>1.0</td>\n",
              "      <td>1.0</td>\n",
              "      <td>2.0</td>\n",
              "      <td>1.0</td>\n",
              "      <td>...</td>\n",
              "      <td>1.0</td>\n",
              "      <td>1.0</td>\n",
              "      <td>1.0</td>\n",
              "      <td>1.0</td>\n",
              "      <td>1.0</td>\n",
              "      <td>1.0</td>\n",
              "      <td>1.0</td>\n",
              "      <td>1.0</td>\n",
              "      <td>1.0</td>\n",
              "      <td>1.0</td>\n",
              "    </tr>\n",
              "    <tr>\n",
              "      <th>glipizide</th>\n",
              "      <td>1.0</td>\n",
              "      <td>2.0</td>\n",
              "      <td>1.0</td>\n",
              "      <td>1.0</td>\n",
              "      <td>1.0</td>\n",
              "      <td>3.0</td>\n",
              "      <td>1.0</td>\n",
              "      <td>1.0</td>\n",
              "      <td>1.0</td>\n",
              "      <td>1.0</td>\n",
              "      <td>...</td>\n",
              "      <td>1.0</td>\n",
              "      <td>1.0</td>\n",
              "      <td>1.0</td>\n",
              "      <td>1.0</td>\n",
              "      <td>1.0</td>\n",
              "      <td>1.0</td>\n",
              "      <td>1.0</td>\n",
              "      <td>2.0</td>\n",
              "      <td>1.0</td>\n",
              "      <td>1.0</td>\n",
              "    </tr>\n",
              "    <tr>\n",
              "      <th>pioglitazone</th>\n",
              "      <td>1.0</td>\n",
              "      <td>1.0</td>\n",
              "      <td>1.0</td>\n",
              "      <td>1.0</td>\n",
              "      <td>1.0</td>\n",
              "      <td>1.0</td>\n",
              "      <td>2.0</td>\n",
              "      <td>1.0</td>\n",
              "      <td>1.0</td>\n",
              "      <td>1.0</td>\n",
              "      <td>...</td>\n",
              "      <td>1.0</td>\n",
              "      <td>1.0</td>\n",
              "      <td>1.0</td>\n",
              "      <td>2.0</td>\n",
              "      <td>1.0</td>\n",
              "      <td>1.0</td>\n",
              "      <td>2.0</td>\n",
              "      <td>2.0</td>\n",
              "      <td>1.0</td>\n",
              "      <td>1.0</td>\n",
              "    </tr>\n",
              "    <tr>\n",
              "      <th>rosiglitazone</th>\n",
              "      <td>1.0</td>\n",
              "      <td>1.0</td>\n",
              "      <td>1.0</td>\n",
              "      <td>1.0</td>\n",
              "      <td>1.0</td>\n",
              "      <td>1.0</td>\n",
              "      <td>1.0</td>\n",
              "      <td>1.0</td>\n",
              "      <td>1.0</td>\n",
              "      <td>1.0</td>\n",
              "      <td>...</td>\n",
              "      <td>1.0</td>\n",
              "      <td>1.0</td>\n",
              "      <td>1.0</td>\n",
              "      <td>1.0</td>\n",
              "      <td>1.0</td>\n",
              "      <td>1.0</td>\n",
              "      <td>1.0</td>\n",
              "      <td>1.0</td>\n",
              "      <td>1.0</td>\n",
              "      <td>1.0</td>\n",
              "    </tr>\n",
              "    <tr>\n",
              "      <th>acarbose</th>\n",
              "      <td>1.0</td>\n",
              "      <td>1.0</td>\n",
              "      <td>1.0</td>\n",
              "      <td>1.0</td>\n",
              "      <td>1.0</td>\n",
              "      <td>1.0</td>\n",
              "      <td>1.0</td>\n",
              "      <td>1.0</td>\n",
              "      <td>1.0</td>\n",
              "      <td>1.0</td>\n",
              "      <td>...</td>\n",
              "      <td>1.0</td>\n",
              "      <td>1.0</td>\n",
              "      <td>1.0</td>\n",
              "      <td>1.0</td>\n",
              "      <td>1.0</td>\n",
              "      <td>1.0</td>\n",
              "      <td>1.0</td>\n",
              "      <td>1.0</td>\n",
              "      <td>1.0</td>\n",
              "      <td>1.0</td>\n",
              "    </tr>\n",
              "    <tr>\n",
              "      <th>insulin</th>\n",
              "      <td>3.0</td>\n",
              "      <td>1.0</td>\n",
              "      <td>1.0</td>\n",
              "      <td>0.0</td>\n",
              "      <td>1.0</td>\n",
              "      <td>1.0</td>\n",
              "      <td>1.0</td>\n",
              "      <td>2.0</td>\n",
              "      <td>2.0</td>\n",
              "      <td>3.0</td>\n",
              "      <td>...</td>\n",
              "      <td>1.0</td>\n",
              "      <td>1.0</td>\n",
              "      <td>2.0</td>\n",
              "      <td>1.0</td>\n",
              "      <td>2.0</td>\n",
              "      <td>1.0</td>\n",
              "      <td>2.0</td>\n",
              "      <td>1.0</td>\n",
              "      <td>1.0</td>\n",
              "      <td>2.0</td>\n",
              "    </tr>\n",
              "    <tr>\n",
              "      <th>change</th>\n",
              "      <td>0.0</td>\n",
              "      <td>1.0</td>\n",
              "      <td>1.0</td>\n",
              "      <td>0.0</td>\n",
              "      <td>1.0</td>\n",
              "      <td>0.0</td>\n",
              "      <td>1.0</td>\n",
              "      <td>1.0</td>\n",
              "      <td>0.0</td>\n",
              "      <td>0.0</td>\n",
              "      <td>...</td>\n",
              "      <td>0.0</td>\n",
              "      <td>1.0</td>\n",
              "      <td>0.0</td>\n",
              "      <td>1.0</td>\n",
              "      <td>0.0</td>\n",
              "      <td>1.0</td>\n",
              "      <td>0.0</td>\n",
              "      <td>0.0</td>\n",
              "      <td>1.0</td>\n",
              "      <td>0.0</td>\n",
              "    </tr>\n",
              "    <tr>\n",
              "      <th>diabetesMed</th>\n",
              "      <td>1.0</td>\n",
              "      <td>1.0</td>\n",
              "      <td>0.0</td>\n",
              "      <td>1.0</td>\n",
              "      <td>1.0</td>\n",
              "      <td>1.0</td>\n",
              "      <td>1.0</td>\n",
              "      <td>1.0</td>\n",
              "      <td>1.0</td>\n",
              "      <td>1.0</td>\n",
              "      <td>...</td>\n",
              "      <td>1.0</td>\n",
              "      <td>0.0</td>\n",
              "      <td>1.0</td>\n",
              "      <td>1.0</td>\n",
              "      <td>1.0</td>\n",
              "      <td>0.0</td>\n",
              "      <td>1.0</td>\n",
              "      <td>1.0</td>\n",
              "      <td>1.0</td>\n",
              "      <td>1.0</td>\n",
              "    </tr>\n",
              "    <tr>\n",
              "      <th>preceding_year_visits</th>\n",
              "      <td>2.0</td>\n",
              "      <td>0.0</td>\n",
              "      <td>0.0</td>\n",
              "      <td>0.0</td>\n",
              "      <td>0.0</td>\n",
              "      <td>2.0</td>\n",
              "      <td>0.0</td>\n",
              "      <td>0.0</td>\n",
              "      <td>0.0</td>\n",
              "      <td>1.0</td>\n",
              "      <td>...</td>\n",
              "      <td>0.0</td>\n",
              "      <td>0.0</td>\n",
              "      <td>2.5</td>\n",
              "      <td>1.0</td>\n",
              "      <td>0.0</td>\n",
              "      <td>1.0</td>\n",
              "      <td>0.0</td>\n",
              "      <td>2.5</td>\n",
              "      <td>1.0</td>\n",
              "      <td>0.0</td>\n",
              "    </tr>\n",
              "  </tbody>\n",
              "</table>\n",
              "<p>24 rows × 13816 columns</p>\n",
              "</div>\n",
              "    <div class=\"colab-df-buttons\">\n",
              "\n",
              "  <div class=\"colab-df-container\">\n",
              "    <button class=\"colab-df-convert\" onclick=\"convertToInteractive('df-d15d4816-4a19-495a-979b-e39de5422550')\"\n",
              "            title=\"Convert this dataframe to an interactive table.\"\n",
              "            style=\"display:none;\">\n",
              "\n",
              "  <svg xmlns=\"http://www.w3.org/2000/svg\" height=\"24px\" viewBox=\"0 -960 960 960\">\n",
              "    <path d=\"M120-120v-720h720v720H120Zm60-500h600v-160H180v160Zm220 220h160v-160H400v160Zm0 220h160v-160H400v160ZM180-400h160v-160H180v160Zm440 0h160v-160H620v160ZM180-180h160v-160H180v160Zm440 0h160v-160H620v160Z\"/>\n",
              "  </svg>\n",
              "    </button>\n",
              "\n",
              "  <style>\n",
              "    .colab-df-container {\n",
              "      display:flex;\n",
              "      gap: 12px;\n",
              "    }\n",
              "\n",
              "    .colab-df-convert {\n",
              "      background-color: #E8F0FE;\n",
              "      border: none;\n",
              "      border-radius: 50%;\n",
              "      cursor: pointer;\n",
              "      display: none;\n",
              "      fill: #1967D2;\n",
              "      height: 32px;\n",
              "      padding: 0 0 0 0;\n",
              "      width: 32px;\n",
              "    }\n",
              "\n",
              "    .colab-df-convert:hover {\n",
              "      background-color: #E2EBFA;\n",
              "      box-shadow: 0px 1px 2px rgba(60, 64, 67, 0.3), 0px 1px 3px 1px rgba(60, 64, 67, 0.15);\n",
              "      fill: #174EA6;\n",
              "    }\n",
              "\n",
              "    .colab-df-buttons div {\n",
              "      margin-bottom: 4px;\n",
              "    }\n",
              "\n",
              "    [theme=dark] .colab-df-convert {\n",
              "      background-color: #3B4455;\n",
              "      fill: #D2E3FC;\n",
              "    }\n",
              "\n",
              "    [theme=dark] .colab-df-convert:hover {\n",
              "      background-color: #434B5C;\n",
              "      box-shadow: 0px 1px 3px 1px rgba(0, 0, 0, 0.15);\n",
              "      filter: drop-shadow(0px 1px 2px rgba(0, 0, 0, 0.3));\n",
              "      fill: #FFFFFF;\n",
              "    }\n",
              "  </style>\n",
              "\n",
              "    <script>\n",
              "      const buttonEl =\n",
              "        document.querySelector('#df-d15d4816-4a19-495a-979b-e39de5422550 button.colab-df-convert');\n",
              "      buttonEl.style.display =\n",
              "        google.colab.kernel.accessAllowed ? 'block' : 'none';\n",
              "\n",
              "      async function convertToInteractive(key) {\n",
              "        const element = document.querySelector('#df-d15d4816-4a19-495a-979b-e39de5422550');\n",
              "        const dataTable =\n",
              "          await google.colab.kernel.invokeFunction('convertToInteractive',\n",
              "                                                    [key], {});\n",
              "        if (!dataTable) return;\n",
              "\n",
              "        const docLinkHtml = 'Like what you see? Visit the ' +\n",
              "          '<a target=\"_blank\" href=https://colab.research.google.com/notebooks/data_table.ipynb>data table notebook</a>'\n",
              "          + ' to learn more about interactive tables.';\n",
              "        element.innerHTML = '';\n",
              "        dataTable['output_type'] = 'display_data';\n",
              "        await google.colab.output.renderOutput(dataTable, element);\n",
              "        const docLink = document.createElement('div');\n",
              "        docLink.innerHTML = docLinkHtml;\n",
              "        element.appendChild(docLink);\n",
              "      }\n",
              "    </script>\n",
              "  </div>\n",
              "\n",
              "\n",
              "<div id=\"df-2119c3de-1ed5-422c-b094-34ebefe720a9\">\n",
              "  <button class=\"colab-df-quickchart\" onclick=\"quickchart('df-2119c3de-1ed5-422c-b094-34ebefe720a9')\"\n",
              "            title=\"Suggest charts\"\n",
              "            style=\"display:none;\">\n",
              "\n",
              "<svg xmlns=\"http://www.w3.org/2000/svg\" height=\"24px\"viewBox=\"0 0 24 24\"\n",
              "     width=\"24px\">\n",
              "    <g>\n",
              "        <path d=\"M19 3H5c-1.1 0-2 .9-2 2v14c0 1.1.9 2 2 2h14c1.1 0 2-.9 2-2V5c0-1.1-.9-2-2-2zM9 17H7v-7h2v7zm4 0h-2V7h2v10zm4 0h-2v-4h2v4z\"/>\n",
              "    </g>\n",
              "</svg>\n",
              "  </button>\n",
              "\n",
              "<style>\n",
              "  .colab-df-quickchart {\n",
              "      --bg-color: #E8F0FE;\n",
              "      --fill-color: #1967D2;\n",
              "      --hover-bg-color: #E2EBFA;\n",
              "      --hover-fill-color: #174EA6;\n",
              "      --disabled-fill-color: #AAA;\n",
              "      --disabled-bg-color: #DDD;\n",
              "  }\n",
              "\n",
              "  [theme=dark] .colab-df-quickchart {\n",
              "      --bg-color: #3B4455;\n",
              "      --fill-color: #D2E3FC;\n",
              "      --hover-bg-color: #434B5C;\n",
              "      --hover-fill-color: #FFFFFF;\n",
              "      --disabled-bg-color: #3B4455;\n",
              "      --disabled-fill-color: #666;\n",
              "  }\n",
              "\n",
              "  .colab-df-quickchart {\n",
              "    background-color: var(--bg-color);\n",
              "    border: none;\n",
              "    border-radius: 50%;\n",
              "    cursor: pointer;\n",
              "    display: none;\n",
              "    fill: var(--fill-color);\n",
              "    height: 32px;\n",
              "    padding: 0;\n",
              "    width: 32px;\n",
              "  }\n",
              "\n",
              "  .colab-df-quickchart:hover {\n",
              "    background-color: var(--hover-bg-color);\n",
              "    box-shadow: 0 1px 2px rgba(60, 64, 67, 0.3), 0 1px 3px 1px rgba(60, 64, 67, 0.15);\n",
              "    fill: var(--button-hover-fill-color);\n",
              "  }\n",
              "\n",
              "  .colab-df-quickchart-complete:disabled,\n",
              "  .colab-df-quickchart-complete:disabled:hover {\n",
              "    background-color: var(--disabled-bg-color);\n",
              "    fill: var(--disabled-fill-color);\n",
              "    box-shadow: none;\n",
              "  }\n",
              "\n",
              "  .colab-df-spinner {\n",
              "    border: 2px solid var(--fill-color);\n",
              "    border-color: transparent;\n",
              "    border-bottom-color: var(--fill-color);\n",
              "    animation:\n",
              "      spin 1s steps(1) infinite;\n",
              "  }\n",
              "\n",
              "  @keyframes spin {\n",
              "    0% {\n",
              "      border-color: transparent;\n",
              "      border-bottom-color: var(--fill-color);\n",
              "      border-left-color: var(--fill-color);\n",
              "    }\n",
              "    20% {\n",
              "      border-color: transparent;\n",
              "      border-left-color: var(--fill-color);\n",
              "      border-top-color: var(--fill-color);\n",
              "    }\n",
              "    30% {\n",
              "      border-color: transparent;\n",
              "      border-left-color: var(--fill-color);\n",
              "      border-top-color: var(--fill-color);\n",
              "      border-right-color: var(--fill-color);\n",
              "    }\n",
              "    40% {\n",
              "      border-color: transparent;\n",
              "      border-right-color: var(--fill-color);\n",
              "      border-top-color: var(--fill-color);\n",
              "    }\n",
              "    60% {\n",
              "      border-color: transparent;\n",
              "      border-right-color: var(--fill-color);\n",
              "    }\n",
              "    80% {\n",
              "      border-color: transparent;\n",
              "      border-right-color: var(--fill-color);\n",
              "      border-bottom-color: var(--fill-color);\n",
              "    }\n",
              "    90% {\n",
              "      border-color: transparent;\n",
              "      border-bottom-color: var(--fill-color);\n",
              "    }\n",
              "  }\n",
              "</style>\n",
              "\n",
              "  <script>\n",
              "    async function quickchart(key) {\n",
              "      const quickchartButtonEl =\n",
              "        document.querySelector('#' + key + ' button');\n",
              "      quickchartButtonEl.disabled = true;  // To prevent multiple clicks.\n",
              "      quickchartButtonEl.classList.add('colab-df-spinner');\n",
              "      try {\n",
              "        const charts = await google.colab.kernel.invokeFunction(\n",
              "            'suggestCharts', [key], {});\n",
              "      } catch (error) {\n",
              "        console.error('Error during call to suggestCharts:', error);\n",
              "      }\n",
              "      quickchartButtonEl.classList.remove('colab-df-spinner');\n",
              "      quickchartButtonEl.classList.add('colab-df-quickchart-complete');\n",
              "    }\n",
              "    (() => {\n",
              "      let quickchartButtonEl =\n",
              "        document.querySelector('#df-2119c3de-1ed5-422c-b094-34ebefe720a9 button');\n",
              "      quickchartButtonEl.style.display =\n",
              "        google.colab.kernel.accessAllowed ? 'block' : 'none';\n",
              "    })();\n",
              "  </script>\n",
              "</div>\n",
              "\n",
              "    </div>\n",
              "  </div>\n"
            ],
            "application/vnd.google.colaboratory.intrinsic+json": {
              "type": "dataframe"
            }
          },
          "metadata": {},
          "execution_count": 97
        }
      ]
    },
    {
      "cell_type": "markdown",
      "metadata": {
        "id": "5XVnaDJBrQtO"
      },
      "source": [
        "Standardizing using StandardScaler"
      ]
    },
    {
      "cell_type": "code",
      "source": [
        "from sklearn.preprocessing import StandardScaler\n",
        "sc=StandardScaler()\n",
        "x_train=sc.fit_transform(X_train)\n",
        "x_test=sc.fit_transform(X_test)\n",
        "\n",
        "x_train=pd.DataFrame(x_train,columns=X.columns)\n",
        "x_test=pd.DataFrame(x_test,columns=X.columns)"
      ],
      "metadata": {
        "id": "o7xt_5T78kte"
      },
      "execution_count": null,
      "outputs": []
    },
    {
      "cell_type": "markdown",
      "metadata": {
        "id": "0sq8kSxeMU79"
      },
      "source": [
        "**Random Forest Classifier**"
      ]
    },
    {
      "cell_type": "code",
      "source": [
        "from sklearn.ensemble import RandomForestClassifier\n",
        "from sklearn.metrics import accuracy_score,confusion_matrix,recall_score,f1_score,precision_score\n",
        "rfc=RandomForestClassifier(n_estimators=100,max_depth=11,criterion='gini',min_samples_split=5,random_state=42)\n",
        "rfc.fit(x_train,y_train)\n",
        "y_pred=rfc.predict(x_test)\n",
        "print(\"Accuracy : \",accuracy_score(y_test,y_pred))\n",
        "print(\"recall :\",recall_score(y_test,y_pred))\n",
        "print(\"F1 :\",f1_score(y_test,y_pred))\n",
        "print(\"Precision :\",precision_score(y_test,y_pred))\n",
        "print(\"Confusion matrix : \",confusion_matrix(y_test,y_pred))"
      ],
      "metadata": {
        "colab": {
          "base_uri": "https://localhost:8080/"
        },
        "id": "zfat1Qv6wAFf",
        "outputId": "dd3bedca-d41c-4653-a3d5-4e473c62da5a"
      },
      "execution_count": null,
      "outputs": [
        {
          "output_type": "stream",
          "name": "stdout",
          "text": [
            "Accuracy :  0.753329473074696\n",
            "recall : 0.04176267281105991\n",
            "F1 : 0.07842076798269335\n",
            "Precision : 0.6415929203539823\n",
            "Confusion matrix :  [[10263    81]\n",
            " [ 3327   145]]\n"
          ]
        }
      ]
    },
    {
      "cell_type": "markdown",
      "source": [
        "Using Fine Tuned Random Forest Classifier to predict the Readmission of Diabetic Patients"
      ],
      "metadata": {
        "id": "iedfIemygV2u"
      }
    },
    {
      "cell_type": "code",
      "source": [
        "y_pred"
      ],
      "metadata": {
        "colab": {
          "base_uri": "https://localhost:8080/"
        },
        "id": "ozL2p9b2U4dy",
        "outputId": "5c945ee2-3151-4a9a-9b36-19eabe57b536"
      },
      "execution_count": null,
      "outputs": [
        {
          "output_type": "execute_result",
          "data": {
            "text/plain": [
              "array([0, 0, 0, ..., 0, 0, 0])"
            ]
          },
          "metadata": {},
          "execution_count": 100
        }
      ]
    },
    {
      "cell_type": "code",
      "source": [
        "prediction=rfc.predict([[2,4,1,0,0,3,58,0,18,0,9,0,2,1,1,2,1,1,1,0,0,0,1,1]])\n",
        "print(prediction[0])"
      ],
      "metadata": {
        "colab": {
          "base_uri": "https://localhost:8080/"
        },
        "id": "ROH4Oppb8ORA",
        "outputId": "f6b6ac75-ed29-4771-cc19-b0b7f2d4ae1f"
      },
      "execution_count": null,
      "outputs": [
        {
          "output_type": "stream",
          "name": "stdout",
          "text": [
            "0\n"
          ]
        }
      ]
    },
    {
      "cell_type": "code",
      "source": [
        "prediction=rfc.predict([[2,1,3,1,1,0,4,2,1,11,4,6,0,0,2,1,1,1,1,0,1,1,1,1]])\n",
        "print(prediction[0])"
      ],
      "metadata": {
        "colab": {
          "base_uri": "https://localhost:8080/"
        },
        "id": "atWFW_egbcdd",
        "outputId": "2eff0bc5-fccf-49fb-8b52-360209e06f46"
      },
      "execution_count": null,
      "outputs": [
        {
          "output_type": "stream",
          "name": "stdout",
          "text": [
            "0\n"
          ]
        }
      ]
    },
    {
      "cell_type": "code",
      "source": [
        "prediction=rfc.predict([[4,3,1,0,0,2,46,6,17,4,9,0,0,1,1,1,1,1,1,1,2,1,1,2.5]])\n",
        "print(prediction[0])"
      ],
      "metadata": {
        "colab": {
          "base_uri": "https://localhost:8080/"
        },
        "id": "raQbDa6TmMwe",
        "outputId": "7cab6ab9-5d6c-42d0-d5dd-44866397eb7e"
      },
      "execution_count": null,
      "outputs": [
        {
          "output_type": "stream",
          "name": "stdout",
          "text": [
            "1\n"
          ]
        }
      ]
    },
    {
      "cell_type": "code",
      "source": [
        "prediction=rfc.predict([[0,1,1,0,0,3,51,0,7,1,5,0,0,1,1,1,1,1,11,1,0,0,1,0]])\n",
        "print(prediction[0])"
      ],
      "metadata": {
        "colab": {
          "base_uri": "https://localhost:8080/"
        },
        "id": "DmWs53QSnxN6",
        "outputId": "fdee18cb-8ba4-4c1c-cdff-81e531cfee40"
      },
      "execution_count": null,
      "outputs": [
        {
          "output_type": "stream",
          "name": "stdout",
          "text": [
            "0\n"
          ]
        }
      ]
    },
    {
      "cell_type": "code",
      "source": [
        "prediction=rfc.predict([[2,3,1,1,2,9,2,0,17,0,9,0,0,1,1,1,2,1,1,1,1,1,1,2]])\n",
        "print(prediction[0])"
      ],
      "metadata": {
        "colab": {
          "base_uri": "https://localhost:8080/"
        },
        "id": "ngWR9RxNpbVX",
        "outputId": "a8e101f1-56ad-4982-acfd-3893bc8edeb2"
      },
      "execution_count": null,
      "outputs": [
        {
          "output_type": "stream",
          "name": "stdout",
          "text": [
            "0\n"
          ]
        }
      ]
    },
    {
      "cell_type": "code",
      "source": [
        "prediction=rfc.predict([[2,3,2,0,1,13,96,4,35,8,9,0,0,1,1,1,1,1,1,1,2,1,1,2.5]])\n",
        "print(prediction[0])"
      ],
      "metadata": {
        "colab": {
          "base_uri": "https://localhost:8080/"
        },
        "id": "eMkzrVBS7FLx",
        "outputId": "d9dfef50-20c3-4bd6-9b98-9630295ebdad"
      },
      "execution_count": null,
      "outputs": [
        {
          "output_type": "stream",
          "name": "stdout",
          "text": [
            "1\n"
          ]
        }
      ]
    },
    {
      "cell_type": "code",
      "source": [
        "# import pickle to write the predicted model to load into VS Code as model_file\n",
        "import pickle\n",
        "with open('readmission.pkl','wb') as model_file:\n",
        "  pickle.dump(rfc,model_file)"
      ],
      "metadata": {
        "id": "r-GL5I458-AU"
      },
      "execution_count": null,
      "outputs": []
    },
    {
      "cell_type": "code",
      "source": [
        "diabetic=pickle.load(open('readmission.pkl','rb'))  # open in a new variable, this code will be used in VS Code to read the pickle file"
      ],
      "metadata": {
        "id": "eteY2szt9CV-"
      },
      "execution_count": null,
      "outputs": []
    }
  ],
  "metadata": {
    "colab": {
      "provenance": []
    },
    "kernelspec": {
      "display_name": "Python 3",
      "name": "python3"
    },
    "language_info": {
      "name": "python"
    }
  },
  "nbformat": 4,
  "nbformat_minor": 0
}